{
  "nbformat": 4,
  "nbformat_minor": 0,
  "metadata": {
    "colab": {
      "provenance": []
    },
    "kernelspec": {
      "name": "python3",
      "display_name": "Python 3"
    },
    "language_info": {
      "name": "python"
    },
    "accelerator": "GPU"
  },
  "cells": [
    {
      "cell_type": "code",
      "execution_count": null,
      "metadata": {
        "id": "-1NlVYESdVGa"
      },
      "outputs": [],
      "source": [
        "import pandas as pd\n",
        "import numpy as np\n",
        "import matplotlib.pyplot as plt\n",
        "%matplotlib inline"
      ]
    },
    {
      "cell_type": "code",
      "source": [
        "df = pd.read_csv('AMZN.csv', parse_dates=True, index_col='Date')"
      ],
      "metadata": {
        "id": "Vdr7a9lftudG"
      },
      "execution_count": null,
      "outputs": []
    },
    {
      "cell_type": "code",
      "source": [
        "df.head()"
      ],
      "metadata": {
        "colab": {
          "base_uri": "https://localhost:8080/",
          "height": 237
        },
        "id": "v56X9YIEJIoH",
        "outputId": "deca7343-a280-408b-9400-8d430ed47987"
      },
      "execution_count": null,
      "outputs": [
        {
          "output_type": "execute_result",
          "data": {
            "text/plain": [
              "                  Open        High         Low       Close   Adj Close  \\\n",
              "Date                                                                     \n",
              "2021-10-07  164.576996  166.287506  164.153000  165.121506  165.121506   \n",
              "2021-10-08  165.850006  166.071503  164.410004  164.431000  164.431000   \n",
              "2021-10-11  163.750000  164.629501  161.904999  162.315002  162.315002   \n",
              "2021-10-12  162.850006  163.376495  161.813995  162.366501  162.366501   \n",
              "2021-10-13  163.485504  164.419006  163.054504  164.214005  164.214005   \n",
              "\n",
              "              Volume  \n",
              "Date                  \n",
              "2021-10-07  48182000  \n",
              "2021-10-08  39964000  \n",
              "2021-10-11  40684000  \n",
              "2021-10-12  36392000  \n",
              "2021-10-13  48402000  "
            ],
            "text/html": [
              "\n",
              "  <div id=\"df-b20fd9dd-ab17-46e6-bbd9-37ab2a513ace\">\n",
              "    <div class=\"colab-df-container\">\n",
              "      <div>\n",
              "<style scoped>\n",
              "    .dataframe tbody tr th:only-of-type {\n",
              "        vertical-align: middle;\n",
              "    }\n",
              "\n",
              "    .dataframe tbody tr th {\n",
              "        vertical-align: top;\n",
              "    }\n",
              "\n",
              "    .dataframe thead th {\n",
              "        text-align: right;\n",
              "    }\n",
              "</style>\n",
              "<table border=\"1\" class=\"dataframe\">\n",
              "  <thead>\n",
              "    <tr style=\"text-align: right;\">\n",
              "      <th></th>\n",
              "      <th>Open</th>\n",
              "      <th>High</th>\n",
              "      <th>Low</th>\n",
              "      <th>Close</th>\n",
              "      <th>Adj Close</th>\n",
              "      <th>Volume</th>\n",
              "    </tr>\n",
              "    <tr>\n",
              "      <th>Date</th>\n",
              "      <th></th>\n",
              "      <th></th>\n",
              "      <th></th>\n",
              "      <th></th>\n",
              "      <th></th>\n",
              "      <th></th>\n",
              "    </tr>\n",
              "  </thead>\n",
              "  <tbody>\n",
              "    <tr>\n",
              "      <th>2021-10-07</th>\n",
              "      <td>164.576996</td>\n",
              "      <td>166.287506</td>\n",
              "      <td>164.153000</td>\n",
              "      <td>165.121506</td>\n",
              "      <td>165.121506</td>\n",
              "      <td>48182000</td>\n",
              "    </tr>\n",
              "    <tr>\n",
              "      <th>2021-10-08</th>\n",
              "      <td>165.850006</td>\n",
              "      <td>166.071503</td>\n",
              "      <td>164.410004</td>\n",
              "      <td>164.431000</td>\n",
              "      <td>164.431000</td>\n",
              "      <td>39964000</td>\n",
              "    </tr>\n",
              "    <tr>\n",
              "      <th>2021-10-11</th>\n",
              "      <td>163.750000</td>\n",
              "      <td>164.629501</td>\n",
              "      <td>161.904999</td>\n",
              "      <td>162.315002</td>\n",
              "      <td>162.315002</td>\n",
              "      <td>40684000</td>\n",
              "    </tr>\n",
              "    <tr>\n",
              "      <th>2021-10-12</th>\n",
              "      <td>162.850006</td>\n",
              "      <td>163.376495</td>\n",
              "      <td>161.813995</td>\n",
              "      <td>162.366501</td>\n",
              "      <td>162.366501</td>\n",
              "      <td>36392000</td>\n",
              "    </tr>\n",
              "    <tr>\n",
              "      <th>2021-10-13</th>\n",
              "      <td>163.485504</td>\n",
              "      <td>164.419006</td>\n",
              "      <td>163.054504</td>\n",
              "      <td>164.214005</td>\n",
              "      <td>164.214005</td>\n",
              "      <td>48402000</td>\n",
              "    </tr>\n",
              "  </tbody>\n",
              "</table>\n",
              "</div>\n",
              "      <button class=\"colab-df-convert\" onclick=\"convertToInteractive('df-b20fd9dd-ab17-46e6-bbd9-37ab2a513ace')\"\n",
              "              title=\"Convert this dataframe to an interactive table.\"\n",
              "              style=\"display:none;\">\n",
              "        \n",
              "  <svg xmlns=\"http://www.w3.org/2000/svg\" height=\"24px\"viewBox=\"0 0 24 24\"\n",
              "       width=\"24px\">\n",
              "    <path d=\"M0 0h24v24H0V0z\" fill=\"none\"/>\n",
              "    <path d=\"M18.56 5.44l.94 2.06.94-2.06 2.06-.94-2.06-.94-.94-2.06-.94 2.06-2.06.94zm-11 1L8.5 8.5l.94-2.06 2.06-.94-2.06-.94L8.5 2.5l-.94 2.06-2.06.94zm10 10l.94 2.06.94-2.06 2.06-.94-2.06-.94-.94-2.06-.94 2.06-2.06.94z\"/><path d=\"M17.41 7.96l-1.37-1.37c-.4-.4-.92-.59-1.43-.59-.52 0-1.04.2-1.43.59L10.3 9.45l-7.72 7.72c-.78.78-.78 2.05 0 2.83L4 21.41c.39.39.9.59 1.41.59.51 0 1.02-.2 1.41-.59l7.78-7.78 2.81-2.81c.8-.78.8-2.07 0-2.86zM5.41 20L4 18.59l7.72-7.72 1.47 1.35L5.41 20z\"/>\n",
              "  </svg>\n",
              "      </button>\n",
              "      \n",
              "  <style>\n",
              "    .colab-df-container {\n",
              "      display:flex;\n",
              "      flex-wrap:wrap;\n",
              "      gap: 12px;\n",
              "    }\n",
              "\n",
              "    .colab-df-convert {\n",
              "      background-color: #E8F0FE;\n",
              "      border: none;\n",
              "      border-radius: 50%;\n",
              "      cursor: pointer;\n",
              "      display: none;\n",
              "      fill: #1967D2;\n",
              "      height: 32px;\n",
              "      padding: 0 0 0 0;\n",
              "      width: 32px;\n",
              "    }\n",
              "\n",
              "    .colab-df-convert:hover {\n",
              "      background-color: #E2EBFA;\n",
              "      box-shadow: 0px 1px 2px rgba(60, 64, 67, 0.3), 0px 1px 3px 1px rgba(60, 64, 67, 0.15);\n",
              "      fill: #174EA6;\n",
              "    }\n",
              "\n",
              "    [theme=dark] .colab-df-convert {\n",
              "      background-color: #3B4455;\n",
              "      fill: #D2E3FC;\n",
              "    }\n",
              "\n",
              "    [theme=dark] .colab-df-convert:hover {\n",
              "      background-color: #434B5C;\n",
              "      box-shadow: 0px 1px 3px 1px rgba(0, 0, 0, 0.15);\n",
              "      filter: drop-shadow(0px 1px 2px rgba(0, 0, 0, 0.3));\n",
              "      fill: #FFFFFF;\n",
              "    }\n",
              "  </style>\n",
              "\n",
              "      <script>\n",
              "        const buttonEl =\n",
              "          document.querySelector('#df-b20fd9dd-ab17-46e6-bbd9-37ab2a513ace button.colab-df-convert');\n",
              "        buttonEl.style.display =\n",
              "          google.colab.kernel.accessAllowed ? 'block' : 'none';\n",
              "\n",
              "        async function convertToInteractive(key) {\n",
              "          const element = document.querySelector('#df-b20fd9dd-ab17-46e6-bbd9-37ab2a513ace');\n",
              "          const dataTable =\n",
              "            await google.colab.kernel.invokeFunction('convertToInteractive',\n",
              "                                                     [key], {});\n",
              "          if (!dataTable) return;\n",
              "\n",
              "          const docLinkHtml = 'Like what you see? Visit the ' +\n",
              "            '<a target=\"_blank\" href=https://colab.research.google.com/notebooks/data_table.ipynb>data table notebook</a>'\n",
              "            + ' to learn more about interactive tables.';\n",
              "          element.innerHTML = '';\n",
              "          dataTable['output_type'] = 'display_data';\n",
              "          await google.colab.output.renderOutput(dataTable, element);\n",
              "          const docLink = document.createElement('div');\n",
              "          docLink.innerHTML = docLinkHtml;\n",
              "          element.appendChild(docLink);\n",
              "        }\n",
              "      </script>\n",
              "    </div>\n",
              "  </div>\n",
              "  "
            ]
          },
          "metadata": {},
          "execution_count": 4
        }
      ]
    },
    {
      "cell_type": "code",
      "source": [
        "df.tail()"
      ],
      "metadata": {
        "colab": {
          "base_uri": "https://localhost:8080/",
          "height": 237
        },
        "id": "dWTUZxinJKNW",
        "outputId": "7b879ad9-0257-4ef7-94fe-f1f181190cdd"
      },
      "execution_count": null,
      "outputs": [
        {
          "output_type": "execute_result",
          "data": {
            "text/plain": [
              "                  Open        High         Low       Close   Adj Close  \\\n",
              "Date                                                                     \n",
              "2022-10-03  113.580002  116.910004  112.449997  115.879997  115.879997   \n",
              "2022-10-04  119.889999  123.000000  119.790001  121.089996  121.089996   \n",
              "2022-10-05  118.580002  121.750000  117.690002  120.949997  120.949997   \n",
              "2022-10-06  120.769997  121.529999  119.500000  120.300003  120.300003   \n",
              "2022-10-07  118.000000  118.169998  113.879997  114.559998  114.559998   \n",
              "\n",
              "              Volume  \n",
              "Date                  \n",
              "2022-10-03  50941900  \n",
              "2022-10-04  62812600  \n",
              "2022-10-05  48217500  \n",
              "2022-10-06  42253800  \n",
              "2022-10-07  54626400  "
            ],
            "text/html": [
              "\n",
              "  <div id=\"df-1cea89c8-1083-4d1d-b035-0dd257762627\">\n",
              "    <div class=\"colab-df-container\">\n",
              "      <div>\n",
              "<style scoped>\n",
              "    .dataframe tbody tr th:only-of-type {\n",
              "        vertical-align: middle;\n",
              "    }\n",
              "\n",
              "    .dataframe tbody tr th {\n",
              "        vertical-align: top;\n",
              "    }\n",
              "\n",
              "    .dataframe thead th {\n",
              "        text-align: right;\n",
              "    }\n",
              "</style>\n",
              "<table border=\"1\" class=\"dataframe\">\n",
              "  <thead>\n",
              "    <tr style=\"text-align: right;\">\n",
              "      <th></th>\n",
              "      <th>Open</th>\n",
              "      <th>High</th>\n",
              "      <th>Low</th>\n",
              "      <th>Close</th>\n",
              "      <th>Adj Close</th>\n",
              "      <th>Volume</th>\n",
              "    </tr>\n",
              "    <tr>\n",
              "      <th>Date</th>\n",
              "      <th></th>\n",
              "      <th></th>\n",
              "      <th></th>\n",
              "      <th></th>\n",
              "      <th></th>\n",
              "      <th></th>\n",
              "    </tr>\n",
              "  </thead>\n",
              "  <tbody>\n",
              "    <tr>\n",
              "      <th>2022-10-03</th>\n",
              "      <td>113.580002</td>\n",
              "      <td>116.910004</td>\n",
              "      <td>112.449997</td>\n",
              "      <td>115.879997</td>\n",
              "      <td>115.879997</td>\n",
              "      <td>50941900</td>\n",
              "    </tr>\n",
              "    <tr>\n",
              "      <th>2022-10-04</th>\n",
              "      <td>119.889999</td>\n",
              "      <td>123.000000</td>\n",
              "      <td>119.790001</td>\n",
              "      <td>121.089996</td>\n",
              "      <td>121.089996</td>\n",
              "      <td>62812600</td>\n",
              "    </tr>\n",
              "    <tr>\n",
              "      <th>2022-10-05</th>\n",
              "      <td>118.580002</td>\n",
              "      <td>121.750000</td>\n",
              "      <td>117.690002</td>\n",
              "      <td>120.949997</td>\n",
              "      <td>120.949997</td>\n",
              "      <td>48217500</td>\n",
              "    </tr>\n",
              "    <tr>\n",
              "      <th>2022-10-06</th>\n",
              "      <td>120.769997</td>\n",
              "      <td>121.529999</td>\n",
              "      <td>119.500000</td>\n",
              "      <td>120.300003</td>\n",
              "      <td>120.300003</td>\n",
              "      <td>42253800</td>\n",
              "    </tr>\n",
              "    <tr>\n",
              "      <th>2022-10-07</th>\n",
              "      <td>118.000000</td>\n",
              "      <td>118.169998</td>\n",
              "      <td>113.879997</td>\n",
              "      <td>114.559998</td>\n",
              "      <td>114.559998</td>\n",
              "      <td>54626400</td>\n",
              "    </tr>\n",
              "  </tbody>\n",
              "</table>\n",
              "</div>\n",
              "      <button class=\"colab-df-convert\" onclick=\"convertToInteractive('df-1cea89c8-1083-4d1d-b035-0dd257762627')\"\n",
              "              title=\"Convert this dataframe to an interactive table.\"\n",
              "              style=\"display:none;\">\n",
              "        \n",
              "  <svg xmlns=\"http://www.w3.org/2000/svg\" height=\"24px\"viewBox=\"0 0 24 24\"\n",
              "       width=\"24px\">\n",
              "    <path d=\"M0 0h24v24H0V0z\" fill=\"none\"/>\n",
              "    <path d=\"M18.56 5.44l.94 2.06.94-2.06 2.06-.94-2.06-.94-.94-2.06-.94 2.06-2.06.94zm-11 1L8.5 8.5l.94-2.06 2.06-.94-2.06-.94L8.5 2.5l-.94 2.06-2.06.94zm10 10l.94 2.06.94-2.06 2.06-.94-2.06-.94-.94-2.06-.94 2.06-2.06.94z\"/><path d=\"M17.41 7.96l-1.37-1.37c-.4-.4-.92-.59-1.43-.59-.52 0-1.04.2-1.43.59L10.3 9.45l-7.72 7.72c-.78.78-.78 2.05 0 2.83L4 21.41c.39.39.9.59 1.41.59.51 0 1.02-.2 1.41-.59l7.78-7.78 2.81-2.81c.8-.78.8-2.07 0-2.86zM5.41 20L4 18.59l7.72-7.72 1.47 1.35L5.41 20z\"/>\n",
              "  </svg>\n",
              "      </button>\n",
              "      \n",
              "  <style>\n",
              "    .colab-df-container {\n",
              "      display:flex;\n",
              "      flex-wrap:wrap;\n",
              "      gap: 12px;\n",
              "    }\n",
              "\n",
              "    .colab-df-convert {\n",
              "      background-color: #E8F0FE;\n",
              "      border: none;\n",
              "      border-radius: 50%;\n",
              "      cursor: pointer;\n",
              "      display: none;\n",
              "      fill: #1967D2;\n",
              "      height: 32px;\n",
              "      padding: 0 0 0 0;\n",
              "      width: 32px;\n",
              "    }\n",
              "\n",
              "    .colab-df-convert:hover {\n",
              "      background-color: #E2EBFA;\n",
              "      box-shadow: 0px 1px 2px rgba(60, 64, 67, 0.3), 0px 1px 3px 1px rgba(60, 64, 67, 0.15);\n",
              "      fill: #174EA6;\n",
              "    }\n",
              "\n",
              "    [theme=dark] .colab-df-convert {\n",
              "      background-color: #3B4455;\n",
              "      fill: #D2E3FC;\n",
              "    }\n",
              "\n",
              "    [theme=dark] .colab-df-convert:hover {\n",
              "      background-color: #434B5C;\n",
              "      box-shadow: 0px 1px 3px 1px rgba(0, 0, 0, 0.15);\n",
              "      filter: drop-shadow(0px 1px 2px rgba(0, 0, 0, 0.3));\n",
              "      fill: #FFFFFF;\n",
              "    }\n",
              "  </style>\n",
              "\n",
              "      <script>\n",
              "        const buttonEl =\n",
              "          document.querySelector('#df-1cea89c8-1083-4d1d-b035-0dd257762627 button.colab-df-convert');\n",
              "        buttonEl.style.display =\n",
              "          google.colab.kernel.accessAllowed ? 'block' : 'none';\n",
              "\n",
              "        async function convertToInteractive(key) {\n",
              "          const element = document.querySelector('#df-1cea89c8-1083-4d1d-b035-0dd257762627');\n",
              "          const dataTable =\n",
              "            await google.colab.kernel.invokeFunction('convertToInteractive',\n",
              "                                                     [key], {});\n",
              "          if (!dataTable) return;\n",
              "\n",
              "          const docLinkHtml = 'Like what you see? Visit the ' +\n",
              "            '<a target=\"_blank\" href=https://colab.research.google.com/notebooks/data_table.ipynb>data table notebook</a>'\n",
              "            + ' to learn more about interactive tables.';\n",
              "          element.innerHTML = '';\n",
              "          dataTable['output_type'] = 'display_data';\n",
              "          await google.colab.output.renderOutput(dataTable, element);\n",
              "          const docLink = document.createElement('div');\n",
              "          docLink.innerHTML = docLinkHtml;\n",
              "          element.appendChild(docLink);\n",
              "        }\n",
              "      </script>\n",
              "    </div>\n",
              "  </div>\n",
              "  "
            ]
          },
          "metadata": {},
          "execution_count": 5
        }
      ]
    },
    {
      "cell_type": "code",
      "source": [
        "df.info()"
      ],
      "metadata": {
        "colab": {
          "base_uri": "https://localhost:8080/"
        },
        "id": "1S8EqAmbJN2b",
        "outputId": "e96e7469-8789-4883-dcad-01bb6426c9c0"
      },
      "execution_count": null,
      "outputs": [
        {
          "output_type": "stream",
          "name": "stdout",
          "text": [
            "<class 'pandas.core.frame.DataFrame'>\n",
            "DatetimeIndex: 253 entries, 2021-10-07 to 2022-10-07\n",
            "Data columns (total 6 columns):\n",
            " #   Column     Non-Null Count  Dtype  \n",
            "---  ------     --------------  -----  \n",
            " 0   Open       253 non-null    float64\n",
            " 1   High       253 non-null    float64\n",
            " 2   Low        253 non-null    float64\n",
            " 3   Close      253 non-null    float64\n",
            " 4   Adj Close  253 non-null    float64\n",
            " 5   Volume     253 non-null    int64  \n",
            "dtypes: float64(5), int64(1)\n",
            "memory usage: 13.8 KB\n"
          ]
        }
      ]
    },
    {
      "cell_type": "code",
      "source": [
        "df.isnull().sum()"
      ],
      "metadata": {
        "colab": {
          "base_uri": "https://localhost:8080/"
        },
        "id": "OTYJPJTQJR0B",
        "outputId": "4b6f0b13-e8f8-459b-d963-48abcac4ddbc"
      },
      "execution_count": null,
      "outputs": [
        {
          "output_type": "execute_result",
          "data": {
            "text/plain": [
              "Open         0\n",
              "High         0\n",
              "Low          0\n",
              "Close        0\n",
              "Adj Close    0\n",
              "Volume       0\n",
              "dtype: int64"
            ]
          },
          "metadata": {},
          "execution_count": 7
        }
      ]
    },
    {
      "cell_type": "code",
      "source": [
        "df.shape"
      ],
      "metadata": {
        "colab": {
          "base_uri": "https://localhost:8080/"
        },
        "id": "si6qdK8cJU1W",
        "outputId": "c80ae091-2339-4d1f-faed-3a3e5c685db4"
      },
      "execution_count": null,
      "outputs": [
        {
          "output_type": "execute_result",
          "data": {
            "text/plain": [
              "(253, 6)"
            ]
          },
          "metadata": {},
          "execution_count": 8
        }
      ]
    },
    {
      "cell_type": "code",
      "source": [
        "df.describe()"
      ],
      "metadata": {
        "colab": {
          "base_uri": "https://localhost:8080/",
          "height": 300
        },
        "id": "Gu06jP6wJWUL",
        "outputId": "3f71301a-4af6-4873-bbf4-9a597b6357ef"
      },
      "execution_count": null,
      "outputs": [
        {
          "output_type": "execute_result",
          "data": {
            "text/plain": [
              "             Open        High         Low       Close   Adj Close  \\\n",
              "count  253.000000  253.000000  253.000000  253.000000  253.000000   \n",
              "mean   143.708557  145.929678  141.374471  143.580678  143.580678   \n",
              "std     23.355645   23.192017   23.399794   23.242307   23.242307   \n",
              "min    102.750000  104.580002  101.260002  102.309998  102.309998   \n",
              "25%    122.255997  123.760002  119.790001  122.190002  122.190002   \n",
              "50%    144.800003  147.850006  142.000000  144.779999  144.779999   \n",
              "75%    165.122498  166.494995  163.666000  164.992996  164.992996   \n",
              "max    185.634506  188.107498  183.785995  184.802994  184.802994   \n",
              "\n",
              "             Volume  \n",
              "count  2.530000e+02  \n",
              "mean   7.164079e+07  \n",
              "std    3.154392e+07  \n",
              "min    3.575400e+07  \n",
              "25%    5.270400e+07  \n",
              "50%    6.281260e+07  \n",
              "75%    8.054800e+07  \n",
              "max    2.726620e+08  "
            ],
            "text/html": [
              "\n",
              "  <div id=\"df-46a2f23f-258d-42b2-8fb8-1da7ede7c7a1\">\n",
              "    <div class=\"colab-df-container\">\n",
              "      <div>\n",
              "<style scoped>\n",
              "    .dataframe tbody tr th:only-of-type {\n",
              "        vertical-align: middle;\n",
              "    }\n",
              "\n",
              "    .dataframe tbody tr th {\n",
              "        vertical-align: top;\n",
              "    }\n",
              "\n",
              "    .dataframe thead th {\n",
              "        text-align: right;\n",
              "    }\n",
              "</style>\n",
              "<table border=\"1\" class=\"dataframe\">\n",
              "  <thead>\n",
              "    <tr style=\"text-align: right;\">\n",
              "      <th></th>\n",
              "      <th>Open</th>\n",
              "      <th>High</th>\n",
              "      <th>Low</th>\n",
              "      <th>Close</th>\n",
              "      <th>Adj Close</th>\n",
              "      <th>Volume</th>\n",
              "    </tr>\n",
              "  </thead>\n",
              "  <tbody>\n",
              "    <tr>\n",
              "      <th>count</th>\n",
              "      <td>253.000000</td>\n",
              "      <td>253.000000</td>\n",
              "      <td>253.000000</td>\n",
              "      <td>253.000000</td>\n",
              "      <td>253.000000</td>\n",
              "      <td>2.530000e+02</td>\n",
              "    </tr>\n",
              "    <tr>\n",
              "      <th>mean</th>\n",
              "      <td>143.708557</td>\n",
              "      <td>145.929678</td>\n",
              "      <td>141.374471</td>\n",
              "      <td>143.580678</td>\n",
              "      <td>143.580678</td>\n",
              "      <td>7.164079e+07</td>\n",
              "    </tr>\n",
              "    <tr>\n",
              "      <th>std</th>\n",
              "      <td>23.355645</td>\n",
              "      <td>23.192017</td>\n",
              "      <td>23.399794</td>\n",
              "      <td>23.242307</td>\n",
              "      <td>23.242307</td>\n",
              "      <td>3.154392e+07</td>\n",
              "    </tr>\n",
              "    <tr>\n",
              "      <th>min</th>\n",
              "      <td>102.750000</td>\n",
              "      <td>104.580002</td>\n",
              "      <td>101.260002</td>\n",
              "      <td>102.309998</td>\n",
              "      <td>102.309998</td>\n",
              "      <td>3.575400e+07</td>\n",
              "    </tr>\n",
              "    <tr>\n",
              "      <th>25%</th>\n",
              "      <td>122.255997</td>\n",
              "      <td>123.760002</td>\n",
              "      <td>119.790001</td>\n",
              "      <td>122.190002</td>\n",
              "      <td>122.190002</td>\n",
              "      <td>5.270400e+07</td>\n",
              "    </tr>\n",
              "    <tr>\n",
              "      <th>50%</th>\n",
              "      <td>144.800003</td>\n",
              "      <td>147.850006</td>\n",
              "      <td>142.000000</td>\n",
              "      <td>144.779999</td>\n",
              "      <td>144.779999</td>\n",
              "      <td>6.281260e+07</td>\n",
              "    </tr>\n",
              "    <tr>\n",
              "      <th>75%</th>\n",
              "      <td>165.122498</td>\n",
              "      <td>166.494995</td>\n",
              "      <td>163.666000</td>\n",
              "      <td>164.992996</td>\n",
              "      <td>164.992996</td>\n",
              "      <td>8.054800e+07</td>\n",
              "    </tr>\n",
              "    <tr>\n",
              "      <th>max</th>\n",
              "      <td>185.634506</td>\n",
              "      <td>188.107498</td>\n",
              "      <td>183.785995</td>\n",
              "      <td>184.802994</td>\n",
              "      <td>184.802994</td>\n",
              "      <td>2.726620e+08</td>\n",
              "    </tr>\n",
              "  </tbody>\n",
              "</table>\n",
              "</div>\n",
              "      <button class=\"colab-df-convert\" onclick=\"convertToInteractive('df-46a2f23f-258d-42b2-8fb8-1da7ede7c7a1')\"\n",
              "              title=\"Convert this dataframe to an interactive table.\"\n",
              "              style=\"display:none;\">\n",
              "        \n",
              "  <svg xmlns=\"http://www.w3.org/2000/svg\" height=\"24px\"viewBox=\"0 0 24 24\"\n",
              "       width=\"24px\">\n",
              "    <path d=\"M0 0h24v24H0V0z\" fill=\"none\"/>\n",
              "    <path d=\"M18.56 5.44l.94 2.06.94-2.06 2.06-.94-2.06-.94-.94-2.06-.94 2.06-2.06.94zm-11 1L8.5 8.5l.94-2.06 2.06-.94-2.06-.94L8.5 2.5l-.94 2.06-2.06.94zm10 10l.94 2.06.94-2.06 2.06-.94-2.06-.94-.94-2.06-.94 2.06-2.06.94z\"/><path d=\"M17.41 7.96l-1.37-1.37c-.4-.4-.92-.59-1.43-.59-.52 0-1.04.2-1.43.59L10.3 9.45l-7.72 7.72c-.78.78-.78 2.05 0 2.83L4 21.41c.39.39.9.59 1.41.59.51 0 1.02-.2 1.41-.59l7.78-7.78 2.81-2.81c.8-.78.8-2.07 0-2.86zM5.41 20L4 18.59l7.72-7.72 1.47 1.35L5.41 20z\"/>\n",
              "  </svg>\n",
              "      </button>\n",
              "      \n",
              "  <style>\n",
              "    .colab-df-container {\n",
              "      display:flex;\n",
              "      flex-wrap:wrap;\n",
              "      gap: 12px;\n",
              "    }\n",
              "\n",
              "    .colab-df-convert {\n",
              "      background-color: #E8F0FE;\n",
              "      border: none;\n",
              "      border-radius: 50%;\n",
              "      cursor: pointer;\n",
              "      display: none;\n",
              "      fill: #1967D2;\n",
              "      height: 32px;\n",
              "      padding: 0 0 0 0;\n",
              "      width: 32px;\n",
              "    }\n",
              "\n",
              "    .colab-df-convert:hover {\n",
              "      background-color: #E2EBFA;\n",
              "      box-shadow: 0px 1px 2px rgba(60, 64, 67, 0.3), 0px 1px 3px 1px rgba(60, 64, 67, 0.15);\n",
              "      fill: #174EA6;\n",
              "    }\n",
              "\n",
              "    [theme=dark] .colab-df-convert {\n",
              "      background-color: #3B4455;\n",
              "      fill: #D2E3FC;\n",
              "    }\n",
              "\n",
              "    [theme=dark] .colab-df-convert:hover {\n",
              "      background-color: #434B5C;\n",
              "      box-shadow: 0px 1px 3px 1px rgba(0, 0, 0, 0.15);\n",
              "      filter: drop-shadow(0px 1px 2px rgba(0, 0, 0, 0.3));\n",
              "      fill: #FFFFFF;\n",
              "    }\n",
              "  </style>\n",
              "\n",
              "      <script>\n",
              "        const buttonEl =\n",
              "          document.querySelector('#df-46a2f23f-258d-42b2-8fb8-1da7ede7c7a1 button.colab-df-convert');\n",
              "        buttonEl.style.display =\n",
              "          google.colab.kernel.accessAllowed ? 'block' : 'none';\n",
              "\n",
              "        async function convertToInteractive(key) {\n",
              "          const element = document.querySelector('#df-46a2f23f-258d-42b2-8fb8-1da7ede7c7a1');\n",
              "          const dataTable =\n",
              "            await google.colab.kernel.invokeFunction('convertToInteractive',\n",
              "                                                     [key], {});\n",
              "          if (!dataTable) return;\n",
              "\n",
              "          const docLinkHtml = 'Like what you see? Visit the ' +\n",
              "            '<a target=\"_blank\" href=https://colab.research.google.com/notebooks/data_table.ipynb>data table notebook</a>'\n",
              "            + ' to learn more about interactive tables.';\n",
              "          element.innerHTML = '';\n",
              "          dataTable['output_type'] = 'display_data';\n",
              "          await google.colab.output.renderOutput(dataTable, element);\n",
              "          const docLink = document.createElement('div');\n",
              "          docLink.innerHTML = docLinkHtml;\n",
              "          element.appendChild(docLink);\n",
              "        }\n",
              "      </script>\n",
              "    </div>\n",
              "  </div>\n",
              "  "
            ]
          },
          "metadata": {},
          "execution_count": 9
        }
      ]
    },
    {
      "cell_type": "code",
      "source": [
        "df.Close.plot()"
      ],
      "metadata": {
        "colab": {
          "base_uri": "https://localhost:8080/",
          "height": 294
        },
        "id": "qfitkONVJZkr",
        "outputId": "79e0532d-64ce-4687-fbc0-8e691976ff5d"
      },
      "execution_count": null,
      "outputs": [
        {
          "output_type": "execute_result",
          "data": {
            "text/plain": [
              "<matplotlib.axes._subplots.AxesSubplot at 0x7f38a49afe50>"
            ]
          },
          "metadata": {},
          "execution_count": 10
        },
        {
          "output_type": "display_data",
          "data": {
            "text/plain": [
              "<Figure size 432x288 with 1 Axes>"
            ],
            "image/png": "[encoded data removed]"
          },
          "metadata": {
            "needs_background": "light"
          }
        }
      ]
    },
    {
      "cell_type": "code",
      "source": [
        "amz = df['Close']"
      ],
      "metadata": {
        "id": "bzXObAArJqjB"
      },
      "execution_count": null,
      "outputs": []
    },
    {
      "cell_type": "code",
      "source": [
        "amz.reset_index(drop=True, inplace=True)"
      ],
      "metadata": {
        "id": "P7RiJxUHKQ_p"
      },
      "execution_count": null,
      "outputs": []
    },
    {
      "cell_type": "code",
      "source": [
        "amz.shape"
      ],
      "metadata": {
        "colab": {
          "base_uri": "https://localhost:8080/"
        },
        "id": "NkeZQukGKcK4",
        "outputId": "bcd65e63-43cc-44f5-dd40-384095b5600c"
      },
      "execution_count": null,
      "outputs": [
        {
          "output_type": "execute_result",
          "data": {
            "text/plain": [
              "(253,)"
            ]
          },
          "metadata": {},
          "execution_count": 14
        }
      ]
    },
    {
      "cell_type": "code",
      "source": [
        "amz = pd.DataFrame(amz)"
      ],
      "metadata": {
        "id": "wzovpQTpKfFg"
      },
      "execution_count": null,
      "outputs": []
    },
    {
      "cell_type": "code",
      "source": [
        "amz.head()"
      ],
      "metadata": {
        "colab": {
          "base_uri": "https://localhost:8080/",
          "height": 206
        },
        "id": "0dAqoIdoK096",
        "outputId": "df4185ed-3c1f-47e8-9160-87ebebc1e26e"
      },
      "execution_count": null,
      "outputs": [
        {
          "output_type": "execute_result",
          "data": {
            "text/plain": [
              "        Close\n",
              "0  165.121506\n",
              "1  164.431000\n",
              "2  162.315002\n",
              "3  162.366501\n",
              "4  164.214005"
            ],
            "text/html": [
              "\n",
              "  <div id=\"df-e4c340a5-c56a-4b45-9255-ce0762fe4994\">\n",
              "    <div class=\"colab-df-container\">\n",
              "      <div>\n",
              "<style scoped>\n",
              "    .dataframe tbody tr th:only-of-type {\n",
              "        vertical-align: middle;\n",
              "    }\n",
              "\n",
              "    .dataframe tbody tr th {\n",
              "        vertical-align: top;\n",
              "    }\n",
              "\n",
              "    .dataframe thead th {\n",
              "        text-align: right;\n",
              "    }\n",
              "</style>\n",
              "<table border=\"1\" class=\"dataframe\">\n",
              "  <thead>\n",
              "    <tr style=\"text-align: right;\">\n",
              "      <th></th>\n",
              "      <th>Close</th>\n",
              "    </tr>\n",
              "  </thead>\n",
              "  <tbody>\n",
              "    <tr>\n",
              "      <th>0</th>\n",
              "      <td>165.121506</td>\n",
              "    </tr>\n",
              "    <tr>\n",
              "      <th>1</th>\n",
              "      <td>164.431000</td>\n",
              "    </tr>\n",
              "    <tr>\n",
              "      <th>2</th>\n",
              "      <td>162.315002</td>\n",
              "    </tr>\n",
              "    <tr>\n",
              "      <th>3</th>\n",
              "      <td>162.366501</td>\n",
              "    </tr>\n",
              "    <tr>\n",
              "      <th>4</th>\n",
              "      <td>164.214005</td>\n",
              "    </tr>\n",
              "  </tbody>\n",
              "</table>\n",
              "</div>\n",
              "      <button class=\"colab-df-convert\" onclick=\"convertToInteractive('df-e4c340a5-c56a-4b45-9255-ce0762fe4994')\"\n",
              "              title=\"Convert this dataframe to an interactive table.\"\n",
              "              style=\"display:none;\">\n",
              "        \n",
              "  <svg xmlns=\"http://www.w3.org/2000/svg\" height=\"24px\"viewBox=\"0 0 24 24\"\n",
              "       width=\"24px\">\n",
              "    <path d=\"M0 0h24v24H0V0z\" fill=\"none\"/>\n",
              "    <path d=\"M18.56 5.44l.94 2.06.94-2.06 2.06-.94-2.06-.94-.94-2.06-.94 2.06-2.06.94zm-11 1L8.5 8.5l.94-2.06 2.06-.94-2.06-.94L8.5 2.5l-.94 2.06-2.06.94zm10 10l.94 2.06.94-2.06 2.06-.94-2.06-.94-.94-2.06-.94 2.06-2.06.94z\"/><path d=\"M17.41 7.96l-1.37-1.37c-.4-.4-.92-.59-1.43-.59-.52 0-1.04.2-1.43.59L10.3 9.45l-7.72 7.72c-.78.78-.78 2.05 0 2.83L4 21.41c.39.39.9.59 1.41.59.51 0 1.02-.2 1.41-.59l7.78-7.78 2.81-2.81c.8-.78.8-2.07 0-2.86zM5.41 20L4 18.59l7.72-7.72 1.47 1.35L5.41 20z\"/>\n",
              "  </svg>\n",
              "      </button>\n",
              "      \n",
              "  <style>\n",
              "    .colab-df-container {\n",
              "      display:flex;\n",
              "      flex-wrap:wrap;\n",
              "      gap: 12px;\n",
              "    }\n",
              "\n",
              "    .colab-df-convert {\n",
              "      background-color: #E8F0FE;\n",
              "      border: none;\n",
              "      border-radius: 50%;\n",
              "      cursor: pointer;\n",
              "      display: none;\n",
              "      fill: #1967D2;\n",
              "      height: 32px;\n",
              "      padding: 0 0 0 0;\n",
              "      width: 32px;\n",
              "    }\n",
              "\n",
              "    .colab-df-convert:hover {\n",
              "      background-color: #E2EBFA;\n",
              "      box-shadow: 0px 1px 2px rgba(60, 64, 67, 0.3), 0px 1px 3px 1px rgba(60, 64, 67, 0.15);\n",
              "      fill: #174EA6;\n",
              "    }\n",
              "\n",
              "    [theme=dark] .colab-df-convert {\n",
              "      background-color: #3B4455;\n",
              "      fill: #D2E3FC;\n",
              "    }\n",
              "\n",
              "    [theme=dark] .colab-df-convert:hover {\n",
              "      background-color: #434B5C;\n",
              "      box-shadow: 0px 1px 3px 1px rgba(0, 0, 0, 0.15);\n",
              "      filter: drop-shadow(0px 1px 2px rgba(0, 0, 0, 0.3));\n",
              "      fill: #FFFFFF;\n",
              "    }\n",
              "  </style>\n",
              "\n",
              "      <script>\n",
              "        const buttonEl =\n",
              "          document.querySelector('#df-e4c340a5-c56a-4b45-9255-ce0762fe4994 button.colab-df-convert');\n",
              "        buttonEl.style.display =\n",
              "          google.colab.kernel.accessAllowed ? 'block' : 'none';\n",
              "\n",
              "        async function convertToInteractive(key) {\n",
              "          const element = document.querySelector('#df-e4c340a5-c56a-4b45-9255-ce0762fe4994');\n",
              "          const dataTable =\n",
              "            await google.colab.kernel.invokeFunction('convertToInteractive',\n",
              "                                                     [key], {});\n",
              "          if (!dataTable) return;\n",
              "\n",
              "          const docLinkHtml = 'Like what you see? Visit the ' +\n",
              "            '<a target=\"_blank\" href=https://colab.research.google.com/notebooks/data_table.ipynb>data table notebook</a>'\n",
              "            + ' to learn more about interactive tables.';\n",
              "          element.innerHTML = '';\n",
              "          dataTable['output_type'] = 'display_data';\n",
              "          await google.colab.output.renderOutput(dataTable, element);\n",
              "          const docLink = document.createElement('div');\n",
              "          docLink.innerHTML = docLinkHtml;\n",
              "          element.appendChild(docLink);\n",
              "        }\n",
              "      </script>\n",
              "    </div>\n",
              "  </div>\n",
              "  "
            ]
          },
          "metadata": {},
          "execution_count": 16
        }
      ]
    },
    {
      "cell_type": "code",
      "source": [
        " train = amz.iloc[:240]\n",
        " test = amz.iloc[240:]"
      ],
      "metadata": {
        "id": "DOsXraYPK531"
      },
      "execution_count": null,
      "outputs": []
    },
    {
      "cell_type": "code",
      "source": [
        "train.shape, test.shape"
      ],
      "metadata": {
        "colab": {
          "base_uri": "https://localhost:8080/"
        },
        "id": "WFkCIDP8L2uO",
        "outputId": "eb91e898-f724-4b17-e33d-239156b6ddc9"
      },
      "execution_count": null,
      "outputs": [
        {
          "output_type": "execute_result",
          "data": {
            "text/plain": [
              "((240, 1), (13, 1))"
            ]
          },
          "metadata": {},
          "execution_count": 29
        }
      ]
    },
    {
      "cell_type": "code",
      "source": [
        "from sklearn.preprocessing import MinMaxScaler"
      ],
      "metadata": {
        "id": "fUZLK9lqL5Fm"
      },
      "execution_count": null,
      "outputs": []
    },
    {
      "cell_type": "code",
      "source": [
        "scaler = MinMaxScaler()"
      ],
      "metadata": {
        "id": "GftSjj5gMWL_"
      },
      "execution_count": null,
      "outputs": []
    },
    {
      "cell_type": "code",
      "source": [
        "scaled_train = scaler.fit_transform(train)\n",
        "scaled_test = scaler.transform(test)\n"
      ],
      "metadata": {
        "id": "sfhrvkVXMdXE"
      },
      "execution_count": null,
      "outputs": []
    },
    {
      "cell_type": "code",
      "source": [
        "scaled_train"
      ],
      "metadata": {
        "colab": {
          "base_uri": "https://localhost:8080/"
        },
        "id": "ZgKdsOksMuim",
        "outputId": "12b9259e-a202-4326-e1af-634a94289f04"
      },
      "execution_count": null,
      "outputs": [
        {
          "output_type": "execute_result",
          "data": {
            "text/plain": [
              "array([[0.76141625],\n",
              "       [0.75304577],\n",
              "       [0.72739514],\n",
              "       [0.72801942],\n",
              "       [0.75041531],\n",
              "       [0.75985842],\n",
              "       [0.82602171],\n",
              "       [0.84888429],\n",
              "       [0.84731443],\n",
              "       [0.82968266],\n",
              "       [0.84177457],\n",
              "       [0.78149056],\n",
              "       [0.77228976],\n",
              "       [0.80605024],\n",
              "       [0.81600259],\n",
              "       [0.84878125],\n",
              "       [0.8038441 ],\n",
              "       [0.77092004],\n",
              "       [0.76767122],\n",
              "       [0.81085671],\n",
              "       [0.86722524],\n",
              "       [0.89267572],\n",
              "       [0.87448645],\n",
              "       [0.92736958],\n",
              "       [0.87028595],\n",
              "       [0.86449766],\n",
              "       [0.89640954],\n",
              "       [0.9088529 ],\n",
              "       [0.90583455],\n",
              "       [0.9108652 ],\n",
              "       [1.        ],\n",
              "       [0.98818702],\n",
              "       [0.92515122],\n",
              "       [0.92967894],\n",
              "       [0.92990313],\n",
              "       [0.88392958],\n",
              "       [0.91848413],\n",
              "       [0.88545095],\n",
              "       [0.84705382],\n",
              "       [0.84319883],\n",
              "       [0.81436616],\n",
              "       [0.83714382],\n",
              "       [0.89528215],\n",
              "       [0.89520336],\n",
              "       [0.87111646],\n",
              "       [0.84736901],\n",
              "       [0.81531173],\n",
              "       [0.80954156],\n",
              "       [0.86073979],\n",
              "       [0.80686855],\n",
              "       [0.8207667 ],\n",
              "       [0.78514541],\n",
              "       [0.82560959],\n",
              "       [0.83312534],\n",
              "       [0.83350711],\n",
              "       [0.81654807],\n",
              "       [0.82856728],\n",
              "       [0.81086891],\n",
              "       [0.80412285],\n",
              "       [0.78075716],\n",
              "       [0.82545792],\n",
              "       [0.79051566],\n",
              "       [0.75214867],\n",
              "       [0.73877787],\n",
              "       [0.73029234],\n",
              "       [0.71734568],\n",
              "       [0.76433158],\n",
              "       [0.76245265],\n",
              "       [0.71404858],\n",
              "       [0.72524947],\n",
              "       [0.68620975],\n",
              "       [0.65446766],\n",
              "       [0.5983235 ],\n",
              "       [0.48892644],\n",
              "       [0.51197083],\n",
              "       [0.45671749],\n",
              "       [0.44321945],\n",
              "       [0.45249295],\n",
              "       [0.50510954],\n",
              "       [0.5729396 ],\n",
              "       [0.59257757],\n",
              "       [0.58553462],\n",
              "       [0.44289223],\n",
              "       [0.67071752],\n",
              "       [0.67430577],\n",
              "       [0.71646689],\n",
              "       [0.71375152],\n",
              "       [0.68725224],\n",
              "       [0.61803435],\n",
              "       [0.64074542],\n",
              "       [0.65703154],\n",
              "       [0.67630585],\n",
              "       [0.63450839],\n",
              "       [0.60964573],\n",
              "       [0.58050379],\n",
              "       [0.51540131],\n",
              "       [0.59457174],\n",
              "       [0.6240348 ],\n",
              "       [0.6213013 ],\n",
              "       [0.59195329],\n",
              "       [0.60299067],\n",
              "       [0.55263481],\n",
              "       [0.52526893],\n",
              "       [0.42601199],\n",
              "       [0.40857406],\n",
              "       [0.44814725],\n",
              "       [0.53953074],\n",
              "       [0.52385669],\n",
              "       [0.47934977],\n",
              "       [0.5461858 ],\n",
              "       [0.6157372 ],\n",
              "       [0.66586259],\n",
              "       [0.71449103],\n",
              "       [0.71741246],\n",
              "       [0.75859786],\n",
              "       [0.74064478],\n",
              "       [0.74357231],\n",
              "       [0.75719763],\n",
              "       [0.80831706],\n",
              "       [0.81225082],\n",
              "       [0.7757143 ],\n",
              "       [0.73566852],\n",
              "       [0.74248728],\n",
              "       [0.80051037],\n",
              "       [0.74848773],\n",
              "       [0.68425202],\n",
              "       [0.6724753 ],\n",
              "       [0.63218091],\n",
              "       [0.59171079],\n",
              "       [0.58765605],\n",
              "       [0.64527905],\n",
              "       [0.59879628],\n",
              "       [0.6118702 ],\n",
              "       [0.67648769],\n",
              "       [0.62657444],\n",
              "       [0.55745347],\n",
              "       [0.50961912],\n",
              "       [0.53051785],\n",
              "       [0.44950493],\n",
              "       [0.43466731],\n",
              "       [0.51260714],\n",
              "       [0.26634387],\n",
              "       [0.26899256],\n",
              "       [0.26600445],\n",
              "       [0.28630914],\n",
              "       [0.17088724],\n",
              "       [0.15107344],\n",
              "       [0.07854004],\n",
              "       [0.07938859],\n",
              "       [0.03711835],\n",
              "       [0.05601079],\n",
              "       [0.13025351],\n",
              "       [0.10304515],\n",
              "       [0.15829831],\n",
              "       [0.05821712],\n",
              "       [0.06072033],\n",
              "       [0.06401762],\n",
              "       [0.06360541],\n",
              "       [0.02169881],\n",
              "       [0.05412586],\n",
              "       [0.10628176],\n",
              "       [0.15560717],\n",
              "       [0.21698212],\n",
              "       [0.2348563 ],\n",
              "       [0.28124817],\n",
              "       [0.24292971],\n",
              "       [0.27250802],\n",
              "       [0.2508092 ],\n",
              "       [0.22874672],\n",
              "       [0.16777187],\n",
              "       [0.0889773 ],\n",
              "       [0.01648625],\n",
              "       [0.        ],\n",
              "       [0.06497521],\n",
              "       [0.0163651 ],\n",
              "       [0.047398  ],\n",
              "       [0.0772187 ],\n",
              "       [0.08049167],\n",
              "       [0.12279835],\n",
              "       [0.17152973],\n",
              "       [0.13225369],\n",
              "       [0.06170226],\n",
              "       [0.08012801],\n",
              "       [0.04727675],\n",
              "       [0.08788625],\n",
              "       [0.1356479 ],\n",
              "       [0.14570939],\n",
              "       [0.16995387],\n",
              "       [0.16037729],\n",
              "       [0.11443398],\n",
              "       [0.08376472],\n",
              "       [0.09806898],\n",
              "       [0.10085704],\n",
              "       [0.13625405],\n",
              "       [0.13879971],\n",
              "       [0.19274365],\n",
              "       [0.24802104],\n",
              "       [0.27056841],\n",
              "       [0.24377827],\n",
              "       [0.22826182],\n",
              "       [0.15152802],\n",
              "       [0.22620106],\n",
              "       [0.24208117],\n",
              "       [0.39566994],\n",
              "       [0.40100375],\n",
              "       [0.38609346],\n",
              "       [0.45106867],\n",
              "       [0.48804154],\n",
              "       [0.46658513],\n",
              "       [0.44973522],\n",
              "       [0.43058206],\n",
              "       [0.48949615],\n",
              "       [0.46464552],\n",
              "       [0.49992129],\n",
              "       [0.49543594],\n",
              "       [0.5148316 ],\n",
              "       [0.48234408],\n",
              "       [0.48476849],\n",
              "       [0.43543088],\n",
              "       [0.37469851],\n",
              "       [0.37954734],\n",
              "       [0.38172944],\n",
              "       [0.42391479],\n",
              "       [0.34475657],\n",
              "       [0.33311913],\n",
              "       [0.32026959],\n",
              "       [0.29651001],\n",
              "       [0.3092384 ],\n",
              "       [0.30548053],\n",
              "       [0.28850938],\n",
              "       [0.32936127],\n",
              "       [0.33348297],\n",
              "       [0.37530466],\n",
              "       [0.4138533 ],\n",
              "       [0.29711616],\n",
              "       [0.31808767],\n",
              "       [0.29057014],\n",
              "       [0.25723397],\n",
              "       [0.27093216],\n",
              "       [0.2409902 ]])"
            ]
          },
          "metadata": {},
          "execution_count": 33
        }
      ]
    },
    {
      "cell_type": "code",
      "source": [
        "from tensorflow.keras.preprocessing.sequence import TimeseriesGenerator"
      ],
      "metadata": {
        "id": "Gtk2PQDPM-zg"
      },
      "execution_count": null,
      "outputs": []
    },
    {
      "cell_type": "code",
      "source": [
        "help(TimeseriesGenerator)"
      ],
      "metadata": {
        "colab": {
          "base_uri": "https://localhost:8080/"
        },
        "id": "nDdMUaXlNQCX",
        "outputId": "3580cb72-8697-49c9-a45e-aa40ac72d1c1"
      },
      "execution_count": null,
      "outputs": [
        {
          "output_type": "stream",
          "name": "stdout",
          "text": [
            "Help on class TimeseriesGenerator in module keras.preprocessing.sequence:\n",
            "\n",
            "class TimeseriesGenerator(keras_preprocessing.sequence.TimeseriesGenerator, keras.utils.data_utils.Sequence)\n",
            " |  TimeseriesGenerator(data, targets, length, sampling_rate=1, stride=1, start_index=0, end_index=None, shuffle=False, reverse=False, batch_size=128)\n",
            " |  \n",
            " |  Utility class for generating batches of temporal data.\n",
            " |  \n",
            " |  This class takes in a sequence of data-points gathered at\n",
            " |  equal intervals, along with time series parameters such as\n",
            " |  stride, length of history, etc., to produce batches for\n",
            " |  training/validation.\n",
            " |  # Arguments\n",
            " |      data: Indexable generator (such as list or Numpy array)\n",
            " |          containing consecutive data points (timesteps).\n",
            " |          The data should be at 2D, and axis 0 is expected\n",
            " |          to be the time dimension.\n",
            " |      targets: Targets corresponding to timesteps in `data`.\n",
            " |          It should have same length as `data`.\n",
            " |      length: Length of the output sequences (in number of timesteps).\n",
            " |      sampling_rate: Period between successive individual timesteps\n",
            " |          within sequences. For rate `r`, timesteps\n",
            " |          `data[i]`, `data[i-r]`, ... `data[i - length]`\n",
            " |          are used for create a sample sequence.\n",
            " |      stride: Period between successive output sequences.\n",
            " |          For stride `s`, consecutive output samples would\n",
            " |          be centered around `data[i]`, `data[i+s]`, `data[i+2*s]`, etc.\n",
            " |      start_index: Data points earlier than `start_index` will not be used\n",
            " |          in the output sequences. This is useful to reserve part of the\n",
            " |          data for test or validation.\n",
            " |      end_index: Data points later than `end_index` will not be used\n",
            " |          in the output sequences. This is useful to reserve part of the\n",
            " |          data for test or validation.\n",
            " |      shuffle: Whether to shuffle output samples,\n",
            " |          or instead draw them in chronological order.\n",
            " |      reverse: Boolean: if `true`, timesteps in each output sample will be\n",
            " |          in reverse chronological order.\n",
            " |      batch_size: Number of timeseries samples in each batch\n",
            " |          (except maybe the last one).\n",
            " |  # Returns\n",
            " |      A [Sequence](https://www.tensorflow.org/api_docs/python/tf/keras/utils/Sequence) instance.\n",
            " |  # Examples\n",
            " |  ```python\n",
            " |  from keras.preprocessing.sequence import TimeseriesGenerator\n",
            " |  import numpy as np\n",
            " |  data = np.array([[i] for i in range(50)])\n",
            " |  targets = np.array([[i] for i in range(50)])\n",
            " |  data_gen = TimeseriesGenerator(data, targets,\n",
            " |                                 length=10, sampling_rate=2,\n",
            " |                                 batch_size=2)\n",
            " |  assert len(data_gen) == 20\n",
            " |  batch_0 = data_gen[0]\n",
            " |  x, y = batch_0\n",
            " |  assert np.array_equal(x,\n",
            " |                        np.array([[[0], [2], [4], [6], [8]],\n",
            " |                                  [[1], [3], [5], [7], [9]]]))\n",
            " |  assert np.array_equal(y,\n",
            " |                        np.array([[10], [11]]))\n",
            " |  ```\n",
            " |  \n",
            " |  Method resolution order:\n",
            " |      TimeseriesGenerator\n",
            " |      keras_preprocessing.sequence.TimeseriesGenerator\n",
            " |      keras.utils.data_utils.Sequence\n",
            " |      builtins.object\n",
            " |  \n",
            " |  Methods inherited from keras_preprocessing.sequence.TimeseriesGenerator:\n",
            " |  \n",
            " |  __getitem__(self, index)\n",
            " |  \n",
            " |  __init__(self, data, targets, length, sampling_rate=1, stride=1, start_index=0, end_index=None, shuffle=False, reverse=False, batch_size=128)\n",
            " |      Initialize self.  See help(type(self)) for accurate signature.\n",
            " |  \n",
            " |  __len__(self)\n",
            " |  \n",
            " |  get_config(self)\n",
            " |      Returns the TimeseriesGenerator configuration as Python dictionary.\n",
            " |      \n",
            " |      # Returns\n",
            " |          A Python dictionary with the TimeseriesGenerator configuration.\n",
            " |  \n",
            " |  to_json(self, **kwargs)\n",
            " |      Returns a JSON string containing the timeseries generator\n",
            " |      configuration. To load a generator from a JSON string, use\n",
            " |      `keras.preprocessing.sequence.timeseries_generator_from_json(json_string)`.\n",
            " |      \n",
            " |      # Arguments\n",
            " |          **kwargs: Additional keyword arguments\n",
            " |              to be passed to `json.dumps()`.\n",
            " |      \n",
            " |      # Returns\n",
            " |          A JSON string containing the tokenizer configuration.\n",
            " |  \n",
            " |  ----------------------------------------------------------------------\n",
            " |  Data descriptors inherited from keras_preprocessing.sequence.TimeseriesGenerator:\n",
            " |  \n",
            " |  __dict__\n",
            " |      dictionary for instance variables (if defined)\n",
            " |  \n",
            " |  __weakref__\n",
            " |      list of weak references to the object (if defined)\n",
            " |  \n",
            " |  ----------------------------------------------------------------------\n",
            " |  Methods inherited from keras.utils.data_utils.Sequence:\n",
            " |  \n",
            " |  __iter__(self)\n",
            " |      Create a generator that iterate over the Sequence.\n",
            " |  \n",
            " |  on_epoch_end(self)\n",
            " |      Method called at the end of every epoch.\n",
            "\n"
          ]
        }
      ]
    },
    {
      "cell_type": "code",
      "source": [
        "length = 13\n",
        "batch_size = 32\n",
        "\n",
        "generator = TimeseriesGenerator(scaled_train,scaled_train,\n",
        "                                length = length, batch_size=batch_size)"
      ],
      "metadata": {
        "id": "FEdatTvPNckD"
      },
      "execution_count": null,
      "outputs": []
    },
    {
      "cell_type": "code",
      "source": [
        "from tensorflow.keras.models import Sequential\n",
        "from tensorflow.keras.layers import Dense, SimpleRNN, LSTM, Dropout"
      ],
      "metadata": {
        "id": "4JNqeYnkOhoW"
      },
      "execution_count": null,
      "outputs": []
    },
    {
      "cell_type": "code",
      "source": [
        "n_features = 1"
      ],
      "metadata": {
        "id": "se1K9TW3Pcg7"
      },
      "execution_count": null,
      "outputs": []
    },
    {
      "cell_type": "code",
      "source": [
        "model = Sequential()\n",
        "\n",
        "model.add(SimpleRNN(30,input_shape=(length,n_features)))\n",
        "model.add(Dropout(rate=0.2))\n",
        "\n",
        "model.add(Dense(1))\n",
        "\n",
        "model.compile(optimizer='adam',loss='mse')"
      ],
      "metadata": {
        "id": "mZ3bDb-FPv9d"
      },
      "execution_count": null,
      "outputs": []
    },
    {
      "cell_type": "code",
      "source": [
        "model.summary()"
      ],
      "metadata": {
        "colab": {
          "base_uri": "https://localhost:8080/"
        },
        "id": "DZE0gLzpRBtI",
        "outputId": "1159c4aa-a2ef-42c4-e28e-08504c54587f"
      },
      "execution_count": null,
      "outputs": [
        {
          "output_type": "stream",
          "name": "stdout",
          "text": [
            "Model: \"sequential\"\n",
            "_________________________________________________________________\n",
            " Layer (type)                Output Shape              Param #   \n",
            "=================================================================\n",
            " simple_rnn (SimpleRNN)      (None, 30)                960       \n",
            "                                                                 \n",
            " dropout (Dropout)           (None, 30)                0         \n",
            "                                                                 \n",
            " dense (Dense)               (None, 1)                 31        \n",
            "                                                                 \n",
            "=================================================================\n",
            "Total params: 991\n",
            "Trainable params: 991\n",
            "Non-trainable params: 0\n",
            "_________________________________________________________________\n"
          ]
        }
      ]
    },
    {
      "cell_type": "code",
      "source": [
        "model.fit_generator(generator,epochs=10,shuffle=False)"
      ],
      "metadata": {
        "colab": {
          "base_uri": "https://localhost:8080/"
        },
        "id": "rjpu6wq5RE-s",
        "outputId": "069f68e7-2c53-42ce-f860-554b3f06fa4c"
      },
      "execution_count": null,
      "outputs": [
        {
          "output_type": "stream",
          "name": "stdout",
          "text": [
            "Epoch 1/10\n"
          ]
        },
        {
          "output_type": "stream",
          "name": "stderr",
          "text": [
            "/usr/local/lib/python3.7/dist-packages/ipykernel_launcher.py:1: UserWarning: `Model.fit_generator` is deprecated and will be removed in a future version. Please use `Model.fit`, which supports generators.\n",
            "  \"\"\"Entry point for launching an IPython kernel.\n"
          ]
        },
        {
          "output_type": "stream",
          "name": "stdout",
          "text": [
            "8/8 [==============================] - 4s 12ms/step - loss: 0.3989\n",
            "Epoch 2/10\n",
            "8/8 [==============================] - 0s 12ms/step - loss: 0.1370\n",
            "Epoch 3/10\n",
            "8/8 [==============================] - 0s 10ms/step - loss: 0.0693\n",
            "Epoch 4/10\n",
            "8/8 [==============================] - 0s 10ms/step - loss: 0.0503\n",
            "Epoch 5/10\n",
            "8/8 [==============================] - 0s 11ms/step - loss: 0.0513\n",
            "Epoch 6/10\n",
            "8/8 [==============================] - 0s 11ms/step - loss: 0.0469\n",
            "Epoch 7/10\n",
            "8/8 [==============================] - 0s 11ms/step - loss: 0.0362\n",
            "Epoch 8/10\n",
            "8/8 [==============================] - 0s 11ms/step - loss: 0.0333\n",
            "Epoch 9/10\n",
            "8/8 [==============================] - 0s 12ms/step - loss: 0.0257\n",
            "Epoch 10/10\n",
            "8/8 [==============================] - 0s 12ms/step - loss: 0.0280\n"
          ]
        },
        {
          "output_type": "execute_result",
          "data": {
            "text/plain": [
              "<keras.callbacks.History at 0x7f38304acb10>"
            ]
          },
          "metadata": {},
          "execution_count": 41
        }
      ]
    },
    {
      "cell_type": "code",
      "source": [
        "losses = pd.DataFrame(model.history.history)"
      ],
      "metadata": {
        "id": "SgTW6ieBRg_e"
      },
      "execution_count": null,
      "outputs": []
    },
    {
      "cell_type": "code",
      "source": [
        "losses.plot()"
      ],
      "metadata": {
        "colab": {
          "base_uri": "https://localhost:8080/",
          "height": 282
        },
        "id": "RS07gu4lRvWn",
        "outputId": "9724a100-8af3-405c-e326-f19357c94e66"
      },
      "execution_count": null,
      "outputs": [
        {
          "output_type": "execute_result",
          "data": {
            "text/plain": [
              "<matplotlib.axes._subplots.AxesSubplot at 0x7f3830164fd0>"
            ]
          },
          "metadata": {},
          "execution_count": 43
        },
        {
          "output_type": "display_data",
          "data": {
            "text/plain": [
              "<Figure size 432x288 with 1 Axes>"
            ],
            "image/png": "[encoded data removed]"
          },
          "metadata": {
            "needs_background": "light"
          }
        }
      ]
    },
    {
      "cell_type": "code",
      "source": [
        "first_eval_batch = scaled_train[-length:]"
      ],
      "metadata": {
        "id": "ajB5KfFmRzW7"
      },
      "execution_count": null,
      "outputs": []
    },
    {
      "cell_type": "code",
      "source": [
        "first_eval_batch"
      ],
      "metadata": {
        "colab": {
          "base_uri": "https://localhost:8080/"
        },
        "id": "4VTp0JJ6Slyc",
        "outputId": "dbb41cee-f5d9-4888-80c1-955914f2ecdf"
      },
      "execution_count": null,
      "outputs": [
        {
          "output_type": "execute_result",
          "data": {
            "text/plain": [
              "array([[0.3092384 ],\n",
              "       [0.30548053],\n",
              "       [0.28850938],\n",
              "       [0.32936127],\n",
              "       [0.33348297],\n",
              "       [0.37530466],\n",
              "       [0.4138533 ],\n",
              "       [0.29711616],\n",
              "       [0.31808767],\n",
              "       [0.29057014],\n",
              "       [0.25723397],\n",
              "       [0.27093216],\n",
              "       [0.2409902 ]])"
            ]
          },
          "metadata": {},
          "execution_count": 45
        }
      ]
    },
    {
      "cell_type": "code",
      "source": [
        "first_eval_batch = first_eval_batch.reshape((1,length,1))"
      ],
      "metadata": {
        "id": "h9JVaSutSoOR"
      },
      "execution_count": null,
      "outputs": []
    },
    {
      "cell_type": "code",
      "source": [
        "first_eval_batch"
      ],
      "metadata": {
        "colab": {
          "base_uri": "https://localhost:8080/"
        },
        "id": "zRCu-3usTEF5",
        "outputId": "6c409ff6-1ca9-4bfd-f7e3-7ba87b85709c"
      },
      "execution_count": null,
      "outputs": [
        {
          "output_type": "execute_result",
          "data": {
            "text/plain": [
              "array([[[0.3092384 ],\n",
              "        [0.30548053],\n",
              "        [0.28850938],\n",
              "        [0.32936127],\n",
              "        [0.33348297],\n",
              "        [0.37530466],\n",
              "        [0.4138533 ],\n",
              "        [0.29711616],\n",
              "        [0.31808767],\n",
              "        [0.29057014],\n",
              "        [0.25723397],\n",
              "        [0.27093216],\n",
              "        [0.2409902 ]]])"
            ]
          },
          "metadata": {},
          "execution_count": 47
        }
      ]
    },
    {
      "cell_type": "code",
      "source": [
        "model.predict(first_eval_batch)"
      ],
      "metadata": {
        "colab": {
          "base_uri": "https://localhost:8080/"
        },
        "id": "Bz7fWXQXTGY-",
        "outputId": "166d4fe5-e368-444c-9367-790f3c06958c"
      },
      "execution_count": null,
      "outputs": [
        {
          "output_type": "execute_result",
          "data": {
            "text/plain": [
              "array([[0.286445]], dtype=float32)"
            ]
          },
          "metadata": {},
          "execution_count": 48
        }
      ]
    },
    {
      "cell_type": "code",
      "source": [
        "scaled_test[0]"
      ],
      "metadata": {
        "colab": {
          "base_uri": "https://localhost:8080/"
        },
        "id": "OvUggybhTYMn",
        "outputId": "c0408971-ffec-4a5c-c926-202a5989a162"
      },
      "execution_count": null,
      "outputs": [
        {
          "output_type": "execute_result",
          "data": {
            "text/plain": [
              "array([0.19674401])"
            ]
          },
          "metadata": {},
          "execution_count": 49
        }
      ]
    },
    {
      "cell_type": "code",
      "source": [
        "test_pred = []\n",
        "\n",
        "first_eval_batch = scaled_train[-length:]\n",
        "current_batch = first_eval_batch.reshape((1,length,n_features))\n",
        "\n",
        "for i in range(len(test)):\n",
        "  current_pred = model.predict(current_batch)[0]\n",
        "\n",
        "  test_pred.append(current_pred)\n",
        "\n",
        "  current_batch = np.append(current_batch[:,1:,:],[[current_pred]],axis=1)"
      ],
      "metadata": {
        "id": "LR6rJQQUTmxM"
      },
      "execution_count": null,
      "outputs": []
    },
    {
      "cell_type": "code",
      "source": [
        "test_pred"
      ],
      "metadata": {
        "colab": {
          "base_uri": "https://localhost:8080/"
        },
        "id": "vjg9FOefU-YN",
        "outputId": "23a91dcf-545c-45b6-d69a-5a7dfd64ecd1"
      },
      "execution_count": null,
      "outputs": [
        {
          "output_type": "execute_result",
          "data": {
            "text/plain": [
              "[array([0.286445], dtype=float32),\n",
              " array([0.27729142], dtype=float32),\n",
              " array([0.20884717], dtype=float32),\n",
              " array([0.25862607], dtype=float32),\n",
              " array([0.2510341], dtype=float32),\n",
              " array([0.19426772], dtype=float32),\n",
              " array([0.24454036], dtype=float32),\n",
              " array([0.20488584], dtype=float32),\n",
              " array([0.23024824], dtype=float32),\n",
              " array([0.1879628], dtype=float32),\n",
              " array([0.17686167], dtype=float32),\n",
              " array([0.20205024], dtype=float32),\n",
              " array([0.18860519], dtype=float32)]"
            ]
          },
          "metadata": {},
          "execution_count": 51
        }
      ]
    },
    {
      "cell_type": "code",
      "source": [
        "true_pred = scaler.inverse_transform(test_pred)"
      ],
      "metadata": {
        "id": "4OwCTCOcVWHK"
      },
      "execution_count": null,
      "outputs": []
    },
    {
      "cell_type": "code",
      "source": [
        "true_pred"
      ],
      "metadata": {
        "colab": {
          "base_uri": "https://localhost:8080/"
        },
        "id": "a7pDjQkEVo_Z",
        "outputId": "045f1fdf-2cca-4919-aefd-05a255930f80"
      },
      "execution_count": null,
      "outputs": [
        {
          "output_type": "execute_result",
          "data": {
            "text/plain": [
              "array([[125.93970357],\n",
              "       [125.18459776],\n",
              "       [119.53842636],\n",
              "       [123.64483765],\n",
              "       [123.0185539 ],\n",
              "       [118.33572425],\n",
              "       [122.48286523],\n",
              "       [119.21164481],\n",
              "       [121.30386536],\n",
              "       [117.81561253],\n",
              "       [116.89984733],\n",
              "       [118.97772755],\n",
              "       [117.86860513]])"
            ]
          },
          "metadata": {},
          "execution_count": 53
        }
      ]
    },
    {
      "cell_type": "code",
      "source": [
        "test['prediction'] = true_pred"
      ],
      "metadata": {
        "colab": {
          "base_uri": "https://localhost:8080/"
        },
        "id": "bHpOrAnLVqVG",
        "outputId": "6c1369f2-9dbd-4b5a-98f3-9e0fa46ce95f"
      },
      "execution_count": null,
      "outputs": [
        {
          "output_type": "stream",
          "name": "stderr",
          "text": [
            "/usr/local/lib/python3.7/dist-packages/ipykernel_launcher.py:1: SettingWithCopyWarning: \n",
            "A value is trying to be set on a copy of a slice from a DataFrame.\n",
            "Try using .loc[row_indexer,col_indexer] = value instead\n",
            "\n",
            "See the caveats in the documentation: https://pandas.pydata.org/pandas-docs/stable/user_guide/indexing.html#returning-a-view-versus-a-copy\n",
            "  \"\"\"Entry point for launching an IPython kernel.\n"
          ]
        }
      ]
    },
    {
      "cell_type": "code",
      "source": [
        "test"
      ],
      "metadata": {
        "colab": {
          "base_uri": "https://localhost:8080/",
          "height": 457
        },
        "id": "YPdL1pmNV2pH",
        "outputId": "91362226-837b-4b0e-dd2e-ccc3e6da2ec4"
      },
      "execution_count": null,
      "outputs": [
        {
          "output_type": "execute_result",
          "data": {
            "text/plain": [
              "          Close  prediction\n",
              "240  118.540001  125.939704\n",
              "241  117.309998  125.184598\n",
              "242  113.779999  119.538426\n",
              "243  115.150002  123.644838\n",
              "244  114.410004  123.018554\n",
              "245  118.010002  118.335724\n",
              "246  114.800003  122.482865\n",
              "247  113.000000  119.211645\n",
              "248  115.879997  121.303865\n",
              "249  121.089996  117.815613\n",
              "250  120.949997  116.899847\n",
              "251  120.300003  118.977728\n",
              "252  114.559998  117.868605"
            ],
            "text/html": [
              "\n",
              "  <div id=\"df-c404a85a-ee98-4b1f-84a8-22f84681eb16\">\n",
              "    <div class=\"colab-df-container\">\n",
              "      <div>\n",
              "<style scoped>\n",
              "    .dataframe tbody tr th:only-of-type {\n",
              "        vertical-align: middle;\n",
              "    }\n",
              "\n",
              "    .dataframe tbody tr th {\n",
              "        vertical-align: top;\n",
              "    }\n",
              "\n",
              "    .dataframe thead th {\n",
              "        text-align: right;\n",
              "    }\n",
              "</style>\n",
              "<table border=\"1\" class=\"dataframe\">\n",
              "  <thead>\n",
              "    <tr style=\"text-align: right;\">\n",
              "      <th></th>\n",
              "      <th>Close</th>\n",
              "      <th>prediction</th>\n",
              "    </tr>\n",
              "  </thead>\n",
              "  <tbody>\n",
              "    <tr>\n",
              "      <th>240</th>\n",
              "      <td>118.540001</td>\n",
              "      <td>125.939704</td>\n",
              "    </tr>\n",
              "    <tr>\n",
              "      <th>241</th>\n",
              "      <td>117.309998</td>\n",
              "      <td>125.184598</td>\n",
              "    </tr>\n",
              "    <tr>\n",
              "      <th>242</th>\n",
              "      <td>113.779999</td>\n",
              "      <td>119.538426</td>\n",
              "    </tr>\n",
              "    <tr>\n",
              "      <th>243</th>\n",
              "      <td>115.150002</td>\n",
              "      <td>123.644838</td>\n",
              "    </tr>\n",
              "    <tr>\n",
              "      <th>244</th>\n",
              "      <td>114.410004</td>\n",
              "      <td>123.018554</td>\n",
              "    </tr>\n",
              "    <tr>\n",
              "      <th>245</th>\n",
              "      <td>118.010002</td>\n",
              "      <td>118.335724</td>\n",
              "    </tr>\n",
              "    <tr>\n",
              "      <th>246</th>\n",
              "      <td>114.800003</td>\n",
              "      <td>122.482865</td>\n",
              "    </tr>\n",
              "    <tr>\n",
              "      <th>247</th>\n",
              "      <td>113.000000</td>\n",
              "      <td>119.211645</td>\n",
              "    </tr>\n",
              "    <tr>\n",
              "      <th>248</th>\n",
              "      <td>115.879997</td>\n",
              "      <td>121.303865</td>\n",
              "    </tr>\n",
              "    <tr>\n",
              "      <th>249</th>\n",
              "      <td>121.089996</td>\n",
              "      <td>117.815613</td>\n",
              "    </tr>\n",
              "    <tr>\n",
              "      <th>250</th>\n",
              "      <td>120.949997</td>\n",
              "      <td>116.899847</td>\n",
              "    </tr>\n",
              "    <tr>\n",
              "      <th>251</th>\n",
              "      <td>120.300003</td>\n",
              "      <td>118.977728</td>\n",
              "    </tr>\n",
              "    <tr>\n",
              "      <th>252</th>\n",
              "      <td>114.559998</td>\n",
              "      <td>117.868605</td>\n",
              "    </tr>\n",
              "  </tbody>\n",
              "</table>\n",
              "</div>\n",
              "      <button class=\"colab-df-convert\" onclick=\"convertToInteractive('df-c404a85a-ee98-4b1f-84a8-22f84681eb16')\"\n",
              "              title=\"Convert this dataframe to an interactive table.\"\n",
              "              style=\"display:none;\">\n",
              "        \n",
              "  <svg xmlns=\"http://www.w3.org/2000/svg\" height=\"24px\"viewBox=\"0 0 24 24\"\n",
              "       width=\"24px\">\n",
              "    <path d=\"M0 0h24v24H0V0z\" fill=\"none\"/>\n",
              "    <path d=\"M18.56 5.44l.94 2.06.94-2.06 2.06-.94-2.06-.94-.94-2.06-.94 2.06-2.06.94zm-11 1L8.5 8.5l.94-2.06 2.06-.94-2.06-.94L8.5 2.5l-.94 2.06-2.06.94zm10 10l.94 2.06.94-2.06 2.06-.94-2.06-.94-.94-2.06-.94 2.06-2.06.94z\"/><path d=\"M17.41 7.96l-1.37-1.37c-.4-.4-.92-.59-1.43-.59-.52 0-1.04.2-1.43.59L10.3 9.45l-7.72 7.72c-.78.78-.78 2.05 0 2.83L4 21.41c.39.39.9.59 1.41.59.51 0 1.02-.2 1.41-.59l7.78-7.78 2.81-2.81c.8-.78.8-2.07 0-2.86zM5.41 20L4 18.59l7.72-7.72 1.47 1.35L5.41 20z\"/>\n",
              "  </svg>\n",
              "      </button>\n",
              "      \n",
              "  <style>\n",
              "    .colab-df-container {\n",
              "      display:flex;\n",
              "      flex-wrap:wrap;\n",
              "      gap: 12px;\n",
              "    }\n",
              "\n",
              "    .colab-df-convert {\n",
              "      background-color: #E8F0FE;\n",
              "      border: none;\n",
              "      border-radius: 50%;\n",
              "      cursor: pointer;\n",
              "      display: none;\n",
              "      fill: #1967D2;\n",
              "      height: 32px;\n",
              "      padding: 0 0 0 0;\n",
              "      width: 32px;\n",
              "    }\n",
              "\n",
              "    .colab-df-convert:hover {\n",
              "      background-color: #E2EBFA;\n",
              "      box-shadow: 0px 1px 2px rgba(60, 64, 67, 0.3), 0px 1px 3px 1px rgba(60, 64, 67, 0.15);\n",
              "      fill: #174EA6;\n",
              "    }\n",
              "\n",
              "    [theme=dark] .colab-df-convert {\n",
              "      background-color: #3B4455;\n",
              "      fill: #D2E3FC;\n",
              "    }\n",
              "\n",
              "    [theme=dark] .colab-df-convert:hover {\n",
              "      background-color: #434B5C;\n",
              "      box-shadow: 0px 1px 3px 1px rgba(0, 0, 0, 0.15);\n",
              "      filter: drop-shadow(0px 1px 2px rgba(0, 0, 0, 0.3));\n",
              "      fill: #FFFFFF;\n",
              "    }\n",
              "  </style>\n",
              "\n",
              "      <script>\n",
              "        const buttonEl =\n",
              "          document.querySelector('#df-c404a85a-ee98-4b1f-84a8-22f84681eb16 button.colab-df-convert');\n",
              "        buttonEl.style.display =\n",
              "          google.colab.kernel.accessAllowed ? 'block' : 'none';\n",
              "\n",
              "        async function convertToInteractive(key) {\n",
              "          const element = document.querySelector('#df-c404a85a-ee98-4b1f-84a8-22f84681eb16');\n",
              "          const dataTable =\n",
              "            await google.colab.kernel.invokeFunction('convertToInteractive',\n",
              "                                                     [key], {});\n",
              "          if (!dataTable) return;\n",
              "\n",
              "          const docLinkHtml = 'Like what you see? Visit the ' +\n",
              "            '<a target=\"_blank\" href=https://colab.research.google.com/notebooks/data_table.ipynb>data table notebook</a>'\n",
              "            + ' to learn more about interactive tables.';\n",
              "          element.innerHTML = '';\n",
              "          dataTable['output_type'] = 'display_data';\n",
              "          await google.colab.output.renderOutput(dataTable, element);\n",
              "          const docLink = document.createElement('div');\n",
              "          docLink.innerHTML = docLinkHtml;\n",
              "          element.appendChild(docLink);\n",
              "        }\n",
              "      </script>\n",
              "    </div>\n",
              "  </div>\n",
              "  "
            ]
          },
          "metadata": {},
          "execution_count": 55
        }
      ]
    },
    {
      "cell_type": "code",
      "source": [
        "test.plot(figsize=(16,10))\n"
      ],
      "metadata": {
        "colab": {
          "base_uri": "https://localhost:8080/",
          "height": 609
        },
        "id": "eXxibbyLV30W",
        "outputId": "3fd3ed80-90ea-4f25-e897-74569c26e763"
      },
      "execution_count": null,
      "outputs": [
        {
          "output_type": "execute_result",
          "data": {
            "text/plain": [
              "<matplotlib.axes._subplots.AxesSubplot at 0x7f37d668ea50>"
            ]
          },
          "metadata": {},
          "execution_count": 56
        },
        {
          "output_type": "display_data",
          "data": {
            "text/plain": [
              "<Figure size 1152x720 with 1 Axes>"
            ],
            "image/png": "[encoded data removed]"
          },
          "metadata": {
            "needs_background": "light"
          }
        }
      ]
    },
    {
      "cell_type": "code",
      "source": [
        "full_scaler = MinMaxScaler()\n",
        "\n",
        "sc = full_scaler.fit_transform(amz)"
      ],
      "metadata": {
        "id": "569FiSZmXGSh"
      },
      "execution_count": null,
      "outputs": []
    },
    {
      "cell_type": "code",
      "source": [
        "generator = TimeseriesGenerator(sc,sc,\n",
        "                                length=length,batch_size=32)"
      ],
      "metadata": {
        "id": "YRcreqigZHRp"
      },
      "execution_count": null,
      "outputs": []
    },
    {
      "cell_type": "code",
      "source": [
        "model = Sequential()\n",
        "\n",
        "model.add(SimpleRNN(30,input_shape=(length,n_features)))\n",
        "model.add(Dropout(rate=0.2))\n",
        "\n",
        "model.add(Dense(1))\n",
        "\n",
        "model.compile(optimizer='adam',loss='mse')"
      ],
      "metadata": {
        "id": "tyjPUsRHZtmE"
      },
      "execution_count": null,
      "outputs": []
    },
    {
      "cell_type": "code",
      "source": [
        "model.fit_generator(generator,epochs=10,shuffle=False)"
      ],
      "metadata": {
        "colab": {
          "base_uri": "https://localhost:8080/"
        },
        "id": "nFGwKATvaMus",
        "outputId": "08f952e2-51bf-43a4-9143-15fbdd256647"
      },
      "execution_count": null,
      "outputs": [
        {
          "output_type": "stream",
          "name": "stdout",
          "text": [
            "Epoch 1/10\n"
          ]
        },
        {
          "output_type": "stream",
          "name": "stderr",
          "text": [
            "/usr/local/lib/python3.7/dist-packages/ipykernel_launcher.py:1: UserWarning: `Model.fit_generator` is deprecated and will be removed in a future version. Please use `Model.fit`, which supports generators.\n",
            "  \"\"\"Entry point for launching an IPython kernel.\n"
          ]
        },
        {
          "output_type": "stream",
          "name": "stdout",
          "text": [
            "8/8 [==============================] - 1s 13ms/step - loss: 0.9153\n",
            "Epoch 2/10\n",
            "8/8 [==============================] - 0s 10ms/step - loss: 0.3356\n",
            "Epoch 3/10\n",
            "8/8 [==============================] - 0s 11ms/step - loss: 0.1601\n",
            "Epoch 4/10\n",
            "8/8 [==============================] - 0s 11ms/step - loss: 0.0788\n",
            "Epoch 5/10\n",
            "8/8 [==============================] - 0s 11ms/step - loss: 0.0679\n",
            "Epoch 6/10\n",
            "8/8 [==============================] - 0s 11ms/step - loss: 0.0665\n",
            "Epoch 7/10\n",
            "8/8 [==============================] - 0s 12ms/step - loss: 0.0641\n",
            "Epoch 8/10\n",
            "8/8 [==============================] - 0s 10ms/step - loss: 0.0611\n",
            "Epoch 9/10\n",
            "8/8 [==============================] - 0s 11ms/step - loss: 0.0440\n",
            "Epoch 10/10\n",
            "8/8 [==============================] - 0s 12ms/step - loss: 0.0449\n"
          ]
        },
        {
          "output_type": "execute_result",
          "data": {
            "text/plain": [
              "<keras.callbacks.History at 0x7f37d6683550>"
            ]
          },
          "metadata": {},
          "execution_count": 61
        }
      ]
    },
    {
      "cell_type": "code",
      "source": [
        "full_model_loss = pd.DataFrame(model.history.history)\n",
        "full_model_loss.plot()"
      ],
      "metadata": {
        "colab": {
          "base_uri": "https://localhost:8080/",
          "height": 282
        },
        "id": "XWBF8owUaZCR",
        "outputId": "509b65f7-a541-4939-f367-a1c1a1db49e1"
      },
      "execution_count": null,
      "outputs": [
        {
          "output_type": "execute_result",
          "data": {
            "text/plain": [
              "<matplotlib.axes._subplots.AxesSubplot at 0x7f37d66832d0>"
            ]
          },
          "metadata": {},
          "execution_count": 62
        },
        {
          "output_type": "display_data",
          "data": {
            "text/plain": [
              "<Figure size 432x288 with 1 Axes>"
            ],
            "image/png": "[encoded data removed]"
          },
          "metadata": {
            "needs_background": "light"
          }
        }
      ]
    },
    {
      "cell_type": "code",
      "source": [
        "forecast = []\n",
        "\n",
        "first_eval_batch = scaled_train[-length:]\n",
        "current_batch = first_eval_batch.reshape((1,length,n_features))\n",
        "\n",
        "for i in range(20):\n",
        "  current_pred = model.predict(current_batch)[0]\n",
        "\n",
        "  forecast.append(current_pred)\n",
        "\n",
        "  current_batch = np.append(current_batch[:,1:,:],[[current_pred]],axis=1)"
      ],
      "metadata": {
        "id": "ST6mpTp6alKr"
      },
      "execution_count": null,
      "outputs": []
    },
    {
      "cell_type": "code",
      "source": [
        "forecast = scaler.inverse_transform(forecast)"
      ],
      "metadata": {
        "id": "k21h6PzgbJyF"
      },
      "execution_count": null,
      "outputs": []
    },
    {
      "cell_type": "code",
      "source": [
        "forecast"
      ],
      "metadata": {
        "colab": {
          "base_uri": "https://localhost:8080/"
        },
        "id": "6cQ8j5x8bcBT",
        "outputId": "f5e6f97e-e28a-42aa-c377-6d1c75ecacf8"
      },
      "execution_count": null,
      "outputs": [
        {
          "output_type": "execute_result",
          "data": {
            "text/plain": [
              "array([[136.64758633],\n",
              "       [113.6683437 ],\n",
              "       [131.07617985],\n",
              "       [117.65588736],\n",
              "       [132.97034993],\n",
              "       [118.59394731],\n",
              "       [134.24805543],\n",
              "       [126.06597616],\n",
              "       [128.67316528],\n",
              "       [119.00012924],\n",
              "       [134.80545004],\n",
              "       [117.14506871],\n",
              "       [141.12132447],\n",
              "       [111.32375498],\n",
              "       [147.19726819],\n",
              "       [103.24736988],\n",
              "       [146.09848369],\n",
              "       [104.39608678],\n",
              "       [148.4341555 ],\n",
              "       [106.73526654]])"
            ]
          },
          "metadata": {},
          "execution_count": 65
        }
      ]
    },
    {
      "cell_type": "code",
      "source": [
        "forecast.flatten()"
      ],
      "metadata": {
        "colab": {
          "base_uri": "https://localhost:8080/"
        },
        "id": "6Z_LORdEbnXa",
        "outputId": "e7703736-cd5f-497b-c6cb-54d2540d0d00"
      },
      "execution_count": null,
      "outputs": [
        {
          "output_type": "execute_result",
          "data": {
            "text/plain": [
              "array([136.64758633, 113.6683437 , 131.07617985, 117.65588736,\n",
              "       132.97034993, 118.59394731, 134.24805543, 126.06597616,\n",
              "       128.67316528, 119.00012924, 134.80545004, 117.14506871,\n",
              "       141.12132447, 111.32375498, 147.19726819, 103.24736988,\n",
              "       146.09848369, 104.39608678, 148.4341555 , 106.73526654])"
            ]
          },
          "metadata": {},
          "execution_count": 66
        }
      ]
    },
    {
      "cell_type": "code",
      "source": [
        "df_array = np.array(amz)\n",
        "df_array"
      ],
      "metadata": {
        "colab": {
          "base_uri": "https://localhost:8080/"
        },
        "id": "0AVzKhk0b0U9",
        "outputId": "83510b85-8528-4e30-d3b3-fcb3f8509ee0"
      },
      "execution_count": null,
      "outputs": [
        {
          "output_type": "execute_result",
          "data": {
            "text/plain": [
              "array([[165.121506],\n",
              "       [164.431   ],\n",
              "       [162.315002],\n",
              "       [162.366501],\n",
              "       [164.214005],\n",
              "       [164.992996],\n",
              "       [170.451004],\n",
              "       [172.337006],\n",
              "       [172.207504],\n",
              "       [170.753006],\n",
              "       [171.750504],\n",
              "       [166.777496],\n",
              "       [166.018494],\n",
              "       [168.803497],\n",
              "       [169.624496],\n",
              "       [172.328506],\n",
              "       [168.621506],\n",
              "       [165.905502],\n",
              "       [165.637497],\n",
              "       [169.199997],\n",
              "       [173.850006],\n",
              "       [175.949493],\n",
              "       [174.449005],\n",
              "       [178.811493],\n",
              "       [174.102493],\n",
              "       [173.625   ],\n",
              "       [176.257507],\n",
              "       [177.283997],\n",
              "       [177.035004],\n",
              "       [177.449997],\n",
              "       [184.802994],\n",
              "       [183.828506],\n",
              "       [178.628494],\n",
              "       [179.001999],\n",
              "       [179.020493],\n",
              "       [175.227997],\n",
              "       [178.078506],\n",
              "       [175.3535  ],\n",
              "       [172.186005],\n",
              "       [171.867996],\n",
              "       [169.489502],\n",
              "       [171.3685  ],\n",
              "       [176.164505],\n",
              "       [176.158005],\n",
              "       [174.171005],\n",
              "       [172.212006],\n",
              "       [169.567505],\n",
              "       [169.091507],\n",
              "       [173.315002],\n",
              "       [168.871002],\n",
              "       [170.017502],\n",
              "       [167.078995],\n",
              "       [170.417007],\n",
              "       [171.037003],\n",
              "       [171.068497],\n",
              "       [169.669495],\n",
              "       [170.660995],\n",
              "       [169.201004],\n",
              "       [168.644501],\n",
              "       [166.716995],\n",
              "       [170.404495],\n",
              "       [167.522003],\n",
              "       [164.356995],\n",
              "       [163.253998],\n",
              "       [162.554001],\n",
              "       [161.485992],\n",
              "       [165.362   ],\n",
              "       [165.207001],\n",
              "       [161.214005],\n",
              "       [162.138   ],\n",
              "       [158.917496],\n",
              "       [156.298996],\n",
              "       [151.667496],\n",
              "       [142.643005],\n",
              "       [144.544006],\n",
              "       [139.985992],\n",
              "       [138.872498],\n",
              "       [139.637497],\n",
              "       [143.977997],\n",
              "       [149.573502],\n",
              "       [151.193497],\n",
              "       [150.612503],\n",
              "       [138.845505],\n",
              "       [157.639496],\n",
              "       [157.935501],\n",
              "       [161.413498],\n",
              "       [161.189499],\n",
              "       [159.003494],\n",
              "       [153.293503],\n",
              "       [155.167007],\n",
              "       [156.510498],\n",
              "       [158.100494],\n",
              "       [154.652496],\n",
              "       [152.601501],\n",
              "       [150.197495],\n",
              "       [144.826996],\n",
              "       [151.358002],\n",
              "       [153.788498],\n",
              "       [153.563004],\n",
              "       [151.141998],\n",
              "       [152.052505],\n",
              "       [147.898499],\n",
              "       [145.641006],\n",
              "       [137.453003],\n",
              "       [136.014496],\n",
              "       [139.279007],\n",
              "       [146.817505],\n",
              "       [145.524506],\n",
              "       [141.852997],\n",
              "       [147.366501],\n",
              "       [153.104004],\n",
              "       [157.238998],\n",
              "       [161.250504],\n",
              "       [161.491501],\n",
              "       [164.889008],\n",
              "       [163.408005],\n",
              "       [163.649506],\n",
              "       [164.773499],\n",
              "       [168.990494],\n",
              "       [169.315002],\n",
              "       [166.300995],\n",
              "       [162.997498],\n",
              "       [163.559998],\n",
              "       [168.346497],\n",
              "       [164.054993],\n",
              "       [158.755997],\n",
              "       [157.7845  ],\n",
              "       [154.460495],\n",
              "       [151.121994],\n",
              "       [150.787506],\n",
              "       [155.541   ],\n",
              "       [151.706497],\n",
              "       [152.785004],\n",
              "       [158.115494],\n",
              "       [153.998001],\n",
              "       [148.296005],\n",
              "       [144.350006],\n",
              "       [146.074005],\n",
              "       [139.391006],\n",
              "       [138.167007],\n",
              "       [144.596497],\n",
              "       [124.281502],\n",
              "       [124.5     ],\n",
              "       [124.253502],\n",
              "       [125.928497],\n",
              "       [116.406998],\n",
              "       [114.772499],\n",
              "       [108.789001],\n",
              "       [108.859001],\n",
              "       [105.372002],\n",
              "       [106.930496],\n",
              "       [113.055   ],\n",
              "       [110.810501],\n",
              "       [115.3685  ],\n",
              "       [107.112503],\n",
              "       [107.319   ],\n",
              "       [107.591003],\n",
              "       [107.556999],\n",
              "       [104.099998],\n",
              "       [106.775002],\n",
              "       [111.077499],\n",
              "       [115.1465  ],\n",
              "       [120.209503],\n",
              "       [121.683998],\n",
              "       [125.511002],\n",
              "       [122.349998],\n",
              "       [124.790001],\n",
              "       [123.      ],\n",
              "       [121.18    ],\n",
              "       [116.150002],\n",
              "       [109.650002],\n",
              "       [103.669998],\n",
              "       [102.309998],\n",
              "       [107.669998],\n",
              "       [103.660004],\n",
              "       [106.220001],\n",
              "       [108.68    ],\n",
              "       [108.949997],\n",
              "       [112.440002],\n",
              "       [116.459999],\n",
              "       [113.220001],\n",
              "       [107.400002],\n",
              "       [108.919998],\n",
              "       [106.209999],\n",
              "       [109.559998],\n",
              "       [113.5     ],\n",
              "       [114.330002],\n",
              "       [116.330002],\n",
              "       [115.540001],\n",
              "       [111.75    ],\n",
              "       [109.220001],\n",
              "       [110.400002],\n",
              "       [110.629997],\n",
              "       [113.550003],\n",
              "       [113.760002],\n",
              "       [118.209999],\n",
              "       [122.769997],\n",
              "       [124.629997],\n",
              "       [122.419998],\n",
              "       [121.139999],\n",
              "       [114.809998],\n",
              "       [120.970001],\n",
              "       [122.279999],\n",
              "       [134.949997],\n",
              "       [135.389999],\n",
              "       [134.160004],\n",
              "       [139.520004],\n",
              "       [142.570007],\n",
              "       [140.800003],\n",
              "       [139.410004],\n",
              "       [137.830002],\n",
              "       [142.690002],\n",
              "       [140.639999],\n",
              "       [143.550003],\n",
              "       [143.179993],\n",
              "       [144.779999],\n",
              "       [142.100006],\n",
              "       [142.300003],\n",
              "       [138.229996],\n",
              "       [133.220001],\n",
              "       [133.619995],\n",
              "       [133.800003],\n",
              "       [137.279999],\n",
              "       [130.75    ],\n",
              "       [129.789993],\n",
              "       [128.729996],\n",
              "       [126.769997],\n",
              "       [127.82    ],\n",
              "       [127.510002],\n",
              "       [126.110001],\n",
              "       [129.479996],\n",
              "       [129.820007],\n",
              "       [133.270004],\n",
              "       [136.449997],\n",
              "       [126.82    ],\n",
              "       [128.550003],\n",
              "       [126.279999],\n",
              "       [123.529999],\n",
              "       [124.660004],\n",
              "       [122.190002],\n",
              "       [118.540001],\n",
              "       [117.309998],\n",
              "       [113.779999],\n",
              "       [115.150002],\n",
              "       [114.410004],\n",
              "       [118.010002],\n",
              "       [114.800003],\n",
              "       [113.      ],\n",
              "       [115.879997],\n",
              "       [121.089996],\n",
              "       [120.949997],\n",
              "       [120.300003],\n",
              "       [114.559998]])"
            ]
          },
          "metadata": {},
          "execution_count": 67
        }
      ]
    },
    {
      "cell_type": "code",
      "source": [
        "full_data = pd.DataFrame(np.concatenate((df_array.flatten(),forecast.flatten())))"
      ],
      "metadata": {
        "id": "gMZJN61Wb-Rf"
      },
      "execution_count": null,
      "outputs": []
    },
    {
      "cell_type": "code",
      "source": [
        "\n",
        "full_data.plot(figsize=(20,16))\n"
      ],
      "metadata": {
        "colab": {
          "base_uri": "https://localhost:8080/",
          "height": 935
        },
        "id": "B-SbQBaFcNj0",
        "outputId": "3fd1d679-da18-488b-a7ae-51e0c106586f"
      },
      "execution_count": null,
      "outputs": [
        {
          "output_type": "execute_result",
          "data": {
            "text/plain": [
              "<matplotlib.axes._subplots.AxesSubplot at 0x7f383007c250>"
            ]
          },
          "metadata": {},
          "execution_count": 69
        },
        {
          "output_type": "display_data",
          "data": {
            "text/plain": [
              "<Figure size 1440x1152 with 1 Axes>"
            ],
            "image/png": "[encoded data removed]"
          },
          "metadata": {
            "needs_background": "light"
          }
        }
      ]
    },
    {
      "cell_type": "code",
      "source": [
        "df.Close.plot(figsize=(20,16))\n"
      ],
      "metadata": {
        "colab": {
          "base_uri": "https://localhost:8080/",
          "height": 935
        },
        "id": "fhQkYGkZcjJM",
        "outputId": "d0b27ff1-036b-4997-ead9-15d475e2ab29"
      },
      "execution_count": null,
      "outputs": [
        {
          "output_type": "execute_result",
          "data": {
            "text/plain": [
              "<matplotlib.axes._subplots.AxesSubplot at 0x7f3830065490>"
            ]
          },
          "metadata": {},
          "execution_count": 70
        },
        {
          "output_type": "display_data",
          "data": {
            "text/plain": [
              "<Figure size 1440x1152 with 1 Axes>"
            ],
            "image/png": "[encoded data removed]"
          },
          "metadata": {
            "needs_background": "light"
          }
        }
      ]
    },
    {
      "cell_type": "code",
      "source": [],
      "metadata": {
        "id": "-pCGmC7mds2U"
      },
      "execution_count": null,
      "outputs": []
    },
    {
      "cell_type": "markdown",
      "source": [
        "LSTM MODEL\n"
      ],
      "metadata": {
        "id": "zcdudSCEjxwC"
      }
    },
    {
      "cell_type": "code",
      "source": [
        "from tensorflow.keras.callbacks import EarlyStopping\n",
        "early_stop = EarlyStopping(monitor='val_loss',patience=2)"
      ],
      "metadata": {
        "id": "VqKpnSTGi6Cv"
      },
      "execution_count": null,
      "outputs": []
    },
    {
      "cell_type": "code",
      "source": [
        "scaled_test.shape"
      ],
      "metadata": {
        "colab": {
          "base_uri": "https://localhost:8080/"
        },
        "id": "ajWoPqOkkBkN",
        "outputId": "0ed24fe4-c446-4c6f-b821-8087a1d55dbb"
      },
      "execution_count": null,
      "outputs": [
        {
          "output_type": "execute_result",
          "data": {
            "text/plain": [
              "(13, 1)"
            ]
          },
          "metadata": {},
          "execution_count": 72
        }
      ]
    },
    {
      "cell_type": "code",
      "source": [
        "length = 12\n",
        "\n",
        "generator = TimeseriesGenerator(scaled_train,scaled_train,\n",
        "                                length=length, batch_size=32)\n",
        "validation_generator = TimeseriesGenerator(scaled_test,scaled_test,\n",
        "                                           length=length, batch_size=32)"
      ],
      "metadata": {
        "id": "kUTjmjfpkEuA"
      },
      "execution_count": null,
      "outputs": []
    },
    {
      "cell_type": "code",
      "source": [
        "model = Sequential()\n",
        "\n",
        "model.add(LSTM(50,input_shape=(length,n_features)))\n",
        "model.add(Dropout(rate=0.2))\n",
        "\n",
        "model.add(Dense(1))\n",
        "\n",
        "model.compile(optimizer='adam',loss='mse')"
      ],
      "metadata": {
        "id": "eqMkEo5QlDlS"
      },
      "execution_count": null,
      "outputs": []
    },
    {
      "cell_type": "code",
      "source": [
        "model.fit_generator(generator,epochs=30,\n",
        "                    validation_data=validation_generator,\n",
        "                    callbacks=[early_stop],shuffle=False)"
      ],
      "metadata": {
        "colab": {
          "base_uri": "https://localhost:8080/"
        },
        "id": "Na5Qd21tlzZe",
        "outputId": "7a4ebd4e-b9d1-4944-b898-63291afe5b8b"
      },
      "execution_count": null,
      "outputs": [
        {
          "output_type": "stream",
          "name": "stdout",
          "text": [
            "Epoch 1/30\n"
          ]
        },
        {
          "output_type": "stream",
          "name": "stderr",
          "text": [
            "/usr/local/lib/python3.7/dist-packages/ipykernel_launcher.py:3: UserWarning: `Model.fit_generator` is deprecated and will be removed in a future version. Please use `Model.fit`, which supports generators.\n",
            "  This is separate from the ipykernel package so we can avoid doing imports until\n"
          ]
        },
        {
          "output_type": "stream",
          "name": "stdout",
          "text": [
            "8/8 [==============================] - 2s 60ms/step - loss: 0.3238 - val_loss: 0.0017\n",
            "Epoch 2/30\n",
            "8/8 [==============================] - 0s 10ms/step - loss: 0.1128 - val_loss: 0.0071\n",
            "Epoch 3/30\n",
            "8/8 [==============================] - 0s 9ms/step - loss: 0.0314 - val_loss: 0.0294\n"
          ]
        },
        {
          "output_type": "execute_result",
          "data": {
            "text/plain": [
              "<keras.callbacks.History at 0x7f37d64301d0>"
            ]
          },
          "metadata": {},
          "execution_count": 81
        }
      ]
    },
    {
      "cell_type": "code",
      "source": [
        "losses = pd.DataFrame(model.history.history)\n",
        "losses.plot()"
      ],
      "metadata": {
        "colab": {
          "base_uri": "https://localhost:8080/",
          "height": 282
        },
        "id": "_kE5YtJmmGkm",
        "outputId": "0de2854c-d97c-4bd9-dffc-2a53e0402634"
      },
      "execution_count": null,
      "outputs": [
        {
          "output_type": "execute_result",
          "data": {
            "text/plain": [
              "<matplotlib.axes._subplots.AxesSubplot at 0x7f37d1811750>"
            ]
          },
          "metadata": {},
          "execution_count": 82
        },
        {
          "output_type": "display_data",
          "data": {
            "text/plain": [
              "<Figure size 432x288 with 1 Axes>"
            ],
            "image/png": "[encoded data removed]"
          },
          "metadata": {
            "needs_background": "light"
          }
        }
      ]
    },
    {
      "cell_type": "code",
      "source": [
        "test_pred = []\n",
        "\n",
        "first_eval_batch = scaled_train[-length:]\n",
        "current_batch = first_eval_batch.reshape((1,length,n_features))\n",
        "\n",
        "for i in range(len(test)):\n",
        "  current_pred = model.predict(current_batch)[0]\n",
        "\n",
        "  test_pred.append(current_pred)\n",
        "\n",
        "  current_batch = np.append(current_batch[:,1:,:],[[current_pred]],axis=1)"
      ],
      "metadata": {
        "id": "r11e3mLBmmx5"
      },
      "execution_count": null,
      "outputs": []
    },
    {
      "cell_type": "code",
      "source": [
        "true_pred = scaler.inverse_transform(test_pred)\n",
        "test['LSTM_Pred'] = true_pred\n",
        "test.plot(figsize=(16,12))"
      ],
      "metadata": {
        "colab": {
          "base_uri": "https://localhost:8080/",
          "height": 821
        },
        "id": "bCx9bV4vnG2o",
        "outputId": "e32d8ee2-c658-496b-ba54-2ca0cbbad7c1"
      },
      "execution_count": null,
      "outputs": [
        {
          "output_type": "stream",
          "name": "stderr",
          "text": [
            "/usr/local/lib/python3.7/dist-packages/ipykernel_launcher.py:2: SettingWithCopyWarning: \n",
            "A value is trying to be set on a copy of a slice from a DataFrame.\n",
            "Try using .loc[row_indexer,col_indexer] = value instead\n",
            "\n",
            "See the caveats in the documentation: https://pandas.pydata.org/pandas-docs/stable/user_guide/indexing.html#returning-a-view-versus-a-copy\n",
            "  \n"
          ]
        },
        {
          "output_type": "execute_result",
          "data": {
            "text/plain": [
              "<matplotlib.axes._subplots.AxesSubplot at 0x7f37cedc2a90>"
            ]
          },
          "metadata": {},
          "execution_count": 84
        },
        {
          "output_type": "display_data",
          "data": {
            "text/plain": [
              "<Figure size 1152x864 with 1 Axes>"
            ],
            "image/png": "[encoded data removed]"
          },
          "metadata": {
            "needs_background": "light"
          }
        }
      ]
    },
    {
      "cell_type": "markdown",
      "source": [
        "FB Prophet\n"
      ],
      "metadata": {
        "id": "GMyv8-QtpeeB"
      }
    },
    {
      "cell_type": "code",
      "source": [
        "df.reset_index(inplace=True)"
      ],
      "metadata": {
        "id": "OE95SiCGne-9"
      },
      "execution_count": null,
      "outputs": []
    },
    {
      "cell_type": "code",
      "source": [
        "data = df[['Date','Close']]"
      ],
      "metadata": {
        "id": "5onEXBpFthEk"
      },
      "execution_count": null,
      "outputs": []
    },
    {
      "cell_type": "code",
      "source": [
        "data.head()"
      ],
      "metadata": {
        "colab": {
          "base_uri": "https://localhost:8080/",
          "height": 206
        },
        "id": "RkCkI5lotma-",
        "outputId": "e1201dbb-d089-4bd2-f874-f0781e3f53e0"
      },
      "execution_count": null,
      "outputs": [
        {
          "output_type": "execute_result",
          "data": {
            "text/plain": [
              "        Date       Close\n",
              "0 2021-10-07  165.121506\n",
              "1 2021-10-08  164.431000\n",
              "2 2021-10-11  162.315002\n",
              "3 2021-10-12  162.366501\n",
              "4 2021-10-13  164.214005"
            ],
            "text/html": [
              "\n",
              "  <div id=\"df-6a7d5eb4-2919-4a82-b389-d77372293227\">\n",
              "    <div class=\"colab-df-container\">\n",
              "      <div>\n",
              "<style scoped>\n",
              "    .dataframe tbody tr th:only-of-type {\n",
              "        vertical-align: middle;\n",
              "    }\n",
              "\n",
              "    .dataframe tbody tr th {\n",
              "        vertical-align: top;\n",
              "    }\n",
              "\n",
              "    .dataframe thead th {\n",
              "        text-align: right;\n",
              "    }\n",
              "</style>\n",
              "<table border=\"1\" class=\"dataframe\">\n",
              "  <thead>\n",
              "    <tr style=\"text-align: right;\">\n",
              "      <th></th>\n",
              "      <th>Date</th>\n",
              "      <th>Close</th>\n",
              "    </tr>\n",
              "  </thead>\n",
              "  <tbody>\n",
              "    <tr>\n",
              "      <th>0</th>\n",
              "      <td>2021-10-07</td>\n",
              "      <td>165.121506</td>\n",
              "    </tr>\n",
              "    <tr>\n",
              "      <th>1</th>\n",
              "      <td>2021-10-08</td>\n",
              "      <td>164.431000</td>\n",
              "    </tr>\n",
              "    <tr>\n",
              "      <th>2</th>\n",
              "      <td>2021-10-11</td>\n",
              "      <td>162.315002</td>\n",
              "    </tr>\n",
              "    <tr>\n",
              "      <th>3</th>\n",
              "      <td>2021-10-12</td>\n",
              "      <td>162.366501</td>\n",
              "    </tr>\n",
              "    <tr>\n",
              "      <th>4</th>\n",
              "      <td>2021-10-13</td>\n",
              "      <td>164.214005</td>\n",
              "    </tr>\n",
              "  </tbody>\n",
              "</table>\n",
              "</div>\n",
              "      <button class=\"colab-df-convert\" onclick=\"convertToInteractive('df-6a7d5eb4-2919-4a82-b389-d77372293227')\"\n",
              "              title=\"Convert this dataframe to an interactive table.\"\n",
              "              style=\"display:none;\">\n",
              "        \n",
              "  <svg xmlns=\"http://www.w3.org/2000/svg\" height=\"24px\"viewBox=\"0 0 24 24\"\n",
              "       width=\"24px\">\n",
              "    <path d=\"M0 0h24v24H0V0z\" fill=\"none\"/>\n",
              "    <path d=\"M18.56 5.44l.94 2.06.94-2.06 2.06-.94-2.06-.94-.94-2.06-.94 2.06-2.06.94zm-11 1L8.5 8.5l.94-2.06 2.06-.94-2.06-.94L8.5 2.5l-.94 2.06-2.06.94zm10 10l.94 2.06.94-2.06 2.06-.94-2.06-.94-.94-2.06-.94 2.06-2.06.94z\"/><path d=\"M17.41 7.96l-1.37-1.37c-.4-.4-.92-.59-1.43-.59-.52 0-1.04.2-1.43.59L10.3 9.45l-7.72 7.72c-.78.78-.78 2.05 0 2.83L4 21.41c.39.39.9.59 1.41.59.51 0 1.02-.2 1.41-.59l7.78-7.78 2.81-2.81c.8-.78.8-2.07 0-2.86zM5.41 20L4 18.59l7.72-7.72 1.47 1.35L5.41 20z\"/>\n",
              "  </svg>\n",
              "      </button>\n",
              "      \n",
              "  <style>\n",
              "    .colab-df-container {\n",
              "      display:flex;\n",
              "      flex-wrap:wrap;\n",
              "      gap: 12px;\n",
              "    }\n",
              "\n",
              "    .colab-df-convert {\n",
              "      background-color: #E8F0FE;\n",
              "      border: none;\n",
              "      border-radius: 50%;\n",
              "      cursor: pointer;\n",
              "      display: none;\n",
              "      fill: #1967D2;\n",
              "      height: 32px;\n",
              "      padding: 0 0 0 0;\n",
              "      width: 32px;\n",
              "    }\n",
              "\n",
              "    .colab-df-convert:hover {\n",
              "      background-color: #E2EBFA;\n",
              "      box-shadow: 0px 1px 2px rgba(60, 64, 67, 0.3), 0px 1px 3px 1px rgba(60, 64, 67, 0.15);\n",
              "      fill: #174EA6;\n",
              "    }\n",
              "\n",
              "    [theme=dark] .colab-df-convert {\n",
              "      background-color: #3B4455;\n",
              "      fill: #D2E3FC;\n",
              "    }\n",
              "\n",
              "    [theme=dark] .colab-df-convert:hover {\n",
              "      background-color: #434B5C;\n",
              "      box-shadow: 0px 1px 3px 1px rgba(0, 0, 0, 0.15);\n",
              "      filter: drop-shadow(0px 1px 2px rgba(0, 0, 0, 0.3));\n",
              "      fill: #FFFFFF;\n",
              "    }\n",
              "  </style>\n",
              "\n",
              "      <script>\n",
              "        const buttonEl =\n",
              "          document.querySelector('#df-6a7d5eb4-2919-4a82-b389-d77372293227 button.colab-df-convert');\n",
              "        buttonEl.style.display =\n",
              "          google.colab.kernel.accessAllowed ? 'block' : 'none';\n",
              "\n",
              "        async function convertToInteractive(key) {\n",
              "          const element = document.querySelector('#df-6a7d5eb4-2919-4a82-b389-d77372293227');\n",
              "          const dataTable =\n",
              "            await google.colab.kernel.invokeFunction('convertToInteractive',\n",
              "                                                     [key], {});\n",
              "          if (!dataTable) return;\n",
              "\n",
              "          const docLinkHtml = 'Like what you see? Visit the ' +\n",
              "            '<a target=\"_blank\" href=https://colab.research.google.com/notebooks/data_table.ipynb>data table notebook</a>'\n",
              "            + ' to learn more about interactive tables.';\n",
              "          element.innerHTML = '';\n",
              "          dataTable['output_type'] = 'display_data';\n",
              "          await google.colab.output.renderOutput(dataTable, element);\n",
              "          const docLink = document.createElement('div');\n",
              "          docLink.innerHTML = docLinkHtml;\n",
              "          element.appendChild(docLink);\n",
              "        }\n",
              "      </script>\n",
              "    </div>\n",
              "  </div>\n",
              "  "
            ]
          },
          "metadata": {},
          "execution_count": 87
        }
      ]
    },
    {
      "cell_type": "code",
      "source": [
        "data = data.rename(columns= {'Date':'ds','Close':'y'})"
      ],
      "metadata": {
        "id": "V-SwyYmAtnPP"
      },
      "execution_count": null,
      "outputs": []
    },
    {
      "cell_type": "code",
      "source": [
        "data.head()"
      ],
      "metadata": {
        "colab": {
          "base_uri": "https://localhost:8080/",
          "height": 206
        },
        "id": "W0aM8s5Xt0RW",
        "outputId": "6c151756-18e6-4c6e-85c1-ea621c940d1c"
      },
      "execution_count": null,
      "outputs": [
        {
          "output_type": "execute_result",
          "data": {
            "text/plain": [
              "          ds           y\n",
              "0 2021-10-07  165.121506\n",
              "1 2021-10-08  164.431000\n",
              "2 2021-10-11  162.315002\n",
              "3 2021-10-12  162.366501\n",
              "4 2021-10-13  164.214005"
            ],
            "text/html": [
              "\n",
              "  <div id=\"df-7782958c-eaca-44a3-9bfe-a547486cb59b\">\n",
              "    <div class=\"colab-df-container\">\n",
              "      <div>\n",
              "<style scoped>\n",
              "    .dataframe tbody tr th:only-of-type {\n",
              "        vertical-align: middle;\n",
              "    }\n",
              "\n",
              "    .dataframe tbody tr th {\n",
              "        vertical-align: top;\n",
              "    }\n",
              "\n",
              "    .dataframe thead th {\n",
              "        text-align: right;\n",
              "    }\n",
              "</style>\n",
              "<table border=\"1\" class=\"dataframe\">\n",
              "  <thead>\n",
              "    <tr style=\"text-align: right;\">\n",
              "      <th></th>\n",
              "      <th>ds</th>\n",
              "      <th>y</th>\n",
              "    </tr>\n",
              "  </thead>\n",
              "  <tbody>\n",
              "    <tr>\n",
              "      <th>0</th>\n",
              "      <td>2021-10-07</td>\n",
              "      <td>165.121506</td>\n",
              "    </tr>\n",
              "    <tr>\n",
              "      <th>1</th>\n",
              "      <td>2021-10-08</td>\n",
              "      <td>164.431000</td>\n",
              "    </tr>\n",
              "    <tr>\n",
              "      <th>2</th>\n",
              "      <td>2021-10-11</td>\n",
              "      <td>162.315002</td>\n",
              "    </tr>\n",
              "    <tr>\n",
              "      <th>3</th>\n",
              "      <td>2021-10-12</td>\n",
              "      <td>162.366501</td>\n",
              "    </tr>\n",
              "    <tr>\n",
              "      <th>4</th>\n",
              "      <td>2021-10-13</td>\n",
              "      <td>164.214005</td>\n",
              "    </tr>\n",
              "  </tbody>\n",
              "</table>\n",
              "</div>\n",
              "      <button class=\"colab-df-convert\" onclick=\"convertToInteractive('df-7782958c-eaca-44a3-9bfe-a547486cb59b')\"\n",
              "              title=\"Convert this dataframe to an interactive table.\"\n",
              "              style=\"display:none;\">\n",
              "        \n",
              "  <svg xmlns=\"http://www.w3.org/2000/svg\" height=\"24px\"viewBox=\"0 0 24 24\"\n",
              "       width=\"24px\">\n",
              "    <path d=\"M0 0h24v24H0V0z\" fill=\"none\"/>\n",
              "    <path d=\"M18.56 5.44l.94 2.06.94-2.06 2.06-.94-2.06-.94-.94-2.06-.94 2.06-2.06.94zm-11 1L8.5 8.5l.94-2.06 2.06-.94-2.06-.94L8.5 2.5l-.94 2.06-2.06.94zm10 10l.94 2.06.94-2.06 2.06-.94-2.06-.94-.94-2.06-.94 2.06-2.06.94z\"/><path d=\"M17.41 7.96l-1.37-1.37c-.4-.4-.92-.59-1.43-.59-.52 0-1.04.2-1.43.59L10.3 9.45l-7.72 7.72c-.78.78-.78 2.05 0 2.83L4 21.41c.39.39.9.59 1.41.59.51 0 1.02-.2 1.41-.59l7.78-7.78 2.81-2.81c.8-.78.8-2.07 0-2.86zM5.41 20L4 18.59l7.72-7.72 1.47 1.35L5.41 20z\"/>\n",
              "  </svg>\n",
              "      </button>\n",
              "      \n",
              "  <style>\n",
              "    .colab-df-container {\n",
              "      display:flex;\n",
              "      flex-wrap:wrap;\n",
              "      gap: 12px;\n",
              "    }\n",
              "\n",
              "    .colab-df-convert {\n",
              "      background-color: #E8F0FE;\n",
              "      border: none;\n",
              "      border-radius: 50%;\n",
              "      cursor: pointer;\n",
              "      display: none;\n",
              "      fill: #1967D2;\n",
              "      height: 32px;\n",
              "      padding: 0 0 0 0;\n",
              "      width: 32px;\n",
              "    }\n",
              "\n",
              "    .colab-df-convert:hover {\n",
              "      background-color: #E2EBFA;\n",
              "      box-shadow: 0px 1px 2px rgba(60, 64, 67, 0.3), 0px 1px 3px 1px rgba(60, 64, 67, 0.15);\n",
              "      fill: #174EA6;\n",
              "    }\n",
              "\n",
              "    [theme=dark] .colab-df-convert {\n",
              "      background-color: #3B4455;\n",
              "      fill: #D2E3FC;\n",
              "    }\n",
              "\n",
              "    [theme=dark] .colab-df-convert:hover {\n",
              "      background-color: #434B5C;\n",
              "      box-shadow: 0px 1px 3px 1px rgba(0, 0, 0, 0.15);\n",
              "      filter: drop-shadow(0px 1px 2px rgba(0, 0, 0, 0.3));\n",
              "      fill: #FFFFFF;\n",
              "    }\n",
              "  </style>\n",
              "\n",
              "      <script>\n",
              "        const buttonEl =\n",
              "          document.querySelector('#df-7782958c-eaca-44a3-9bfe-a547486cb59b button.colab-df-convert');\n",
              "        buttonEl.style.display =\n",
              "          google.colab.kernel.accessAllowed ? 'block' : 'none';\n",
              "\n",
              "        async function convertToInteractive(key) {\n",
              "          const element = document.querySelector('#df-7782958c-eaca-44a3-9bfe-a547486cb59b');\n",
              "          const dataTable =\n",
              "            await google.colab.kernel.invokeFunction('convertToInteractive',\n",
              "                                                     [key], {});\n",
              "          if (!dataTable) return;\n",
              "\n",
              "          const docLinkHtml = 'Like what you see? Visit the ' +\n",
              "            '<a target=\"_blank\" href=https://colab.research.google.com/notebooks/data_table.ipynb>data table notebook</a>'\n",
              "            + ' to learn more about interactive tables.';\n",
              "          element.innerHTML = '';\n",
              "          dataTable['output_type'] = 'display_data';\n",
              "          await google.colab.output.renderOutput(dataTable, element);\n",
              "          const docLink = document.createElement('div');\n",
              "          docLink.innerHTML = docLinkHtml;\n",
              "          element.appendChild(docLink);\n",
              "        }\n",
              "      </script>\n",
              "    </div>\n",
              "  </div>\n",
              "  "
            ]
          },
          "metadata": {},
          "execution_count": 89
        }
      ]
    },
    {
      "cell_type": "code",
      "source": [
        "from prophet import Prophet"
      ],
      "metadata": {
        "id": "ngEi3veTwg-u"
      },
      "execution_count": null,
      "outputs": []
    },
    {
      "cell_type": "code",
      "source": [
        "m = Prophet(changepoint_prior_scale=0.15,daily_seasonality=True)\n",
        "m.fit(data)"
      ],
      "metadata": {
        "colab": {
          "base_uri": "https://localhost:8080/"
        },
        "id": "d_MzUuocwwrH",
        "outputId": "5dc95df1-5a7d-473e-c151-cfd609068138"
      },
      "execution_count": null,
      "outputs": [
        {
          "output_type": "stream",
          "name": "stderr",
          "text": [
            "INFO:prophet:Disabling yearly seasonality. Run prophet with yearly_seasonality=True to override this.\n",
            "DEBUG:cmdstanpy:input tempfile: /tmp/tmpuy5d0b3i/kanbs4lp.json\n",
            "DEBUG:cmdstanpy:input tempfile: /tmp/tmpuy5d0b3i/xi117yk1.json\n",
            "DEBUG:cmdstanpy:idx 0\n",
            "DEBUG:cmdstanpy:running CmdStan, num_threads: None\n",
            "DEBUG:cmdstanpy:CmdStan args: ['/usr/local/lib/python3.7/dist-packages/prophet/stan_model/prophet_model.bin', 'random', 'seed=26001', 'data', 'file=/tmp/tmpuy5d0b3i/kanbs4lp.json', 'init=/tmp/tmpuy5d0b3i/xi117yk1.json', 'output', 'file=/tmp/tmpuy5d0b3i/prophet_modelageteksa/prophet_model-20221008090135.csv', 'method=optimize', 'algorithm=lbfgs', 'iter=10000']\n",
            "09:01:35 - cmdstanpy - INFO - Chain [1] start processing\n",
            "INFO:cmdstanpy:Chain [1] start processing\n",
            "09:01:35 - cmdstanpy - INFO - Chain [1] done processing\n",
            "INFO:cmdstanpy:Chain [1] done processing\n"
          ]
        },
        {
          "output_type": "execute_result",
          "data": {
            "text/plain": [
              "<prophet.forecaster.Prophet at 0x7f37ceea5e50>"
            ]
          },
          "metadata": {},
          "execution_count": 91
        }
      ]
    },
    {
      "cell_type": "code",
      "source": [
        "future = m.make_future_dataframe(periods=21)\n",
        "prediction = m.predict(future)\n",
        "m.plot(prediction)\n",
        "plt.title(\"Prediction\")\n",
        "plt.xlabel('Date')\n",
        "plt.ylabel('Close Stock Price')\n",
        "plt.show()"
      ],
      "metadata": {
        "colab": {
          "base_uri": "https://localhost:8080/",
          "height": 457
        },
        "id": "Iio57yHBxBNU",
        "outputId": "bae1e49a-f247-4a30-b887-1187d4632595"
      },
      "execution_count": null,
      "outputs": [
        {
          "output_type": "display_data",
          "data": {
            "text/plain": [
              "<Figure size 720x432 with 1 Axes>"
            ],
            "image/png": "[encoded data removed]"
          },
          "metadata": {}
        }
      ]
    },
    {
      "cell_type": "code",
      "source": [
        "m.plot_components(prediction)"
      ],
      "metadata": {
        "colab": {
          "base_uri": "https://localhost:8080/",
          "height": 1000
        },
        "id": "6ZQCNIsQxby2",
        "outputId": "5d35e25b-5c1e-45e2-dc96-6f4a6d503911"
      },
      "execution_count": null,
      "outputs": [
        {
          "output_type": "execute_result",
          "data": {
            "text/plain": [
              "<Figure size 648x648 with 3 Axes>"
            ],
            "image/png": "[encoded data removed]"
          },
          "metadata": {},
          "execution_count": 93
        },
        {
          "output_type": "display_data",
          "data": {
            "text/plain": [
              "<Figure size 648x648 with 3 Axes>"
            ],
            "image/png": "[encoded data removed]"
          },
          "metadata": {}
        }
      ]
    },
    {
      "cell_type": "code",
      "source": [],
      "metadata": {
        "id": "23oJaJSkx15p"
      },
      "execution_count": null,
      "outputs": []
    }
  ]
}