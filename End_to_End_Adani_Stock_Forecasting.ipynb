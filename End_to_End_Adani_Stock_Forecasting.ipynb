{
  "nbformat": 4,
  "nbformat_minor": 0,
  "metadata": {
    "colab": {
      "provenance": []
    },
    "kernelspec": {
      "name": "python3",
      "display_name": "Python 3"
    },
    "language_info": {
      "name": "python"
    },
    "accelerator": "GPU"
  },
  "cells": [
    {
      "cell_type": "code",
      "execution_count": null,
      "metadata": {
        "id": "-1NlVYESdVGa"
      },
      "outputs": [],
      "source": [
        "import pandas as pd\n",
        "import numpy as np\n",
        "import matplotlib.pyplot as plt\n",
        "%matplotlib inline"
      ]
    },
    {
      "cell_type": "code",
      "source": [
        "df = pd.read_csv('adanient.csv', parse_dates=True, index_col='Date')"
      ],
      "metadata": {
        "id": "Vdr7a9lftudG"
      },
      "execution_count": null,
      "outputs": []
    },
    {
      "cell_type": "code",
      "source": [
        "df.head()"
      ],
      "metadata": {
        "colab": {
          "base_uri": "https://localhost:8080/",
          "height": 237
        },
        "id": "v56X9YIEJIoH",
        "outputId": "16f54b42-6211-4822-953a-187ae3187aee"
      },
      "execution_count": null,
      "outputs": [
        {
          "output_type": "execute_result",
          "data": {
            "text/plain": [
              "                  Open        High         Low       Close   Adj Close  \\\n",
              "Date                                                                     \n",
              "2019-10-09  134.949997  139.649994  134.100006  139.000000  137.840424   \n",
              "2019-10-10  138.000000  139.100006  135.300003  137.399994  136.253769   \n",
              "2019-10-11  137.449997  138.800003  134.600006  136.949997  135.807526   \n",
              "2019-10-14  137.899994  152.399994  137.000000  147.100006  145.872864   \n",
              "2019-10-15  147.699997  155.850006  146.600006  155.000000  153.706955   \n",
              "\n",
              "              Volume  \n",
              "Date                  \n",
              "2019-10-09   2682715  \n",
              "2019-10-10   2413888  \n",
              "2019-10-11   2780875  \n",
              "2019-10-14  10795909  \n",
              "2019-10-15  11048872  "
            ],
            "text/html": [
              "\n",
              "  <div id=\"df-96c129da-b0f3-4dfc-805b-899563652901\">\n",
              "    <div class=\"colab-df-container\">\n",
              "      <div>\n",
              "<style scoped>\n",
              "    .dataframe tbody tr th:only-of-type {\n",
              "        vertical-align: middle;\n",
              "    }\n",
              "\n",
              "    .dataframe tbody tr th {\n",
              "        vertical-align: top;\n",
              "    }\n",
              "\n",
              "    .dataframe thead th {\n",
              "        text-align: right;\n",
              "    }\n",
              "</style>\n",
              "<table border=\"1\" class=\"dataframe\">\n",
              "  <thead>\n",
              "    <tr style=\"text-align: right;\">\n",
              "      <th></th>\n",
              "      <th>Open</th>\n",
              "      <th>High</th>\n",
              "      <th>Low</th>\n",
              "      <th>Close</th>\n",
              "      <th>Adj Close</th>\n",
              "      <th>Volume</th>\n",
              "    </tr>\n",
              "    <tr>\n",
              "      <th>Date</th>\n",
              "      <th></th>\n",
              "      <th></th>\n",
              "      <th></th>\n",
              "      <th></th>\n",
              "      <th></th>\n",
              "      <th></th>\n",
              "    </tr>\n",
              "  </thead>\n",
              "  <tbody>\n",
              "    <tr>\n",
              "      <th>2019-10-09</th>\n",
              "      <td>134.949997</td>\n",
              "      <td>139.649994</td>\n",
              "      <td>134.100006</td>\n",
              "      <td>139.000000</td>\n",
              "      <td>137.840424</td>\n",
              "      <td>2682715</td>\n",
              "    </tr>\n",
              "    <tr>\n",
              "      <th>2019-10-10</th>\n",
              "      <td>138.000000</td>\n",
              "      <td>139.100006</td>\n",
              "      <td>135.300003</td>\n",
              "      <td>137.399994</td>\n",
              "      <td>136.253769</td>\n",
              "      <td>2413888</td>\n",
              "    </tr>\n",
              "    <tr>\n",
              "      <th>2019-10-11</th>\n",
              "      <td>137.449997</td>\n",
              "      <td>138.800003</td>\n",
              "      <td>134.600006</td>\n",
              "      <td>136.949997</td>\n",
              "      <td>135.807526</td>\n",
              "      <td>2780875</td>\n",
              "    </tr>\n",
              "    <tr>\n",
              "      <th>2019-10-14</th>\n",
              "      <td>137.899994</td>\n",
              "      <td>152.399994</td>\n",
              "      <td>137.000000</td>\n",
              "      <td>147.100006</td>\n",
              "      <td>145.872864</td>\n",
              "      <td>10795909</td>\n",
              "    </tr>\n",
              "    <tr>\n",
              "      <th>2019-10-15</th>\n",
              "      <td>147.699997</td>\n",
              "      <td>155.850006</td>\n",
              "      <td>146.600006</td>\n",
              "      <td>155.000000</td>\n",
              "      <td>153.706955</td>\n",
              "      <td>11048872</td>\n",
              "    </tr>\n",
              "  </tbody>\n",
              "</table>\n",
              "</div>\n",
              "      <button class=\"colab-df-convert\" onclick=\"convertToInteractive('df-96c129da-b0f3-4dfc-805b-899563652901')\"\n",
              "              title=\"Convert this dataframe to an interactive table.\"\n",
              "              style=\"display:none;\">\n",
              "        \n",
              "  <svg xmlns=\"http://www.w3.org/2000/svg\" height=\"24px\"viewBox=\"0 0 24 24\"\n",
              "       width=\"24px\">\n",
              "    <path d=\"M0 0h24v24H0V0z\" fill=\"none\"/>\n",
              "    <path d=\"M18.56 5.44l.94 2.06.94-2.06 2.06-.94-2.06-.94-.94-2.06-.94 2.06-2.06.94zm-11 1L8.5 8.5l.94-2.06 2.06-.94-2.06-.94L8.5 2.5l-.94 2.06-2.06.94zm10 10l.94 2.06.94-2.06 2.06-.94-2.06-.94-.94-2.06-.94 2.06-2.06.94z\"/><path d=\"M17.41 7.96l-1.37-1.37c-.4-.4-.92-.59-1.43-.59-.52 0-1.04.2-1.43.59L10.3 9.45l-7.72 7.72c-.78.78-.78 2.05 0 2.83L4 21.41c.39.39.9.59 1.41.59.51 0 1.02-.2 1.41-.59l7.78-7.78 2.81-2.81c.8-.78.8-2.07 0-2.86zM5.41 20L4 18.59l7.72-7.72 1.47 1.35L5.41 20z\"/>\n",
              "  </svg>\n",
              "      </button>\n",
              "      \n",
              "  <style>\n",
              "    .colab-df-container {\n",
              "      display:flex;\n",
              "      flex-wrap:wrap;\n",
              "      gap: 12px;\n",
              "    }\n",
              "\n",
              "    .colab-df-convert {\n",
              "      background-color: #E8F0FE;\n",
              "      border: none;\n",
              "      border-radius: 50%;\n",
              "      cursor: pointer;\n",
              "      display: none;\n",
              "      fill: #1967D2;\n",
              "      height: 32px;\n",
              "      padding: 0 0 0 0;\n",
              "      width: 32px;\n",
              "    }\n",
              "\n",
              "    .colab-df-convert:hover {\n",
              "      background-color: #E2EBFA;\n",
              "      box-shadow: 0px 1px 2px rgba(60, 64, 67, 0.3), 0px 1px 3px 1px rgba(60, 64, 67, 0.15);\n",
              "      fill: #174EA6;\n",
              "    }\n",
              "\n",
              "    [theme=dark] .colab-df-convert {\n",
              "      background-color: #3B4455;\n",
              "      fill: #D2E3FC;\n",
              "    }\n",
              "\n",
              "    [theme=dark] .colab-df-convert:hover {\n",
              "      background-color: #434B5C;\n",
              "      box-shadow: 0px 1px 3px 1px rgba(0, 0, 0, 0.15);\n",
              "      filter: drop-shadow(0px 1px 2px rgba(0, 0, 0, 0.3));\n",
              "      fill: #FFFFFF;\n",
              "    }\n",
              "  </style>\n",
              "\n",
              "      <script>\n",
              "        const buttonEl =\n",
              "          document.querySelector('#df-96c129da-b0f3-4dfc-805b-899563652901 button.colab-df-convert');\n",
              "        buttonEl.style.display =\n",
              "          google.colab.kernel.accessAllowed ? 'block' : 'none';\n",
              "\n",
              "        async function convertToInteractive(key) {\n",
              "          const element = document.querySelector('#df-96c129da-b0f3-4dfc-805b-899563652901');\n",
              "          const dataTable =\n",
              "            await google.colab.kernel.invokeFunction('convertToInteractive',\n",
              "                                                     [key], {});\n",
              "          if (!dataTable) return;\n",
              "\n",
              "          const docLinkHtml = 'Like what you see? Visit the ' +\n",
              "            '<a target=\"_blank\" href=https://colab.research.google.com/notebooks/data_table.ipynb>data table notebook</a>'\n",
              "            + ' to learn more about interactive tables.';\n",
              "          element.innerHTML = '';\n",
              "          dataTable['output_type'] = 'display_data';\n",
              "          await google.colab.output.renderOutput(dataTable, element);\n",
              "          const docLink = document.createElement('div');\n",
              "          docLink.innerHTML = docLinkHtml;\n",
              "          element.appendChild(docLink);\n",
              "        }\n",
              "      </script>\n",
              "    </div>\n",
              "  </div>\n",
              "  "
            ]
          },
          "metadata": {},
          "execution_count": 101
        }
      ]
    },
    {
      "cell_type": "code",
      "source": [
        "df.tail()"
      ],
      "metadata": {
        "colab": {
          "base_uri": "https://localhost:8080/",
          "height": 237
        },
        "id": "dWTUZxinJKNW",
        "outputId": "54673f82-3a6d-4d7f-a198-0d09b4b4f25c"
      },
      "execution_count": null,
      "outputs": [
        {
          "output_type": "execute_result",
          "data": {
            "text/plain": [
              "                   Open         High          Low        Close    Adj Close  \\\n",
              "Date                                                                          \n",
              "2022-09-30  3447.949951  3523.800049  3371.100098  3455.750000  3455.750000   \n",
              "2022-10-03  3440.000000  3460.050049  3110.199951  3157.300049  3157.300049   \n",
              "2022-10-04  3230.000000  3291.199951  3125.000000  3237.699951  3237.699951   \n",
              "2022-10-06  3270.000000  3318.800049  3208.050049  3285.000000  3285.000000   \n",
              "2022-10-07  3280.000000  3310.949951  3228.149902  3277.600098  3277.600098   \n",
              "\n",
              "             Volume  \n",
              "Date                 \n",
              "2022-09-30  4307707  \n",
              "2022-10-03  7578847  \n",
              "2022-10-04  5642467  \n",
              "2022-10-06  2845165  \n",
              "2022-10-07  1930275  "
            ],
            "text/html": [
              "\n",
              "  <div id=\"df-d348893a-c5c5-4cb3-818a-aeb1e1864b14\">\n",
              "    <div class=\"colab-df-container\">\n",
              "      <div>\n",
              "<style scoped>\n",
              "    .dataframe tbody tr th:only-of-type {\n",
              "        vertical-align: middle;\n",
              "    }\n",
              "\n",
              "    .dataframe tbody tr th {\n",
              "        vertical-align: top;\n",
              "    }\n",
              "\n",
              "    .dataframe thead th {\n",
              "        text-align: right;\n",
              "    }\n",
              "</style>\n",
              "<table border=\"1\" class=\"dataframe\">\n",
              "  <thead>\n",
              "    <tr style=\"text-align: right;\">\n",
              "      <th></th>\n",
              "      <th>Open</th>\n",
              "      <th>High</th>\n",
              "      <th>Low</th>\n",
              "      <th>Close</th>\n",
              "      <th>Adj Close</th>\n",
              "      <th>Volume</th>\n",
              "    </tr>\n",
              "    <tr>\n",
              "      <th>Date</th>\n",
              "      <th></th>\n",
              "      <th></th>\n",
              "      <th></th>\n",
              "      <th></th>\n",
              "      <th></th>\n",
              "      <th></th>\n",
              "    </tr>\n",
              "  </thead>\n",
              "  <tbody>\n",
              "    <tr>\n",
              "      <th>2022-09-30</th>\n",
              "      <td>3447.949951</td>\n",
              "      <td>3523.800049</td>\n",
              "      <td>3371.100098</td>\n",
              "      <td>3455.750000</td>\n",
              "      <td>3455.750000</td>\n",
              "      <td>4307707</td>\n",
              "    </tr>\n",
              "    <tr>\n",
              "      <th>2022-10-03</th>\n",
              "      <td>3440.000000</td>\n",
              "      <td>3460.050049</td>\n",
              "      <td>3110.199951</td>\n",
              "      <td>3157.300049</td>\n",
              "      <td>3157.300049</td>\n",
              "      <td>7578847</td>\n",
              "    </tr>\n",
              "    <tr>\n",
              "      <th>2022-10-04</th>\n",
              "      <td>3230.000000</td>\n",
              "      <td>3291.199951</td>\n",
              "      <td>3125.000000</td>\n",
              "      <td>3237.699951</td>\n",
              "      <td>3237.699951</td>\n",
              "      <td>5642467</td>\n",
              "    </tr>\n",
              "    <tr>\n",
              "      <th>2022-10-06</th>\n",
              "      <td>3270.000000</td>\n",
              "      <td>3318.800049</td>\n",
              "      <td>3208.050049</td>\n",
              "      <td>3285.000000</td>\n",
              "      <td>3285.000000</td>\n",
              "      <td>2845165</td>\n",
              "    </tr>\n",
              "    <tr>\n",
              "      <th>2022-10-07</th>\n",
              "      <td>3280.000000</td>\n",
              "      <td>3310.949951</td>\n",
              "      <td>3228.149902</td>\n",
              "      <td>3277.600098</td>\n",
              "      <td>3277.600098</td>\n",
              "      <td>1930275</td>\n",
              "    </tr>\n",
              "  </tbody>\n",
              "</table>\n",
              "</div>\n",
              "      <button class=\"colab-df-convert\" onclick=\"convertToInteractive('df-d348893a-c5c5-4cb3-818a-aeb1e1864b14')\"\n",
              "              title=\"Convert this dataframe to an interactive table.\"\n",
              "              style=\"display:none;\">\n",
              "        \n",
              "  <svg xmlns=\"http://www.w3.org/2000/svg\" height=\"24px\"viewBox=\"0 0 24 24\"\n",
              "       width=\"24px\">\n",
              "    <path d=\"M0 0h24v24H0V0z\" fill=\"none\"/>\n",
              "    <path d=\"M18.56 5.44l.94 2.06.94-2.06 2.06-.94-2.06-.94-.94-2.06-.94 2.06-2.06.94zm-11 1L8.5 8.5l.94-2.06 2.06-.94-2.06-.94L8.5 2.5l-.94 2.06-2.06.94zm10 10l.94 2.06.94-2.06 2.06-.94-2.06-.94-.94-2.06-.94 2.06-2.06.94z\"/><path d=\"M17.41 7.96l-1.37-1.37c-.4-.4-.92-.59-1.43-.59-.52 0-1.04.2-1.43.59L10.3 9.45l-7.72 7.72c-.78.78-.78 2.05 0 2.83L4 21.41c.39.39.9.59 1.41.59.51 0 1.02-.2 1.41-.59l7.78-7.78 2.81-2.81c.8-.78.8-2.07 0-2.86zM5.41 20L4 18.59l7.72-7.72 1.47 1.35L5.41 20z\"/>\n",
              "  </svg>\n",
              "      </button>\n",
              "      \n",
              "  <style>\n",
              "    .colab-df-container {\n",
              "      display:flex;\n",
              "      flex-wrap:wrap;\n",
              "      gap: 12px;\n",
              "    }\n",
              "\n",
              "    .colab-df-convert {\n",
              "      background-color: #E8F0FE;\n",
              "      border: none;\n",
              "      border-radius: 50%;\n",
              "      cursor: pointer;\n",
              "      display: none;\n",
              "      fill: #1967D2;\n",
              "      height: 32px;\n",
              "      padding: 0 0 0 0;\n",
              "      width: 32px;\n",
              "    }\n",
              "\n",
              "    .colab-df-convert:hover {\n",
              "      background-color: #E2EBFA;\n",
              "      box-shadow: 0px 1px 2px rgba(60, 64, 67, 0.3), 0px 1px 3px 1px rgba(60, 64, 67, 0.15);\n",
              "      fill: #174EA6;\n",
              "    }\n",
              "\n",
              "    [theme=dark] .colab-df-convert {\n",
              "      background-color: #3B4455;\n",
              "      fill: #D2E3FC;\n",
              "    }\n",
              "\n",
              "    [theme=dark] .colab-df-convert:hover {\n",
              "      background-color: #434B5C;\n",
              "      box-shadow: 0px 1px 3px 1px rgba(0, 0, 0, 0.15);\n",
              "      filter: drop-shadow(0px 1px 2px rgba(0, 0, 0, 0.3));\n",
              "      fill: #FFFFFF;\n",
              "    }\n",
              "  </style>\n",
              "\n",
              "      <script>\n",
              "        const buttonEl =\n",
              "          document.querySelector('#df-d348893a-c5c5-4cb3-818a-aeb1e1864b14 button.colab-df-convert');\n",
              "        buttonEl.style.display =\n",
              "          google.colab.kernel.accessAllowed ? 'block' : 'none';\n",
              "\n",
              "        async function convertToInteractive(key) {\n",
              "          const element = document.querySelector('#df-d348893a-c5c5-4cb3-818a-aeb1e1864b14');\n",
              "          const dataTable =\n",
              "            await google.colab.kernel.invokeFunction('convertToInteractive',\n",
              "                                                     [key], {});\n",
              "          if (!dataTable) return;\n",
              "\n",
              "          const docLinkHtml = 'Like what you see? Visit the ' +\n",
              "            '<a target=\"_blank\" href=https://colab.research.google.com/notebooks/data_table.ipynb>data table notebook</a>'\n",
              "            + ' to learn more about interactive tables.';\n",
              "          element.innerHTML = '';\n",
              "          dataTable['output_type'] = 'display_data';\n",
              "          await google.colab.output.renderOutput(dataTable, element);\n",
              "          const docLink = document.createElement('div');\n",
              "          docLink.innerHTML = docLinkHtml;\n",
              "          element.appendChild(docLink);\n",
              "        }\n",
              "      </script>\n",
              "    </div>\n",
              "  </div>\n",
              "  "
            ]
          },
          "metadata": {},
          "execution_count": 102
        }
      ]
    },
    {
      "cell_type": "code",
      "source": [
        "df.info()"
      ],
      "metadata": {
        "colab": {
          "base_uri": "https://localhost:8080/"
        },
        "id": "1S8EqAmbJN2b",
        "outputId": "630cd185-e5d8-45cf-c0e6-d47f07603cc5"
      },
      "execution_count": null,
      "outputs": [
        {
          "output_type": "stream",
          "name": "stdout",
          "text": [
            "<class 'pandas.core.frame.DataFrame'>\n",
            "DatetimeIndex: 746 entries, 2019-10-09 to 2022-10-07\n",
            "Data columns (total 6 columns):\n",
            " #   Column     Non-Null Count  Dtype  \n",
            "---  ------     --------------  -----  \n",
            " 0   Open       746 non-null    float64\n",
            " 1   High       746 non-null    float64\n",
            " 2   Low        746 non-null    float64\n",
            " 3   Close      746 non-null    float64\n",
            " 4   Adj Close  746 non-null    float64\n",
            " 5   Volume     746 non-null    int64  \n",
            "dtypes: float64(5), int64(1)\n",
            "memory usage: 40.8 KB\n"
          ]
        }
      ]
    },
    {
      "cell_type": "code",
      "source": [
        "df.isnull().sum()"
      ],
      "metadata": {
        "colab": {
          "base_uri": "https://localhost:8080/"
        },
        "id": "OTYJPJTQJR0B",
        "outputId": "fbe16c1e-7220-4f86-ca25-028055c715d1"
      },
      "execution_count": null,
      "outputs": [
        {
          "output_type": "execute_result",
          "data": {
            "text/plain": [
              "Open         0\n",
              "High         0\n",
              "Low          0\n",
              "Close        0\n",
              "Adj Close    0\n",
              "Volume       0\n",
              "dtype: int64"
            ]
          },
          "metadata": {},
          "execution_count": 104
        }
      ]
    },
    {
      "cell_type": "code",
      "source": [
        "df.shape"
      ],
      "metadata": {
        "colab": {
          "base_uri": "https://localhost:8080/"
        },
        "id": "si6qdK8cJU1W",
        "outputId": "b6013a4b-537f-4d58-f129-accdc4346c77"
      },
      "execution_count": null,
      "outputs": [
        {
          "output_type": "execute_result",
          "data": {
            "text/plain": [
              "(746, 6)"
            ]
          },
          "metadata": {},
          "execution_count": 105
        }
      ]
    },
    {
      "cell_type": "code",
      "source": [
        "df.describe()"
      ],
      "metadata": {
        "colab": {
          "base_uri": "https://localhost:8080/",
          "height": 300
        },
        "id": "Gu06jP6wJWUL",
        "outputId": "8e9b3483-f614-436f-ff64-73779d41a28c"
      },
      "execution_count": null,
      "outputs": [
        {
          "output_type": "execute_result",
          "data": {
            "text/plain": [
              "              Open         High          Low        Close    Adj Close  \\\n",
              "count   746.000000   746.000000   746.000000   746.000000   746.000000   \n",
              "mean   1117.207439  1138.974931  1096.478821  1118.870443  1118.094756   \n",
              "std     919.910634   934.869073   903.819673   920.106972   920.222604   \n",
              "min     121.000000   129.800003   116.400002   120.900002   120.768463   \n",
              "25%     223.187500   227.362495   219.062500   225.524998   223.643604   \n",
              "50%    1113.500000  1151.500000  1085.174988  1133.149964  1131.917114   \n",
              "75%    1711.649994  1733.750000  1683.712463  1709.112457  1708.386170   \n",
              "max    3837.649902  3885.000000  3812.000000  3834.550049  3834.550049   \n",
              "\n",
              "             Volume  \n",
              "count  7.460000e+02  \n",
              "mean   4.778698e+06  \n",
              "std    4.986480e+06  \n",
              "min    2.722610e+05  \n",
              "25%    1.929819e+06  \n",
              "50%    3.275804e+06  \n",
              "75%    5.551376e+06  \n",
              "max    4.926454e+07  "
            ],
            "text/html": [
              "\n",
              "  <div id=\"df-0eb0fb68-2d10-40ef-a46a-5d061be9f1e4\">\n",
              "    <div class=\"colab-df-container\">\n",
              "      <div>\n",
              "<style scoped>\n",
              "    .dataframe tbody tr th:only-of-type {\n",
              "        vertical-align: middle;\n",
              "    }\n",
              "\n",
              "    .dataframe tbody tr th {\n",
              "        vertical-align: top;\n",
              "    }\n",
              "\n",
              "    .dataframe thead th {\n",
              "        text-align: right;\n",
              "    }\n",
              "</style>\n",
              "<table border=\"1\" class=\"dataframe\">\n",
              "  <thead>\n",
              "    <tr style=\"text-align: right;\">\n",
              "      <th></th>\n",
              "      <th>Open</th>\n",
              "      <th>High</th>\n",
              "      <th>Low</th>\n",
              "      <th>Close</th>\n",
              "      <th>Adj Close</th>\n",
              "      <th>Volume</th>\n",
              "    </tr>\n",
              "  </thead>\n",
              "  <tbody>\n",
              "    <tr>\n",
              "      <th>count</th>\n",
              "      <td>746.000000</td>\n",
              "      <td>746.000000</td>\n",
              "      <td>746.000000</td>\n",
              "      <td>746.000000</td>\n",
              "      <td>746.000000</td>\n",
              "      <td>7.460000e+02</td>\n",
              "    </tr>\n",
              "    <tr>\n",
              "      <th>mean</th>\n",
              "      <td>1117.207439</td>\n",
              "      <td>1138.974931</td>\n",
              "      <td>1096.478821</td>\n",
              "      <td>1118.870443</td>\n",
              "      <td>1118.094756</td>\n",
              "      <td>4.778698e+06</td>\n",
              "    </tr>\n",
              "    <tr>\n",
              "      <th>std</th>\n",
              "      <td>919.910634</td>\n",
              "      <td>934.869073</td>\n",
              "      <td>903.819673</td>\n",
              "      <td>920.106972</td>\n",
              "      <td>920.222604</td>\n",
              "      <td>4.986480e+06</td>\n",
              "    </tr>\n",
              "    <tr>\n",
              "      <th>min</th>\n",
              "      <td>121.000000</td>\n",
              "      <td>129.800003</td>\n",
              "      <td>116.400002</td>\n",
              "      <td>120.900002</td>\n",
              "      <td>120.768463</td>\n",
              "      <td>2.722610e+05</td>\n",
              "    </tr>\n",
              "    <tr>\n",
              "      <th>25%</th>\n",
              "      <td>223.187500</td>\n",
              "      <td>227.362495</td>\n",
              "      <td>219.062500</td>\n",
              "      <td>225.524998</td>\n",
              "      <td>223.643604</td>\n",
              "      <td>1.929819e+06</td>\n",
              "    </tr>\n",
              "    <tr>\n",
              "      <th>50%</th>\n",
              "      <td>1113.500000</td>\n",
              "      <td>1151.500000</td>\n",
              "      <td>1085.174988</td>\n",
              "      <td>1133.149964</td>\n",
              "      <td>1131.917114</td>\n",
              "      <td>3.275804e+06</td>\n",
              "    </tr>\n",
              "    <tr>\n",
              "      <th>75%</th>\n",
              "      <td>1711.649994</td>\n",
              "      <td>1733.750000</td>\n",
              "      <td>1683.712463</td>\n",
              "      <td>1709.112457</td>\n",
              "      <td>1708.386170</td>\n",
              "      <td>5.551376e+06</td>\n",
              "    </tr>\n",
              "    <tr>\n",
              "      <th>max</th>\n",
              "      <td>3837.649902</td>\n",
              "      <td>3885.000000</td>\n",
              "      <td>3812.000000</td>\n",
              "      <td>3834.550049</td>\n",
              "      <td>3834.550049</td>\n",
              "      <td>4.926454e+07</td>\n",
              "    </tr>\n",
              "  </tbody>\n",
              "</table>\n",
              "</div>\n",
              "      <button class=\"colab-df-convert\" onclick=\"convertToInteractive('df-0eb0fb68-2d10-40ef-a46a-5d061be9f1e4')\"\n",
              "              title=\"Convert this dataframe to an interactive table.\"\n",
              "              style=\"display:none;\">\n",
              "        \n",
              "  <svg xmlns=\"http://www.w3.org/2000/svg\" height=\"24px\"viewBox=\"0 0 24 24\"\n",
              "       width=\"24px\">\n",
              "    <path d=\"M0 0h24v24H0V0z\" fill=\"none\"/>\n",
              "    <path d=\"M18.56 5.44l.94 2.06.94-2.06 2.06-.94-2.06-.94-.94-2.06-.94 2.06-2.06.94zm-11 1L8.5 8.5l.94-2.06 2.06-.94-2.06-.94L8.5 2.5l-.94 2.06-2.06.94zm10 10l.94 2.06.94-2.06 2.06-.94-2.06-.94-.94-2.06-.94 2.06-2.06.94z\"/><path d=\"M17.41 7.96l-1.37-1.37c-.4-.4-.92-.59-1.43-.59-.52 0-1.04.2-1.43.59L10.3 9.45l-7.72 7.72c-.78.78-.78 2.05 0 2.83L4 21.41c.39.39.9.59 1.41.59.51 0 1.02-.2 1.41-.59l7.78-7.78 2.81-2.81c.8-.78.8-2.07 0-2.86zM5.41 20L4 18.59l7.72-7.72 1.47 1.35L5.41 20z\"/>\n",
              "  </svg>\n",
              "      </button>\n",
              "      \n",
              "  <style>\n",
              "    .colab-df-container {\n",
              "      display:flex;\n",
              "      flex-wrap:wrap;\n",
              "      gap: 12px;\n",
              "    }\n",
              "\n",
              "    .colab-df-convert {\n",
              "      background-color: #E8F0FE;\n",
              "      border: none;\n",
              "      border-radius: 50%;\n",
              "      cursor: pointer;\n",
              "      display: none;\n",
              "      fill: #1967D2;\n",
              "      height: 32px;\n",
              "      padding: 0 0 0 0;\n",
              "      width: 32px;\n",
              "    }\n",
              "\n",
              "    .colab-df-convert:hover {\n",
              "      background-color: #E2EBFA;\n",
              "      box-shadow: 0px 1px 2px rgba(60, 64, 67, 0.3), 0px 1px 3px 1px rgba(60, 64, 67, 0.15);\n",
              "      fill: #174EA6;\n",
              "    }\n",
              "\n",
              "    [theme=dark] .colab-df-convert {\n",
              "      background-color: #3B4455;\n",
              "      fill: #D2E3FC;\n",
              "    }\n",
              "\n",
              "    [theme=dark] .colab-df-convert:hover {\n",
              "      background-color: #434B5C;\n",
              "      box-shadow: 0px 1px 3px 1px rgba(0, 0, 0, 0.15);\n",
              "      filter: drop-shadow(0px 1px 2px rgba(0, 0, 0, 0.3));\n",
              "      fill: #FFFFFF;\n",
              "    }\n",
              "  </style>\n",
              "\n",
              "      <script>\n",
              "        const buttonEl =\n",
              "          document.querySelector('#df-0eb0fb68-2d10-40ef-a46a-5d061be9f1e4 button.colab-df-convert');\n",
              "        buttonEl.style.display =\n",
              "          google.colab.kernel.accessAllowed ? 'block' : 'none';\n",
              "\n",
              "        async function convertToInteractive(key) {\n",
              "          const element = document.querySelector('#df-0eb0fb68-2d10-40ef-a46a-5d061be9f1e4');\n",
              "          const dataTable =\n",
              "            await google.colab.kernel.invokeFunction('convertToInteractive',\n",
              "                                                     [key], {});\n",
              "          if (!dataTable) return;\n",
              "\n",
              "          const docLinkHtml = 'Like what you see? Visit the ' +\n",
              "            '<a target=\"_blank\" href=https://colab.research.google.com/notebooks/data_table.ipynb>data table notebook</a>'\n",
              "            + ' to learn more about interactive tables.';\n",
              "          element.innerHTML = '';\n",
              "          dataTable['output_type'] = 'display_data';\n",
              "          await google.colab.output.renderOutput(dataTable, element);\n",
              "          const docLink = document.createElement('div');\n",
              "          docLink.innerHTML = docLinkHtml;\n",
              "          element.appendChild(docLink);\n",
              "        }\n",
              "      </script>\n",
              "    </div>\n",
              "  </div>\n",
              "  "
            ]
          },
          "metadata": {},
          "execution_count": 106
        }
      ]
    },
    {
      "cell_type": "code",
      "source": [
        "df.Close.plot()"
      ],
      "metadata": {
        "colab": {
          "base_uri": "https://localhost:8080/",
          "height": 297
        },
        "id": "qfitkONVJZkr",
        "outputId": "6b8a2bc0-4f48-4184-ef07-1637da11ab71"
      },
      "execution_count": null,
      "outputs": [
        {
          "output_type": "execute_result",
          "data": {
            "text/plain": [
              "<matplotlib.axes._subplots.AxesSubplot at 0x7f9be5242310>"
            ]
          },
          "metadata": {},
          "execution_count": 107
        },
        {
          "output_type": "display_data",
          "data": {
            "text/plain": [
              "<Figure size 432x288 with 1 Axes>"
            ],
            "image/png": "[encoded data removed]"
          },
          "metadata": {
            "needs_background": "light"
          }
        }
      ]
    },
    {
      "cell_type": "code",
      "source": [
        "adani = df['Close']"
      ],
      "metadata": {
        "id": "bzXObAArJqjB"
      },
      "execution_count": null,
      "outputs": []
    },
    {
      "cell_type": "code",
      "source": [
        "adani.reset_index(drop=True, inplace=True)"
      ],
      "metadata": {
        "id": "P7RiJxUHKQ_p"
      },
      "execution_count": null,
      "outputs": []
    },
    {
      "cell_type": "code",
      "source": [
        "adani.shape"
      ],
      "metadata": {
        "colab": {
          "base_uri": "https://localhost:8080/"
        },
        "id": "NkeZQukGKcK4",
        "outputId": "ec852365-025c-4d8a-f6ff-2a04e47cce56"
      },
      "execution_count": null,
      "outputs": [
        {
          "output_type": "execute_result",
          "data": {
            "text/plain": [
              "(746,)"
            ]
          },
          "metadata": {},
          "execution_count": 110
        }
      ]
    },
    {
      "cell_type": "code",
      "source": [
        "adani = pd.DataFrame(adani)"
      ],
      "metadata": {
        "id": "wzovpQTpKfFg"
      },
      "execution_count": null,
      "outputs": []
    },
    {
      "cell_type": "code",
      "source": [
        "adani.head()"
      ],
      "metadata": {
        "colab": {
          "base_uri": "https://localhost:8080/",
          "height": 206
        },
        "id": "0dAqoIdoK096",
        "outputId": "951035a4-d79d-42e1-b33a-75b790221e98"
      },
      "execution_count": null,
      "outputs": [
        {
          "output_type": "execute_result",
          "data": {
            "text/plain": [
              "        Close\n",
              "0  139.000000\n",
              "1  137.399994\n",
              "2  136.949997\n",
              "3  147.100006\n",
              "4  155.000000"
            ],
            "text/html": [
              "\n",
              "  <div id=\"df-0c097f04-5da4-4a8f-b800-6422faf8fefb\">\n",
              "    <div class=\"colab-df-container\">\n",
              "      <div>\n",
              "<style scoped>\n",
              "    .dataframe tbody tr th:only-of-type {\n",
              "        vertical-align: middle;\n",
              "    }\n",
              "\n",
              "    .dataframe tbody tr th {\n",
              "        vertical-align: top;\n",
              "    }\n",
              "\n",
              "    .dataframe thead th {\n",
              "        text-align: right;\n",
              "    }\n",
              "</style>\n",
              "<table border=\"1\" class=\"dataframe\">\n",
              "  <thead>\n",
              "    <tr style=\"text-align: right;\">\n",
              "      <th></th>\n",
              "      <th>Close</th>\n",
              "    </tr>\n",
              "  </thead>\n",
              "  <tbody>\n",
              "    <tr>\n",
              "      <th>0</th>\n",
              "      <td>139.000000</td>\n",
              "    </tr>\n",
              "    <tr>\n",
              "      <th>1</th>\n",
              "      <td>137.399994</td>\n",
              "    </tr>\n",
              "    <tr>\n",
              "      <th>2</th>\n",
              "      <td>136.949997</td>\n",
              "    </tr>\n",
              "    <tr>\n",
              "      <th>3</th>\n",
              "      <td>147.100006</td>\n",
              "    </tr>\n",
              "    <tr>\n",
              "      <th>4</th>\n",
              "      <td>155.000000</td>\n",
              "    </tr>\n",
              "  </tbody>\n",
              "</table>\n",
              "</div>\n",
              "      <button class=\"colab-df-convert\" onclick=\"convertToInteractive('df-0c097f04-5da4-4a8f-b800-6422faf8fefb')\"\n",
              "              title=\"Convert this dataframe to an interactive table.\"\n",
              "              style=\"display:none;\">\n",
              "        \n",
              "  <svg xmlns=\"http://www.w3.org/2000/svg\" height=\"24px\"viewBox=\"0 0 24 24\"\n",
              "       width=\"24px\">\n",
              "    <path d=\"M0 0h24v24H0V0z\" fill=\"none\"/>\n",
              "    <path d=\"M18.56 5.44l.94 2.06.94-2.06 2.06-.94-2.06-.94-.94-2.06-.94 2.06-2.06.94zm-11 1L8.5 8.5l.94-2.06 2.06-.94-2.06-.94L8.5 2.5l-.94 2.06-2.06.94zm10 10l.94 2.06.94-2.06 2.06-.94-2.06-.94-.94-2.06-.94 2.06-2.06.94z\"/><path d=\"M17.41 7.96l-1.37-1.37c-.4-.4-.92-.59-1.43-.59-.52 0-1.04.2-1.43.59L10.3 9.45l-7.72 7.72c-.78.78-.78 2.05 0 2.83L4 21.41c.39.39.9.59 1.41.59.51 0 1.02-.2 1.41-.59l7.78-7.78 2.81-2.81c.8-.78.8-2.07 0-2.86zM5.41 20L4 18.59l7.72-7.72 1.47 1.35L5.41 20z\"/>\n",
              "  </svg>\n",
              "      </button>\n",
              "      \n",
              "  <style>\n",
              "    .colab-df-container {\n",
              "      display:flex;\n",
              "      flex-wrap:wrap;\n",
              "      gap: 12px;\n",
              "    }\n",
              "\n",
              "    .colab-df-convert {\n",
              "      background-color: #E8F0FE;\n",
              "      border: none;\n",
              "      border-radius: 50%;\n",
              "      cursor: pointer;\n",
              "      display: none;\n",
              "      fill: #1967D2;\n",
              "      height: 32px;\n",
              "      padding: 0 0 0 0;\n",
              "      width: 32px;\n",
              "    }\n",
              "\n",
              "    .colab-df-convert:hover {\n",
              "      background-color: #E2EBFA;\n",
              "      box-shadow: 0px 1px 2px rgba(60, 64, 67, 0.3), 0px 1px 3px 1px rgba(60, 64, 67, 0.15);\n",
              "      fill: #174EA6;\n",
              "    }\n",
              "\n",
              "    [theme=dark] .colab-df-convert {\n",
              "      background-color: #3B4455;\n",
              "      fill: #D2E3FC;\n",
              "    }\n",
              "\n",
              "    [theme=dark] .colab-df-convert:hover {\n",
              "      background-color: #434B5C;\n",
              "      box-shadow: 0px 1px 3px 1px rgba(0, 0, 0, 0.15);\n",
              "      filter: drop-shadow(0px 1px 2px rgba(0, 0, 0, 0.3));\n",
              "      fill: #FFFFFF;\n",
              "    }\n",
              "  </style>\n",
              "\n",
              "      <script>\n",
              "        const buttonEl =\n",
              "          document.querySelector('#df-0c097f04-5da4-4a8f-b800-6422faf8fefb button.colab-df-convert');\n",
              "        buttonEl.style.display =\n",
              "          google.colab.kernel.accessAllowed ? 'block' : 'none';\n",
              "\n",
              "        async function convertToInteractive(key) {\n",
              "          const element = document.querySelector('#df-0c097f04-5da4-4a8f-b800-6422faf8fefb');\n",
              "          const dataTable =\n",
              "            await google.colab.kernel.invokeFunction('convertToInteractive',\n",
              "                                                     [key], {});\n",
              "          if (!dataTable) return;\n",
              "\n",
              "          const docLinkHtml = 'Like what you see? Visit the ' +\n",
              "            '<a target=\"_blank\" href=https://colab.research.google.com/notebooks/data_table.ipynb>data table notebook</a>'\n",
              "            + ' to learn more about interactive tables.';\n",
              "          element.innerHTML = '';\n",
              "          dataTable['output_type'] = 'display_data';\n",
              "          await google.colab.output.renderOutput(dataTable, element);\n",
              "          const docLink = document.createElement('div');\n",
              "          docLink.innerHTML = docLinkHtml;\n",
              "          element.appendChild(docLink);\n",
              "        }\n",
              "      </script>\n",
              "    </div>\n",
              "  </div>\n",
              "  "
            ]
          },
          "metadata": {},
          "execution_count": 112
        }
      ]
    },
    {
      "cell_type": "code",
      "source": [
        " train = adani.iloc[500:730]\n",
        " test = adani.iloc[730:]"
      ],
      "metadata": {
        "id": "DOsXraYPK531"
      },
      "execution_count": null,
      "outputs": []
    },
    {
      "cell_type": "code",
      "source": [
        "train.shape, test.shape"
      ],
      "metadata": {
        "colab": {
          "base_uri": "https://localhost:8080/"
        },
        "id": "WFkCIDP8L2uO",
        "outputId": "7b027490-3a04-42ad-aa7e-2519c1c1e6ed"
      },
      "execution_count": null,
      "outputs": [
        {
          "output_type": "execute_result",
          "data": {
            "text/plain": [
              "((230, 1), (16, 1))"
            ]
          },
          "metadata": {},
          "execution_count": 114
        }
      ]
    },
    {
      "cell_type": "code",
      "source": [
        "from sklearn.preprocessing import MinMaxScaler"
      ],
      "metadata": {
        "id": "fUZLK9lqL5Fm"
      },
      "execution_count": null,
      "outputs": []
    },
    {
      "cell_type": "code",
      "source": [
        "scaler = MinMaxScaler()"
      ],
      "metadata": {
        "id": "GftSjj5gMWL_"
      },
      "execution_count": null,
      "outputs": []
    },
    {
      "cell_type": "code",
      "source": [
        "scaled_train = scaler.fit_transform(train)\n",
        "scaled_test = scaler.transform(test)\n"
      ],
      "metadata": {
        "id": "sfhrvkVXMdXE"
      },
      "execution_count": null,
      "outputs": []
    },
    {
      "cell_type": "code",
      "source": [
        "scaled_train"
      ],
      "metadata": {
        "colab": {
          "base_uri": "https://localhost:8080/"
        },
        "id": "ZgKdsOksMuim",
        "outputId": "ec8ce10e-e3e6-4d25-8a00-714d85df9749"
      },
      "execution_count": null,
      "outputs": [
        {
          "output_type": "execute_result",
          "data": {
            "text/plain": [
              "array([[0.07172593],\n",
              "       [0.0787421 ],\n",
              "       [0.114007  ],\n",
              "       [0.09981364],\n",
              "       [0.07862708],\n",
              "       [0.08794364],\n",
              "       [0.0904051 ],\n",
              "       [0.06645807],\n",
              "       [0.06148922],\n",
              "       [0.06684913],\n",
              "       [0.07729291],\n",
              "       [0.        ],\n",
              "       [0.01152489],\n",
              "       [0.02150859],\n",
              "       [0.0341607 ],\n",
              "       [0.0401877 ],\n",
              "       [0.04182094],\n",
              "       [0.07807501],\n",
              "       [0.10899215],\n",
              "       [0.11837773],\n",
              "       [0.12254145],\n",
              "       [0.14108251],\n",
              "       [0.16148696],\n",
              "       [0.14402702],\n",
              "       [0.14165761],\n",
              "       [0.13351427],\n",
              "       [0.12753327],\n",
              "       [0.14234772],\n",
              "       [0.16406338],\n",
              "       [0.167698  ],\n",
              "       [0.12468082],\n",
              "       [0.12261047],\n",
              "       [0.12159827],\n",
              "       [0.13560764],\n",
              "       [0.15352761],\n",
              "       [0.14241675],\n",
              "       [0.11366195],\n",
              "       [0.12877546],\n",
              "       [0.14582133],\n",
              "       [0.14892684],\n",
              "       [0.15727725],\n",
              "       [0.14768466],\n",
              "       [0.14793767],\n",
              "       [0.1365278 ],\n",
              "       [0.13963332],\n",
              "       [0.11352396],\n",
              "       [0.08805866],\n",
              "       [0.10211403],\n",
              "       [0.11941291],\n",
              "       [0.12774028],\n",
              "       [0.13786197],\n",
              "       [0.15258443],\n",
              "       [0.16215405],\n",
              "       [0.14699454],\n",
              "       [0.13703387],\n",
              "       [0.14303784],\n",
              "       [0.14658046],\n",
              "       [0.1474316 ],\n",
              "       [0.1457983 ],\n",
              "       [0.14471713],\n",
              "       [0.13827606],\n",
              "       [0.16289017],\n",
              "       [0.2048952 ],\n",
              "       [0.19854612],\n",
              "       [0.20924291],\n",
              "       [0.21701821],\n",
              "       [0.22049182],\n",
              "       [0.20353794],\n",
              "       [0.20737963],\n",
              "       [0.21499387],\n",
              "       [0.19774098],\n",
              "       [0.14595937],\n",
              "       [0.15773733],\n",
              "       [0.13224906],\n",
              "       [0.13579163],\n",
              "       [0.14556826],\n",
              "       [0.16026775],\n",
              "       [0.17519722],\n",
              "       [0.16254511],\n",
              "       [0.16505256],\n",
              "       [0.1533206 ],\n",
              "       [0.14605136],\n",
              "       [0.17694553],\n",
              "       [0.17830274],\n",
              "       [0.1682731 ],\n",
              "       [0.12210434],\n",
              "       [0.15904853],\n",
              "       [0.15621905],\n",
              "       [0.15292949],\n",
              "       [0.15539095],\n",
              "       [0.13188098],\n",
              "       [0.12382963],\n",
              "       [0.13349124],\n",
              "       [0.06689512],\n",
              "       [0.10128587],\n",
              "       [0.11313285],\n",
              "       [0.11191369],\n",
              "       [0.11283384],\n",
              "       [0.09958361],\n",
              "       [0.07614271],\n",
              "       [0.09341857],\n",
              "       [0.11869982],\n",
              "       [0.15840442],\n",
              "       [0.15437874],\n",
              "       [0.1552989 ],\n",
              "       [0.13933425],\n",
              "       [0.16537459],\n",
              "       [0.19373834],\n",
              "       [0.18605502],\n",
              "       [0.19921326],\n",
              "       [0.18975866],\n",
              "       [0.19978836],\n",
              "       [0.21552296],\n",
              "       [0.23516822],\n",
              "       [0.23864183],\n",
              "       [0.27452782],\n",
              "       [0.28349932],\n",
              "       [0.29679555],\n",
              "       [0.30700929],\n",
              "       [0.34105497],\n",
              "       [0.35032547],\n",
              "       [0.32228381],\n",
              "       [0.35536329],\n",
              "       [0.359619  ],\n",
              "       [0.36732529],\n",
              "       [0.36847548],\n",
              "       [0.38430219],\n",
              "       [0.35414413],\n",
              "       [0.36134429],\n",
              "       [0.40845623],\n",
              "       [0.4024522 ],\n",
              "       [0.40746699],\n",
              "       [0.45858157],\n",
              "       [0.43042489],\n",
              "       [0.45087529],\n",
              "       [0.42945869],\n",
              "       [0.43290926],\n",
              "       [0.3934807 ],\n",
              "       [0.39421676],\n",
              "       [0.39067419],\n",
              "       [0.36764732],\n",
              "       [0.32709159],\n",
              "       [0.33160037],\n",
              "       [0.29750863],\n",
              "       [0.3016263 ],\n",
              "       [0.32543527],\n",
              "       [0.36175843],\n",
              "       [0.36003314],\n",
              "       [0.329507  ],\n",
              "       [0.37772307],\n",
              "       [0.35522525],\n",
              "       [0.35041747],\n",
              "       [0.31082783],\n",
              "       [0.29806076],\n",
              "       [0.31358829],\n",
              "       [0.35292486],\n",
              "       [0.35379908],\n",
              "       [0.34613873],\n",
              "       [0.37305322],\n",
              "       [0.36412778],\n",
              "       [0.38025349],\n",
              "       [0.38140369],\n",
              "       [0.35823877],\n",
              "       [0.377562  ],\n",
              "       [0.37015483],\n",
              "       [0.31340431],\n",
              "       [0.36709525],\n",
              "       [0.36164341],\n",
              "       [0.31489956],\n",
              "       [0.32078856],\n",
              "       [0.31345036],\n",
              "       [0.35115363],\n",
              "       [0.31775201],\n",
              "       [0.3274827 ],\n",
              "       [0.35099256],\n",
              "       [0.36026318],\n",
              "       [0.37084495],\n",
              "       [0.37797614],\n",
              "       [0.3645418 ],\n",
              "       [0.383543  ],\n",
              "       [0.39718434],\n",
              "       [0.39009909],\n",
              "       [0.40224519],\n",
              "       [0.40291228],\n",
              "       [0.41153872],\n",
              "       [0.44843686],\n",
              "       [0.44494023],\n",
              "       [0.43935034],\n",
              "       [0.45296866],\n",
              "       [0.46315931],\n",
              "       [0.47160177],\n",
              "       [0.48434587],\n",
              "       [0.48425388],\n",
              "       [0.50468125],\n",
              "       [0.5064755 ],\n",
              "       [0.53003153],\n",
              "       [0.53421816],\n",
              "       [0.52915731],\n",
              "       [0.52993942],\n",
              "       [0.53858889],\n",
              "       [0.58043285],\n",
              "       [0.59124466],\n",
              "       [0.60401179],\n",
              "       [0.60962482],\n",
              "       [0.59803079],\n",
              "       [0.64104797],\n",
              "       [0.65728871],\n",
              "       [0.66044028],\n",
              "       [0.67447262],\n",
              "       [0.72567919],\n",
              "       [0.74076962],\n",
              "       [0.80748076],\n",
              "       [0.79669198],\n",
              "       [0.76053001],\n",
              "       [0.75089131],\n",
              "       [0.7987393 ],\n",
              "       [0.76731615],\n",
              "       [0.80099375],\n",
              "       [0.802397  ],\n",
              "       [0.82620598],\n",
              "       [0.84410292],\n",
              "       [0.90048536],\n",
              "       [0.89622965],\n",
              "       [0.93729151],\n",
              "       [0.9547514 ],\n",
              "       [0.94971358],\n",
              "       [0.94437664],\n",
              "       [0.95017366],\n",
              "       [0.99250073],\n",
              "       [1.        ]])"
            ]
          },
          "metadata": {},
          "execution_count": 118
        }
      ]
    },
    {
      "cell_type": "code",
      "source": [
        "from tensorflow.keras.preprocessing.sequence import TimeseriesGenerator"
      ],
      "metadata": {
        "id": "Gtk2PQDPM-zg"
      },
      "execution_count": null,
      "outputs": []
    },
    {
      "cell_type": "code",
      "source": [
        "help(TimeseriesGenerator)"
      ],
      "metadata": {
        "colab": {
          "base_uri": "https://localhost:8080/"
        },
        "id": "nDdMUaXlNQCX",
        "outputId": "957f28c2-4ec0-43b5-b75e-d3dee9bc60d5"
      },
      "execution_count": null,
      "outputs": [
        {
          "output_type": "stream",
          "name": "stdout",
          "text": [
            "Help on class TimeseriesGenerator in module keras.preprocessing.sequence:\n",
            "\n",
            "class TimeseriesGenerator(keras_preprocessing.sequence.TimeseriesGenerator, keras.utils.data_utils.Sequence)\n",
            " |  TimeseriesGenerator(data, targets, length, sampling_rate=1, stride=1, start_index=0, end_index=None, shuffle=False, reverse=False, batch_size=128)\n",
            " |  \n",
            " |  Utility class for generating batches of temporal data.\n",
            " |  \n",
            " |  This class takes in a sequence of data-points gathered at\n",
            " |  equal intervals, along with time series parameters such as\n",
            " |  stride, length of history, etc., to produce batches for\n",
            " |  training/validation.\n",
            " |  # Arguments\n",
            " |      data: Indexable generator (such as list or Numpy array)\n",
            " |          containing consecutive data points (timesteps).\n",
            " |          The data should be at 2D, and axis 0 is expected\n",
            " |          to be the time dimension.\n",
            " |      targets: Targets corresponding to timesteps in `data`.\n",
            " |          It should have same length as `data`.\n",
            " |      length: Length of the output sequences (in number of timesteps).\n",
            " |      sampling_rate: Period between successive individual timesteps\n",
            " |          within sequences. For rate `r`, timesteps\n",
            " |          `data[i]`, `data[i-r]`, ... `data[i - length]`\n",
            " |          are used for create a sample sequence.\n",
            " |      stride: Period between successive output sequences.\n",
            " |          For stride `s`, consecutive output samples would\n",
            " |          be centered around `data[i]`, `data[i+s]`, `data[i+2*s]`, etc.\n",
            " |      start_index: Data points earlier than `start_index` will not be used\n",
            " |          in the output sequences. This is useful to reserve part of the\n",
            " |          data for test or validation.\n",
            " |      end_index: Data points later than `end_index` will not be used\n",
            " |          in the output sequences. This is useful to reserve part of the\n",
            " |          data for test or validation.\n",
            " |      shuffle: Whether to shuffle output samples,\n",
            " |          or instead draw them in chronological order.\n",
            " |      reverse: Boolean: if `true`, timesteps in each output sample will be\n",
            " |          in reverse chronological order.\n",
            " |      batch_size: Number of timeseries samples in each batch\n",
            " |          (except maybe the last one).\n",
            " |  # Returns\n",
            " |      A [Sequence](https://www.tensorflow.org/api_docs/python/tf/keras/utils/Sequence) instance.\n",
            " |  # Examples\n",
            " |  ```python\n",
            " |  from keras.preprocessing.sequence import TimeseriesGenerator\n",
            " |  import numpy as np\n",
            " |  data = np.array([[i] for i in range(50)])\n",
            " |  targets = np.array([[i] for i in range(50)])\n",
            " |  data_gen = TimeseriesGenerator(data, targets,\n",
            " |                                 length=10, sampling_rate=2,\n",
            " |                                 batch_size=2)\n",
            " |  assert len(data_gen) == 20\n",
            " |  batch_0 = data_gen[0]\n",
            " |  x, y = batch_0\n",
            " |  assert np.array_equal(x,\n",
            " |                        np.array([[[0], [2], [4], [6], [8]],\n",
            " |                                  [[1], [3], [5], [7], [9]]]))\n",
            " |  assert np.array_equal(y,\n",
            " |                        np.array([[10], [11]]))\n",
            " |  ```\n",
            " |  \n",
            " |  Method resolution order:\n",
            " |      TimeseriesGenerator\n",
            " |      keras_preprocessing.sequence.TimeseriesGenerator\n",
            " |      keras.utils.data_utils.Sequence\n",
            " |      builtins.object\n",
            " |  \n",
            " |  Methods inherited from keras_preprocessing.sequence.TimeseriesGenerator:\n",
            " |  \n",
            " |  __getitem__(self, index)\n",
            " |  \n",
            " |  __init__(self, data, targets, length, sampling_rate=1, stride=1, start_index=0, end_index=None, shuffle=False, reverse=False, batch_size=128)\n",
            " |      Initialize self.  See help(type(self)) for accurate signature.\n",
            " |  \n",
            " |  __len__(self)\n",
            " |  \n",
            " |  get_config(self)\n",
            " |      Returns the TimeseriesGenerator configuration as Python dictionary.\n",
            " |      \n",
            " |      # Returns\n",
            " |          A Python dictionary with the TimeseriesGenerator configuration.\n",
            " |  \n",
            " |  to_json(self, **kwargs)\n",
            " |      Returns a JSON string containing the timeseries generator\n",
            " |      configuration. To load a generator from a JSON string, use\n",
            " |      `keras.preprocessing.sequence.timeseries_generator_from_json(json_string)`.\n",
            " |      \n",
            " |      # Arguments\n",
            " |          **kwargs: Additional keyword arguments\n",
            " |              to be passed to `json.dumps()`.\n",
            " |      \n",
            " |      # Returns\n",
            " |          A JSON string containing the tokenizer configuration.\n",
            " |  \n",
            " |  ----------------------------------------------------------------------\n",
            " |  Data descriptors inherited from keras_preprocessing.sequence.TimeseriesGenerator:\n",
            " |  \n",
            " |  __dict__\n",
            " |      dictionary for instance variables (if defined)\n",
            " |  \n",
            " |  __weakref__\n",
            " |      list of weak references to the object (if defined)\n",
            " |  \n",
            " |  ----------------------------------------------------------------------\n",
            " |  Methods inherited from keras.utils.data_utils.Sequence:\n",
            " |  \n",
            " |  __iter__(self)\n",
            " |      Create a generator that iterate over the Sequence.\n",
            " |  \n",
            " |  on_epoch_end(self)\n",
            " |      Method called at the end of every epoch.\n",
            "\n"
          ]
        }
      ]
    },
    {
      "cell_type": "code",
      "source": [
        "length = 16\n",
        "batch_size = 32\n",
        "\n",
        "generator = TimeseriesGenerator(scaled_train,scaled_train,\n",
        "                                length = length, batch_size=batch_size)"
      ],
      "metadata": {
        "id": "FEdatTvPNckD"
      },
      "execution_count": null,
      "outputs": []
    },
    {
      "cell_type": "code",
      "source": [
        "from tensorflow.keras.models import Sequential\n",
        "from tensorflow.keras.layers import Dense, SimpleRNN, LSTM, Dropout"
      ],
      "metadata": {
        "id": "4JNqeYnkOhoW"
      },
      "execution_count": null,
      "outputs": []
    },
    {
      "cell_type": "code",
      "source": [
        "n_features = 1"
      ],
      "metadata": {
        "id": "se1K9TW3Pcg7"
      },
      "execution_count": null,
      "outputs": []
    },
    {
      "cell_type": "code",
      "source": [
        "model = Sequential()\n",
        "\n",
        "model.add(SimpleRNN(30,input_shape=(length,n_features)))\n",
        "model.add(Dropout(rate=0.2))\n",
        "\n",
        "model.add(Dense(1))\n",
        "\n",
        "model.compile(optimizer='adam',loss='mse')"
      ],
      "metadata": {
        "id": "mZ3bDb-FPv9d"
      },
      "execution_count": null,
      "outputs": []
    },
    {
      "cell_type": "code",
      "source": [
        "model.summary()"
      ],
      "metadata": {
        "colab": {
          "base_uri": "https://localhost:8080/"
        },
        "id": "DZE0gLzpRBtI",
        "outputId": "fff8c1db-bd28-4d08-9001-4d086d2583c1"
      },
      "execution_count": null,
      "outputs": [
        {
          "output_type": "stream",
          "name": "stdout",
          "text": [
            "Model: \"sequential_7\"\n",
            "_________________________________________________________________\n",
            " Layer (type)                Output Shape              Param #   \n",
            "=================================================================\n",
            " simple_rnn_2 (SimpleRNN)    (None, 30)                960       \n",
            "                                                                 \n",
            " dropout_7 (Dropout)         (None, 30)                0         \n",
            "                                                                 \n",
            " dense_5 (Dense)             (None, 1)                 31        \n",
            "                                                                 \n",
            "=================================================================\n",
            "Total params: 991\n",
            "Trainable params: 991\n",
            "Non-trainable params: 0\n",
            "_________________________________________________________________\n"
          ]
        }
      ]
    },
    {
      "cell_type": "code",
      "source": [
        "model.fit_generator(generator,epochs=10,shuffle=False)"
      ],
      "metadata": {
        "colab": {
          "base_uri": "https://localhost:8080/"
        },
        "id": "rjpu6wq5RE-s",
        "outputId": "4ddf241c-080c-4dee-a12c-550a4be94446"
      },
      "execution_count": null,
      "outputs": [
        {
          "output_type": "stream",
          "name": "stdout",
          "text": [
            "Epoch 1/10\n"
          ]
        },
        {
          "output_type": "stream",
          "name": "stderr",
          "text": [
            "/usr/local/lib/python3.7/dist-packages/ipykernel_launcher.py:1: UserWarning: `Model.fit_generator` is deprecated and will be removed in a future version. Please use `Model.fit`, which supports generators.\n",
            "  \"\"\"Entry point for launching an IPython kernel.\n"
          ]
        },
        {
          "output_type": "stream",
          "name": "stdout",
          "text": [
            "7/7 [==============================] - 1s 13ms/step - loss: 0.0426\n",
            "Epoch 2/10\n",
            "7/7 [==============================] - 0s 13ms/step - loss: 0.0269\n",
            "Epoch 3/10\n",
            "7/7 [==============================] - 0s 12ms/step - loss: 0.0132\n",
            "Epoch 4/10\n",
            "7/7 [==============================] - 0s 13ms/step - loss: 0.0092\n",
            "Epoch 5/10\n",
            "7/7 [==============================] - 0s 13ms/step - loss: 0.0109\n",
            "Epoch 6/10\n",
            "7/7 [==============================] - 0s 13ms/step - loss: 0.0080\n",
            "Epoch 7/10\n",
            "7/7 [==============================] - 0s 13ms/step - loss: 0.0085\n",
            "Epoch 8/10\n",
            "7/7 [==============================] - 0s 12ms/step - loss: 0.0047\n",
            "Epoch 9/10\n",
            "7/7 [==============================] - 0s 15ms/step - loss: 0.0058\n",
            "Epoch 10/10\n",
            "7/7 [==============================] - 0s 19ms/step - loss: 0.0066\n"
          ]
        },
        {
          "output_type": "execute_result",
          "data": {
            "text/plain": [
              "<keras.callbacks.History at 0x7f9be517e850>"
            ]
          },
          "metadata": {},
          "execution_count": 126
        }
      ]
    },
    {
      "cell_type": "code",
      "source": [
        "losses = pd.DataFrame(model.history.history)"
      ],
      "metadata": {
        "id": "SgTW6ieBRg_e"
      },
      "execution_count": null,
      "outputs": []
    },
    {
      "cell_type": "code",
      "source": [
        "losses.plot()"
      ],
      "metadata": {
        "colab": {
          "base_uri": "https://localhost:8080/",
          "height": 282
        },
        "id": "RS07gu4lRvWn",
        "outputId": "65dfc02d-5aee-4412-aaf8-53cca75d8283"
      },
      "execution_count": null,
      "outputs": [
        {
          "output_type": "execute_result",
          "data": {
            "text/plain": [
              "<matplotlib.axes._subplots.AxesSubplot at 0x7f9be4fddbd0>"
            ]
          },
          "metadata": {},
          "execution_count": 128
        },
        {
          "output_type": "display_data",
          "data": {
            "text/plain": [
              "<Figure size 432x288 with 1 Axes>"
            ],
            "image/png": "[encoded data removed]"
          },
          "metadata": {
            "needs_background": "light"
          }
        }
      ]
    },
    {
      "cell_type": "code",
      "source": [
        "first_eval_batch = scaled_train[-length:]"
      ],
      "metadata": {
        "id": "ajB5KfFmRzW7"
      },
      "execution_count": null,
      "outputs": []
    },
    {
      "cell_type": "code",
      "source": [
        "first_eval_batch"
      ],
      "metadata": {
        "colab": {
          "base_uri": "https://localhost:8080/"
        },
        "id": "4VTp0JJ6Slyc",
        "outputId": "c7194bd0-1e57-440a-81b6-5bf9b2d13f11"
      },
      "execution_count": null,
      "outputs": [
        {
          "output_type": "execute_result",
          "data": {
            "text/plain": [
              "array([[0.75089131],\n",
              "       [0.7987393 ],\n",
              "       [0.76731615],\n",
              "       [0.80099375],\n",
              "       [0.802397  ],\n",
              "       [0.82620598],\n",
              "       [0.84410292],\n",
              "       [0.90048536],\n",
              "       [0.89622965],\n",
              "       [0.93729151],\n",
              "       [0.9547514 ],\n",
              "       [0.94971358],\n",
              "       [0.94437664],\n",
              "       [0.95017366],\n",
              "       [0.99250073],\n",
              "       [1.        ]])"
            ]
          },
          "metadata": {},
          "execution_count": 130
        }
      ]
    },
    {
      "cell_type": "code",
      "source": [
        "first_eval_batch = first_eval_batch.reshape((1,length,1))"
      ],
      "metadata": {
        "id": "h9JVaSutSoOR"
      },
      "execution_count": null,
      "outputs": []
    },
    {
      "cell_type": "code",
      "source": [
        "first_eval_batch"
      ],
      "metadata": {
        "colab": {
          "base_uri": "https://localhost:8080/"
        },
        "id": "zRCu-3usTEF5",
        "outputId": "0ebae4c8-3241-46e8-890c-3cb2529586ed"
      },
      "execution_count": null,
      "outputs": [
        {
          "output_type": "execute_result",
          "data": {
            "text/plain": [
              "array([[[0.75089131],\n",
              "        [0.7987393 ],\n",
              "        [0.76731615],\n",
              "        [0.80099375],\n",
              "        [0.802397  ],\n",
              "        [0.82620598],\n",
              "        [0.84410292],\n",
              "        [0.90048536],\n",
              "        [0.89622965],\n",
              "        [0.93729151],\n",
              "        [0.9547514 ],\n",
              "        [0.94971358],\n",
              "        [0.94437664],\n",
              "        [0.95017366],\n",
              "        [0.99250073],\n",
              "        [1.        ]]])"
            ]
          },
          "metadata": {},
          "execution_count": 132
        }
      ]
    },
    {
      "cell_type": "code",
      "source": [
        "model.predict(first_eval_batch)"
      ],
      "metadata": {
        "colab": {
          "base_uri": "https://localhost:8080/"
        },
        "id": "Bz7fWXQXTGY-",
        "outputId": "e63b7ffc-2444-472c-daaa-325bb4653a9c"
      },
      "execution_count": null,
      "outputs": [
        {
          "output_type": "execute_result",
          "data": {
            "text/plain": [
              "array([[0.94137824]], dtype=float32)"
            ]
          },
          "metadata": {},
          "execution_count": 133
        }
      ]
    },
    {
      "cell_type": "code",
      "source": [
        "scaled_test[0]"
      ],
      "metadata": {
        "colab": {
          "base_uri": "https://localhost:8080/"
        },
        "id": "OvUggybhTYMn",
        "outputId": "25057e6f-5673-4bb3-e2c9-1a5c084989bf"
      },
      "execution_count": null,
      "outputs": [
        {
          "output_type": "execute_result",
          "data": {
            "text/plain": [
              "array([1.0812495])"
            ]
          },
          "metadata": {},
          "execution_count": 134
        }
      ]
    },
    {
      "cell_type": "code",
      "source": [
        "test_pred = []\n",
        "\n",
        "first_eval_batch = scaled_train[-length:]\n",
        "current_batch = first_eval_batch.reshape((1,length,n_features))\n",
        "\n",
        "for i in range(len(test)):\n",
        "  current_pred = model.predict(current_batch)[0]\n",
        "\n",
        "  test_pred.append(current_pred)\n",
        "\n",
        "  current_batch = np.append(current_batch[:,1:,:],[[current_pred]],axis=1)"
      ],
      "metadata": {
        "id": "LR6rJQQUTmxM"
      },
      "execution_count": null,
      "outputs": []
    },
    {
      "cell_type": "code",
      "source": [
        "test_pred"
      ],
      "metadata": {
        "colab": {
          "base_uri": "https://localhost:8080/"
        },
        "id": "vjg9FOefU-YN",
        "outputId": "f5e62395-e305-4bd9-c82e-ac3d3ca227a7"
      },
      "execution_count": null,
      "outputs": [
        {
          "output_type": "execute_result",
          "data": {
            "text/plain": [
              "[array([0.94137824], dtype=float32),\n",
              " array([0.92996556], dtype=float32),\n",
              " array([0.92449373], dtype=float32),\n",
              " array([0.8873236], dtype=float32),\n",
              " array([0.88743776], dtype=float32),\n",
              " array([0.8858676], dtype=float32),\n",
              " array([0.86914074], dtype=float32),\n",
              " array([0.87620175], dtype=float32),\n",
              " array([0.874092], dtype=float32),\n",
              " array([0.86089134], dtype=float32),\n",
              " array([0.8699283], dtype=float32),\n",
              " array([0.87216634], dtype=float32),\n",
              " array([0.8634848], dtype=float32),\n",
              " array([0.8621696], dtype=float32),\n",
              " array([0.8737329], dtype=float32),\n",
              " array([0.87625724], dtype=float32)]"
            ]
          },
          "metadata": {},
          "execution_count": 136
        }
      ]
    },
    {
      "cell_type": "code",
      "source": [
        "true_pred = scaler.inverse_transform(test_pred)"
      ],
      "metadata": {
        "id": "4OwCTCOcVWHK"
      },
      "execution_count": null,
      "outputs": []
    },
    {
      "cell_type": "code",
      "source": [
        "true_pred"
      ],
      "metadata": {
        "colab": {
          "base_uri": "https://localhost:8080/"
        },
        "id": "a7pDjQkEVo_Z",
        "outputId": "ca0ba5c1-e35d-4bfe-9f93-a1ffffda6a63"
      },
      "execution_count": null,
      "outputs": [
        {
          "output_type": "execute_result",
          "data": {
            "text/plain": [
              "array([[3444.68275959],\n",
              "       [3419.87672809],\n",
              "       [3407.98344129],\n",
              "       [3327.19234224],\n",
              "       [3327.44043754],\n",
              "       [3324.02760498],\n",
              "       [3287.67095616],\n",
              "       [3303.01840314],\n",
              "       [3298.43272114],\n",
              "       [3269.74046794],\n",
              "       [3289.38274892],\n",
              "       [3294.24723044],\n",
              "       [3275.37747805],\n",
              "       [3272.51887613],\n",
              "       [3297.65228978],\n",
              "       [3303.13901762]])"
            ]
          },
          "metadata": {},
          "execution_count": 138
        }
      ]
    },
    {
      "cell_type": "code",
      "source": [
        "test['prediction'] = true_pred"
      ],
      "metadata": {
        "colab": {
          "base_uri": "https://localhost:8080/"
        },
        "id": "bHpOrAnLVqVG",
        "outputId": "797ae9f5-16a6-4bf9-e32f-262d5d81e092"
      },
      "execution_count": null,
      "outputs": [
        {
          "output_type": "stream",
          "name": "stderr",
          "text": [
            "/usr/local/lib/python3.7/dist-packages/ipykernel_launcher.py:1: SettingWithCopyWarning: \n",
            "A value is trying to be set on a copy of a slice from a DataFrame.\n",
            "Try using .loc[row_indexer,col_indexer] = value instead\n",
            "\n",
            "See the caveats in the documentation: https://pandas.pydata.org/pandas-docs/stable/user_guide/indexing.html#returning-a-view-versus-a-copy\n",
            "  \"\"\"Entry point for launching an IPython kernel.\n"
          ]
        }
      ]
    },
    {
      "cell_type": "code",
      "source": [
        "test"
      ],
      "metadata": {
        "colab": {
          "base_uri": "https://localhost:8080/",
          "height": 551
        },
        "id": "YPdL1pmNV2pH",
        "outputId": "9a4a8fc9-a6c6-4584-c155-2be7e159cd17"
      },
      "execution_count": null,
      "outputs": [
        {
          "output_type": "execute_result",
          "data": {
            "text/plain": [
              "           Close   prediction\n",
              "730  3748.699951  3444.682760\n",
              "731  3702.199951  3419.876728\n",
              "732  3778.649902  3407.983441\n",
              "733  3834.550049  3327.192342\n",
              "734  3640.100098  3327.440438\n",
              "735  3716.300049  3324.027605\n",
              "736  3674.300049  3287.670956\n",
              "737  3586.199951  3303.018403\n",
              "738  3559.100098  3298.432721\n",
              "739  3548.750000  3269.740468\n",
              "740  3470.699951  3289.382749\n",
              "741  3455.750000  3294.247230\n",
              "742  3157.300049  3275.377478\n",
              "743  3237.699951  3272.518876\n",
              "744  3285.000000  3297.652290\n",
              "745  3277.600098  3303.139018"
            ],
            "text/html": [
              "\n",
              "  <div id=\"df-ac94fb83-4bcb-495c-8155-c2f0fb3aa849\">\n",
              "    <div class=\"colab-df-container\">\n",
              "      <div>\n",
              "<style scoped>\n",
              "    .dataframe tbody tr th:only-of-type {\n",
              "        vertical-align: middle;\n",
              "    }\n",
              "\n",
              "    .dataframe tbody tr th {\n",
              "        vertical-align: top;\n",
              "    }\n",
              "\n",
              "    .dataframe thead th {\n",
              "        text-align: right;\n",
              "    }\n",
              "</style>\n",
              "<table border=\"1\" class=\"dataframe\">\n",
              "  <thead>\n",
              "    <tr style=\"text-align: right;\">\n",
              "      <th></th>\n",
              "      <th>Close</th>\n",
              "      <th>prediction</th>\n",
              "    </tr>\n",
              "  </thead>\n",
              "  <tbody>\n",
              "    <tr>\n",
              "      <th>730</th>\n",
              "      <td>3748.699951</td>\n",
              "      <td>3444.682760</td>\n",
              "    </tr>\n",
              "    <tr>\n",
              "      <th>731</th>\n",
              "      <td>3702.199951</td>\n",
              "      <td>3419.876728</td>\n",
              "    </tr>\n",
              "    <tr>\n",
              "      <th>732</th>\n",
              "      <td>3778.649902</td>\n",
              "      <td>3407.983441</td>\n",
              "    </tr>\n",
              "    <tr>\n",
              "      <th>733</th>\n",
              "      <td>3834.550049</td>\n",
              "      <td>3327.192342</td>\n",
              "    </tr>\n",
              "    <tr>\n",
              "      <th>734</th>\n",
              "      <td>3640.100098</td>\n",
              "      <td>3327.440438</td>\n",
              "    </tr>\n",
              "    <tr>\n",
              "      <th>735</th>\n",
              "      <td>3716.300049</td>\n",
              "      <td>3324.027605</td>\n",
              "    </tr>\n",
              "    <tr>\n",
              "      <th>736</th>\n",
              "      <td>3674.300049</td>\n",
              "      <td>3287.670956</td>\n",
              "    </tr>\n",
              "    <tr>\n",
              "      <th>737</th>\n",
              "      <td>3586.199951</td>\n",
              "      <td>3303.018403</td>\n",
              "    </tr>\n",
              "    <tr>\n",
              "      <th>738</th>\n",
              "      <td>3559.100098</td>\n",
              "      <td>3298.432721</td>\n",
              "    </tr>\n",
              "    <tr>\n",
              "      <th>739</th>\n",
              "      <td>3548.750000</td>\n",
              "      <td>3269.740468</td>\n",
              "    </tr>\n",
              "    <tr>\n",
              "      <th>740</th>\n",
              "      <td>3470.699951</td>\n",
              "      <td>3289.382749</td>\n",
              "    </tr>\n",
              "    <tr>\n",
              "      <th>741</th>\n",
              "      <td>3455.750000</td>\n",
              "      <td>3294.247230</td>\n",
              "    </tr>\n",
              "    <tr>\n",
              "      <th>742</th>\n",
              "      <td>3157.300049</td>\n",
              "      <td>3275.377478</td>\n",
              "    </tr>\n",
              "    <tr>\n",
              "      <th>743</th>\n",
              "      <td>3237.699951</td>\n",
              "      <td>3272.518876</td>\n",
              "    </tr>\n",
              "    <tr>\n",
              "      <th>744</th>\n",
              "      <td>3285.000000</td>\n",
              "      <td>3297.652290</td>\n",
              "    </tr>\n",
              "    <tr>\n",
              "      <th>745</th>\n",
              "      <td>3277.600098</td>\n",
              "      <td>3303.139018</td>\n",
              "    </tr>\n",
              "  </tbody>\n",
              "</table>\n",
              "</div>\n",
              "      <button class=\"colab-df-convert\" onclick=\"convertToInteractive('df-ac94fb83-4bcb-495c-8155-c2f0fb3aa849')\"\n",
              "              title=\"Convert this dataframe to an interactive table.\"\n",
              "              style=\"display:none;\">\n",
              "        \n",
              "  <svg xmlns=\"http://www.w3.org/2000/svg\" height=\"24px\"viewBox=\"0 0 24 24\"\n",
              "       width=\"24px\">\n",
              "    <path d=\"M0 0h24v24H0V0z\" fill=\"none\"/>\n",
              "    <path d=\"M18.56 5.44l.94 2.06.94-2.06 2.06-.94-2.06-.94-.94-2.06-.94 2.06-2.06.94zm-11 1L8.5 8.5l.94-2.06 2.06-.94-2.06-.94L8.5 2.5l-.94 2.06-2.06.94zm10 10l.94 2.06.94-2.06 2.06-.94-2.06-.94-.94-2.06-.94 2.06-2.06.94z\"/><path d=\"M17.41 7.96l-1.37-1.37c-.4-.4-.92-.59-1.43-.59-.52 0-1.04.2-1.43.59L10.3 9.45l-7.72 7.72c-.78.78-.78 2.05 0 2.83L4 21.41c.39.39.9.59 1.41.59.51 0 1.02-.2 1.41-.59l7.78-7.78 2.81-2.81c.8-.78.8-2.07 0-2.86zM5.41 20L4 18.59l7.72-7.72 1.47 1.35L5.41 20z\"/>\n",
              "  </svg>\n",
              "      </button>\n",
              "      \n",
              "  <style>\n",
              "    .colab-df-container {\n",
              "      display:flex;\n",
              "      flex-wrap:wrap;\n",
              "      gap: 12px;\n",
              "    }\n",
              "\n",
              "    .colab-df-convert {\n",
              "      background-color: #E8F0FE;\n",
              "      border: none;\n",
              "      border-radius: 50%;\n",
              "      cursor: pointer;\n",
              "      display: none;\n",
              "      fill: #1967D2;\n",
              "      height: 32px;\n",
              "      padding: 0 0 0 0;\n",
              "      width: 32px;\n",
              "    }\n",
              "\n",
              "    .colab-df-convert:hover {\n",
              "      background-color: #E2EBFA;\n",
              "      box-shadow: 0px 1px 2px rgba(60, 64, 67, 0.3), 0px 1px 3px 1px rgba(60, 64, 67, 0.15);\n",
              "      fill: #174EA6;\n",
              "    }\n",
              "\n",
              "    [theme=dark] .colab-df-convert {\n",
              "      background-color: #3B4455;\n",
              "      fill: #D2E3FC;\n",
              "    }\n",
              "\n",
              "    [theme=dark] .colab-df-convert:hover {\n",
              "      background-color: #434B5C;\n",
              "      box-shadow: 0px 1px 3px 1px rgba(0, 0, 0, 0.15);\n",
              "      filter: drop-shadow(0px 1px 2px rgba(0, 0, 0, 0.3));\n",
              "      fill: #FFFFFF;\n",
              "    }\n",
              "  </style>\n",
              "\n",
              "      <script>\n",
              "        const buttonEl =\n",
              "          document.querySelector('#df-ac94fb83-4bcb-495c-8155-c2f0fb3aa849 button.colab-df-convert');\n",
              "        buttonEl.style.display =\n",
              "          google.colab.kernel.accessAllowed ? 'block' : 'none';\n",
              "\n",
              "        async function convertToInteractive(key) {\n",
              "          const element = document.querySelector('#df-ac94fb83-4bcb-495c-8155-c2f0fb3aa849');\n",
              "          const dataTable =\n",
              "            await google.colab.kernel.invokeFunction('convertToInteractive',\n",
              "                                                     [key], {});\n",
              "          if (!dataTable) return;\n",
              "\n",
              "          const docLinkHtml = 'Like what you see? Visit the ' +\n",
              "            '<a target=\"_blank\" href=https://colab.research.google.com/notebooks/data_table.ipynb>data table notebook</a>'\n",
              "            + ' to learn more about interactive tables.';\n",
              "          element.innerHTML = '';\n",
              "          dataTable['output_type'] = 'display_data';\n",
              "          await google.colab.output.renderOutput(dataTable, element);\n",
              "          const docLink = document.createElement('div');\n",
              "          docLink.innerHTML = docLinkHtml;\n",
              "          element.appendChild(docLink);\n",
              "        }\n",
              "      </script>\n",
              "    </div>\n",
              "  </div>\n",
              "  "
            ]
          },
          "metadata": {},
          "execution_count": 140
        }
      ]
    },
    {
      "cell_type": "code",
      "source": [
        "test.plot(figsize=(16,10))\n"
      ],
      "metadata": {
        "colab": {
          "base_uri": "https://localhost:8080/",
          "height": 609
        },
        "id": "eXxibbyLV30W",
        "outputId": "336fd59e-5239-4392-a65c-3343a3927ae7"
      },
      "execution_count": null,
      "outputs": [
        {
          "output_type": "execute_result",
          "data": {
            "text/plain": [
              "<matplotlib.axes._subplots.AxesSubplot at 0x7f9be6618090>"
            ]
          },
          "metadata": {},
          "execution_count": 141
        },
        {
          "output_type": "display_data",
          "data": {
            "text/plain": [
              "<Figure size 1152x720 with 1 Axes>"
            ],
            "image/png": "[encoded data removed]"
          },
          "metadata": {
            "needs_background": "light"
          }
        }
      ]
    },
    {
      "cell_type": "code",
      "source": [
        "full_scaler = MinMaxScaler()\n",
        "\n",
        "sc = full_scaler.fit_transform(adani)"
      ],
      "metadata": {
        "id": "569FiSZmXGSh"
      },
      "execution_count": null,
      "outputs": []
    },
    {
      "cell_type": "code",
      "source": [
        "generator = TimeseriesGenerator(sc,sc,\n",
        "                                length=length,batch_size=32)"
      ],
      "metadata": {
        "id": "YRcreqigZHRp"
      },
      "execution_count": null,
      "outputs": []
    },
    {
      "cell_type": "code",
      "source": [
        "model = Sequential()\n",
        "\n",
        "model.add(SimpleRNN(30,input_shape=(length,n_features)))\n",
        "model.add(Dropout(rate=0.2))\n",
        "\n",
        "model.add(Dense(1))\n",
        "\n",
        "model.compile(optimizer='adam',loss='mse')"
      ],
      "metadata": {
        "id": "tyjPUsRHZtmE"
      },
      "execution_count": null,
      "outputs": []
    },
    {
      "cell_type": "code",
      "source": [
        "model.fit_generator(generator,epochs=10,shuffle=False)"
      ],
      "metadata": {
        "colab": {
          "base_uri": "https://localhost:8080/"
        },
        "id": "nFGwKATvaMus",
        "outputId": "76d7b305-7a23-49c6-bad6-bcc296a92661"
      },
      "execution_count": null,
      "outputs": [
        {
          "output_type": "stream",
          "name": "stdout",
          "text": [
            "Epoch 1/10\n"
          ]
        },
        {
          "output_type": "stream",
          "name": "stderr",
          "text": [
            "/usr/local/lib/python3.7/dist-packages/ipykernel_launcher.py:1: UserWarning: `Model.fit_generator` is deprecated and will be removed in a future version. Please use `Model.fit`, which supports generators.\n",
            "  \"\"\"Entry point for launching an IPython kernel.\n"
          ]
        },
        {
          "output_type": "stream",
          "name": "stdout",
          "text": [
            "23/23 [==============================] - 1s 12ms/step - loss: 0.0084\n",
            "Epoch 2/10\n",
            "23/23 [==============================] - 0s 12ms/step - loss: 0.0082\n",
            "Epoch 3/10\n",
            "23/23 [==============================] - 0s 13ms/step - loss: 0.0082\n",
            "Epoch 4/10\n",
            "23/23 [==============================] - 0s 12ms/step - loss: 0.0124\n",
            "Epoch 5/10\n",
            "23/23 [==============================] - 0s 12ms/step - loss: 0.0083\n",
            "Epoch 6/10\n",
            "23/23 [==============================] - 0s 12ms/step - loss: 0.0043\n",
            "Epoch 7/10\n",
            "23/23 [==============================] - 0s 12ms/step - loss: 0.0040\n",
            "Epoch 8/10\n",
            "23/23 [==============================] - 0s 12ms/step - loss: 0.0029\n",
            "Epoch 9/10\n",
            "23/23 [==============================] - 0s 13ms/step - loss: 0.0025\n",
            "Epoch 10/10\n",
            "23/23 [==============================] - 0s 12ms/step - loss: 0.0025\n"
          ]
        },
        {
          "output_type": "execute_result",
          "data": {
            "text/plain": [
              "<keras.callbacks.History at 0x7f9be66ee6d0>"
            ]
          },
          "metadata": {},
          "execution_count": 145
        }
      ]
    },
    {
      "cell_type": "code",
      "source": [
        "full_model_loss = pd.DataFrame(model.history.history)\n",
        "full_model_loss.plot()"
      ],
      "metadata": {
        "colab": {
          "base_uri": "https://localhost:8080/",
          "height": 282
        },
        "id": "XWBF8owUaZCR",
        "outputId": "952b9fbd-d528-4dcc-ea38-1dd92137bbf4"
      },
      "execution_count": null,
      "outputs": [
        {
          "output_type": "execute_result",
          "data": {
            "text/plain": [
              "<matplotlib.axes._subplots.AxesSubplot at 0x7f9be64bc490>"
            ]
          },
          "metadata": {},
          "execution_count": 146
        },
        {
          "output_type": "display_data",
          "data": {
            "text/plain": [
              "<Figure size 432x288 with 1 Axes>"
            ],
            "image/png": "[encoded data removed]"
          },
          "metadata": {
            "needs_background": "light"
          }
        }
      ]
    },
    {
      "cell_type": "code",
      "source": [
        "forecast = []\n",
        "\n",
        "first_eval_batch = scaled_train[-length:]\n",
        "current_batch = first_eval_batch.reshape((1,length,n_features))\n",
        "\n",
        "for i in range(20):\n",
        "  current_pred = model.predict(current_batch)[0]\n",
        "\n",
        "  forecast.append(current_pred)\n",
        "\n",
        "  current_batch = np.append(current_batch[:,1:,:],[[current_pred]],axis=1)"
      ],
      "metadata": {
        "id": "ST6mpTp6alKr"
      },
      "execution_count": null,
      "outputs": []
    },
    {
      "cell_type": "code",
      "source": [
        "forecast = scaler.inverse_transform(forecast)"
      ],
      "metadata": {
        "id": "k21h6PzgbJyF"
      },
      "execution_count": null,
      "outputs": []
    },
    {
      "cell_type": "code",
      "source": [
        "forecast"
      ],
      "metadata": {
        "colab": {
          "base_uri": "https://localhost:8080/"
        },
        "id": "6cQ8j5x8bcBT",
        "outputId": "bf0c8abb-e5da-4dfc-b148-795e3235e691"
      },
      "execution_count": null,
      "outputs": [
        {
          "output_type": "execute_result",
          "data": {
            "text/plain": [
              "array([[3623.31551732],\n",
              "       [3636.50589555],\n",
              "       [3657.59075674],\n",
              "       [3683.01903455],\n",
              "       [3708.42088342],\n",
              "       [3726.97012001],\n",
              "       [3768.71982936],\n",
              "       [3772.74506215],\n",
              "       [3786.81433254],\n",
              "       [3806.76533993],\n",
              "       [3821.05770175],\n",
              "       [3850.05958824],\n",
              "       [3854.14493394],\n",
              "       [3868.01572809],\n",
              "       [3877.60503227],\n",
              "       [3883.60414491],\n",
              "       [3896.88806089],\n",
              "       [3905.9464541 ],\n",
              "       [3913.47326372],\n",
              "       [3923.9961317 ]])"
            ]
          },
          "metadata": {},
          "execution_count": 149
        }
      ]
    },
    {
      "cell_type": "code",
      "source": [
        "forecast.flatten()"
      ],
      "metadata": {
        "colab": {
          "base_uri": "https://localhost:8080/"
        },
        "id": "6Z_LORdEbnXa",
        "outputId": "aeb3fb66-0a3d-461a-f5ee-6f55f2d35483"
      },
      "execution_count": null,
      "outputs": [
        {
          "output_type": "execute_result",
          "data": {
            "text/plain": [
              "array([3623.31551732, 3636.50589555, 3657.59075674, 3683.01903455,\n",
              "       3708.42088342, 3726.97012001, 3768.71982936, 3772.74506215,\n",
              "       3786.81433254, 3806.76533993, 3821.05770175, 3850.05958824,\n",
              "       3854.14493394, 3868.01572809, 3877.60503227, 3883.60414491,\n",
              "       3896.88806089, 3905.9464541 , 3913.47326372, 3923.9961317 ])"
            ]
          },
          "metadata": {},
          "execution_count": 150
        }
      ]
    },
    {
      "cell_type": "code",
      "source": [
        "df_array = np.array(adani)\n",
        "df_array"
      ],
      "metadata": {
        "colab": {
          "base_uri": "https://localhost:8080/"
        },
        "id": "0AVzKhk0b0U9",
        "outputId": "2e5fd4c1-5aea-4e86-f892-5717bbe2258f"
      },
      "execution_count": null,
      "outputs": [
        {
          "output_type": "execute_result",
          "data": {
            "text/plain": [
              "array([[ 139.      ],\n",
              "       [ 137.399994],\n",
              "       [ 136.949997],\n",
              "       [ 147.100006],\n",
              "       [ 155.      ],\n",
              "       [ 160.149994],\n",
              "       [ 162.550003],\n",
              "       [ 175.100006],\n",
              "       [ 178.649994],\n",
              "       [ 176.449997],\n",
              "       [ 179.      ],\n",
              "       [ 181.300003],\n",
              "       [ 183.399994],\n",
              "       [ 195.550003],\n",
              "       [ 195.75    ],\n",
              "       [ 199.649994],\n",
              "       [ 200.449997],\n",
              "       [ 200.899994],\n",
              "       [ 200.550003],\n",
              "       [ 207.550003],\n",
              "       [ 209.149994],\n",
              "       [ 208.050003],\n",
              "       [ 210.850006],\n",
              "       [ 198.199997],\n",
              "       [ 202.300003],\n",
              "       [ 203.600006],\n",
              "       [ 201.149994],\n",
              "       [ 199.699997],\n",
              "       [ 205.699997],\n",
              "       [ 205.5     ],\n",
              "       [ 203.449997],\n",
              "       [ 215.199997],\n",
              "       [ 210.600006],\n",
              "       [ 213.550003],\n",
              "       [ 213.100006],\n",
              "       [ 214.899994],\n",
              "       [ 209.      ],\n",
              "       [ 207.850006],\n",
              "       [ 212.449997],\n",
              "       [ 208.399994],\n",
              "       [ 206.5     ],\n",
              "       [ 207.449997],\n",
              "       [ 204.199997],\n",
              "       [ 206.149994],\n",
              "       [ 210.399994],\n",
              "       [ 212.199997],\n",
              "       [ 210.5     ],\n",
              "       [ 211.199997],\n",
              "       [ 208.149994],\n",
              "       [ 210.550003],\n",
              "       [ 218.800003],\n",
              "       [ 214.550003],\n",
              "       [ 209.149994],\n",
              "       [ 208.949997],\n",
              "       [ 209.100006],\n",
              "       [ 208.649994],\n",
              "       [ 208.350006],\n",
              "       [ 207.850006],\n",
              "       [ 211.199997],\n",
              "       [ 208.300003],\n",
              "       [ 199.550003],\n",
              "       [ 204.050003],\n",
              "       [ 201.5     ],\n",
              "       [ 208.      ],\n",
              "       [ 209.100006],\n",
              "       [ 213.600006],\n",
              "       [ 214.350006],\n",
              "       [ 216.600006],\n",
              "       [ 220.      ],\n",
              "       [ 228.399994],\n",
              "       [ 226.550003],\n",
              "       [ 224.25    ],\n",
              "       [ 225.899994],\n",
              "       [ 229.600006],\n",
              "       [ 229.75    ],\n",
              "       [ 230.550003],\n",
              "       [ 229.899994],\n",
              "       [ 232.300003],\n",
              "       [ 231.5     ],\n",
              "       [ 229.449997],\n",
              "       [ 220.899994],\n",
              "       [ 225.449997],\n",
              "       [ 236.25    ],\n",
              "       [ 236.5     ],\n",
              "       [ 239.5     ],\n",
              "       [ 244.5     ],\n",
              "       [ 245.300003],\n",
              "       [ 249.699997],\n",
              "       [ 251.449997],\n",
              "       [ 256.149994],\n",
              "       [ 252.5     ],\n",
              "       [ 249.449997],\n",
              "       [ 254.      ],\n",
              "       [ 258.649994],\n",
              "       [ 247.25    ],\n",
              "       [ 246.449997],\n",
              "       [ 242.800003],\n",
              "       [ 234.149994],\n",
              "       [ 218.649994],\n",
              "       [ 218.600006],\n",
              "       [ 225.75    ],\n",
              "       [ 221.100006],\n",
              "       [ 221.75    ],\n",
              "       [ 214.75    ],\n",
              "       [ 199.699997],\n",
              "       [ 195.75    ],\n",
              "       [ 162.149994],\n",
              "       [ 148.75    ],\n",
              "       [ 134.699997],\n",
              "       [ 133.399994],\n",
              "       [ 130.199997],\n",
              "       [ 128.899994],\n",
              "       [ 137.699997],\n",
              "       [ 120.900002],\n",
              "       [ 130.350006],\n",
              "       [ 132.300003],\n",
              "       [ 140.25    ],\n",
              "       [ 128.      ],\n",
              "       [ 128.699997],\n",
              "       [ 137.600006],\n",
              "       [ 133.949997],\n",
              "       [ 129.050003],\n",
              "       [ 138.149994],\n",
              "       [ 138.100006],\n",
              "       [ 142.449997],\n",
              "       [ 146.      ],\n",
              "       [ 145.25    ],\n",
              "       [ 143.300003],\n",
              "       [ 143.899994],\n",
              "       [ 146.699997],\n",
              "       [ 135.949997],\n",
              "       [ 137.600006],\n",
              "       [ 140.5     ],\n",
              "       [ 134.649994],\n",
              "       [ 134.600006],\n",
              "       [ 139.300003],\n",
              "       [ 139.5     ],\n",
              "       [ 141.399994],\n",
              "       [ 131.550003],\n",
              "       [ 132.699997],\n",
              "       [ 133.25    ],\n",
              "       [ 134.899994],\n",
              "       [ 137.149994],\n",
              "       [ 140.050003],\n",
              "       [ 139.899994],\n",
              "       [ 141.149994],\n",
              "       [ 140.899994],\n",
              "       [ 141.050003],\n",
              "       [ 135.899994],\n",
              "       [ 139.699997],\n",
              "       [ 141.350006],\n",
              "       [ 138.300003],\n",
              "       [ 138.100006],\n",
              "       [ 139.5     ],\n",
              "       [ 141.      ],\n",
              "       [ 142.649994],\n",
              "       [ 148.350006],\n",
              "       [ 150.5     ],\n",
              "       [ 149.949997],\n",
              "       [ 150.649994],\n",
              "       [ 148.      ],\n",
              "       [ 152.449997],\n",
              "       [ 152.649994],\n",
              "       [ 151.899994],\n",
              "       [ 151.850006],\n",
              "       [ 151.800003],\n",
              "       [ 152.300003],\n",
              "       [ 149.25    ],\n",
              "       [ 146.199997],\n",
              "       [ 147.149994],\n",
              "       [ 147.850006],\n",
              "       [ 152.699997],\n",
              "       [ 154.649994],\n",
              "       [ 157.199997],\n",
              "       [ 154.800003],\n",
              "       [ 161.649994],\n",
              "       [ 162.149994],\n",
              "       [ 159.75    ],\n",
              "       [ 156.25    ],\n",
              "       [ 157.649994],\n",
              "       [ 158.199997],\n",
              "       [ 160.      ],\n",
              "       [ 164.199997],\n",
              "       [ 168.149994],\n",
              "       [ 163.      ],\n",
              "       [ 162.75    ],\n",
              "       [ 159.699997],\n",
              "       [ 156.050003],\n",
              "       [ 149.75    ],\n",
              "       [ 147.75    ],\n",
              "       [ 148.899994],\n",
              "       [ 151.600006],\n",
              "       [ 160.699997],\n",
              "       [ 167.300003],\n",
              "       [ 169.399994],\n",
              "       [ 169.949997],\n",
              "       [ 168.75    ],\n",
              "       [ 165.949997],\n",
              "       [ 173.550003],\n",
              "       [ 179.100006],\n",
              "       [ 175.050003],\n",
              "       [ 175.25    ],\n",
              "       [ 172.25    ],\n",
              "       [ 182.100006],\n",
              "       [ 179.600006],\n",
              "       [ 185.949997],\n",
              "       [ 192.899994],\n",
              "       [ 195.699997],\n",
              "       [ 195.850006],\n",
              "       [ 197.699997],\n",
              "       [ 200.75    ],\n",
              "       [ 196.199997],\n",
              "       [ 197.800003],\n",
              "       [ 213.699997],\n",
              "       [ 239.550003],\n",
              "       [ 234.      ],\n",
              "       [ 233.350006],\n",
              "       [ 248.699997],\n",
              "       [ 307.549988],\n",
              "       [ 285.549988],\n",
              "       [ 286.700012],\n",
              "       [ 288.25    ],\n",
              "       [ 279.549988],\n",
              "       [ 281.100006],\n",
              "       [ 293.049988],\n",
              "       [ 291.25    ],\n",
              "       [ 285.149994],\n",
              "       [ 285.25    ],\n",
              "       [ 277.700012],\n",
              "       [ 283.049988],\n",
              "       [ 298.299988],\n",
              "       [ 296.      ],\n",
              "       [ 293.149994],\n",
              "       [ 288.549988],\n",
              "       [ 297.100006],\n",
              "       [ 293.700012],\n",
              "       [ 291.549988],\n",
              "       [ 277.100006],\n",
              "       [ 280.399994],\n",
              "       [ 283.549988],\n",
              "       [ 270.450012],\n",
              "       [ 280.299988],\n",
              "       [ 295.700012],\n",
              "       [ 297.899994],\n",
              "       [ 297.100006],\n",
              "       [ 308.149994],\n",
              "       [ 326.600006],\n",
              "       [ 327.149994],\n",
              "       [ 330.100006],\n",
              "       [ 316.25    ],\n",
              "       [ 313.      ],\n",
              "       [ 315.350006],\n",
              "       [ 313.200012],\n",
              "       [ 313.399994],\n",
              "       [ 307.100006],\n",
              "       [ 307.      ],\n",
              "       [ 316.950012],\n",
              "       [ 321.899994],\n",
              "       [ 312.      ],\n",
              "       [ 311.5     ],\n",
              "       [ 315.450012],\n",
              "       [ 307.399994],\n",
              "       [ 314.049988],\n",
              "       [ 318.850006],\n",
              "       [ 328.899994],\n",
              "       [ 339.700012],\n",
              "       [ 341.100006],\n",
              "       [ 344.799988],\n",
              "       [ 351.850006],\n",
              "       [ 352.75    ],\n",
              "       [ 352.100006],\n",
              "       [ 357.899994],\n",
              "       [ 359.5     ],\n",
              "       [ 360.100006],\n",
              "       [ 365.549988],\n",
              "       [ 368.600006],\n",
              "       [ 371.25    ],\n",
              "       [ 394.299988],\n",
              "       [ 394.5     ],\n",
              "       [ 385.75    ],\n",
              "       [ 388.299988],\n",
              "       [ 409.049988],\n",
              "       [ 407.200012],\n",
              "       [ 399.25    ],\n",
              "       [ 401.950012],\n",
              "       [ 398.399994],\n",
              "       [ 421.899994],\n",
              "       [ 453.75    ],\n",
              "       [ 447.549988],\n",
              "       [ 445.950012],\n",
              "       [ 457.549988],\n",
              "       [ 451.899994],\n",
              "       [ 449.100006],\n",
              "       [ 447.25    ],\n",
              "       [ 449.799988],\n",
              "       [ 455.149994],\n",
              "       [ 462.450012],\n",
              "       [ 463.25    ],\n",
              "       [ 459.299988],\n",
              "       [ 455.149994],\n",
              "       [ 429.200012],\n",
              "       [ 458.799988],\n",
              "       [ 463.600006],\n",
              "       [ 473.649994],\n",
              "       [ 490.850006],\n",
              "       [ 489.200012],\n",
              "       [ 484.149994],\n",
              "       [ 479.549988],\n",
              "       [ 491.149994],\n",
              "       [ 494.5     ],\n",
              "       [ 494.399994],\n",
              "       [ 490.899994],\n",
              "       [ 518.099976],\n",
              "       [ 518.      ],\n",
              "       [ 519.150024],\n",
              "       [ 525.400024],\n",
              "       [ 536.049988],\n",
              "       [ 532.099976],\n",
              "       [ 527.299988],\n",
              "       [ 507.850006],\n",
              "       [ 530.099976],\n",
              "       [ 546.75    ],\n",
              "       [ 536.900024],\n",
              "       [ 526.799988],\n",
              "       [ 513.900024],\n",
              "       [ 512.799988],\n",
              "       [ 511.850006],\n",
              "       [ 506.649994],\n",
              "       [ 537.200012],\n",
              "       [ 564.200012],\n",
              "       [ 566.599976],\n",
              "       [ 589.700012],\n",
              "       [ 595.349976],\n",
              "       [ 628.299988],\n",
              "       [ 629.849976],\n",
              "       [ 650.700012],\n",
              "       [ 658.599976],\n",
              "       [ 718.950012],\n",
              "       [ 763.450012],\n",
              "       [ 780.200012],\n",
              "       [ 785.450012],\n",
              "       [ 808.200012],\n",
              "       [ 781.900024],\n",
              "       [ 805.900024],\n",
              "       [ 799.650024],\n",
              "       [ 805.200012],\n",
              "       [ 843.5     ],\n",
              "       [ 833.650024],\n",
              "       [ 851.5     ],\n",
              "       [ 872.549988],\n",
              "       [ 915.349976],\n",
              "       [ 918.400024],\n",
              "       [ 909.900024],\n",
              "       [ 910.200012],\n",
              "       [ 905.200012],\n",
              "       [ 898.150024],\n",
              "       [ 894.099976],\n",
              "       [ 896.200012],\n",
              "       [ 897.799988],\n",
              "       [ 873.900024],\n",
              "       [ 871.049988],\n",
              "       [ 889.650024],\n",
              "       [ 991.049988],\n",
              "       [1058.400024],\n",
              "       [1025.449951],\n",
              "       [ 981.549988],\n",
              "       [ 988.299988],\n",
              "       [1031.550049],\n",
              "       [1031.150024],\n",
              "       [1107.199951],\n",
              "       [1138.25    ],\n",
              "       [1225.400024],\n",
              "       [1165.550049],\n",
              "       [1162.5     ],\n",
              "       [1201.400024],\n",
              "       [1074.400024],\n",
              "       [1106.349976],\n",
              "       [1129.949951],\n",
              "       [1159.      ],\n",
              "       [1136.349976],\n",
              "       [1142.75    ],\n",
              "       [1157.800049],\n",
              "       [1157.599976],\n",
              "       [1173.349976],\n",
              "       [1191.150024],\n",
              "       [1185.199951],\n",
              "       [1182.300049],\n",
              "       [1158.699951],\n",
              "       [1255.550049],\n",
              "       [1262.5     ],\n",
              "       [1267.5     ],\n",
              "       [1286.75    ],\n",
              "       [1298.900024],\n",
              "       [1304.099976],\n",
              "       [1303.5     ],\n",
              "       [1285.800049],\n",
              "       [1220.349976],\n",
              "       [1289.099976],\n",
              "       [1326.699951],\n",
              "       [1294.699951],\n",
              "       [1302.      ],\n",
              "       [1315.099976],\n",
              "       [1306.800049],\n",
              "       [1282.75    ],\n",
              "       [1322.800049],\n",
              "       [1325.800049],\n",
              "       [1302.599976],\n",
              "       [1316.300049],\n",
              "       [1416.25    ],\n",
              "       [1546.75    ],\n",
              "       [1583.099976],\n",
              "       [1700.949951],\n",
              "       [1624.300049],\n",
              "       [1636.449951],\n",
              "       [1594.650024],\n",
              "       [1612.      ],\n",
              "       [1601.599976],\n",
              "       [1501.449951],\n",
              "       [1538.849976],\n",
              "       [1448.300049],\n",
              "       [1367.699951],\n",
              "       [1487.5     ],\n",
              "       [1540.      ],\n",
              "       [1541.599976],\n",
              "       [1504.75    ],\n",
              "       [1508.5     ],\n",
              "       [1519.449951],\n",
              "       [1525.75    ],\n",
              "       [1523.550049],\n",
              "       [1507.550049],\n",
              "       [1490.25    ],\n",
              "       [1422.050049],\n",
              "       [1394.349976],\n",
              "       [1414.800049],\n",
              "       [1425.650024],\n",
              "       [1425.900024],\n",
              "       [1431.349976],\n",
              "       [1420.699951],\n",
              "       [1417.699951],\n",
              "       [1402.050049],\n",
              "       [1407.949951],\n",
              "       [1395.5     ],\n",
              "       [1380.599976],\n",
              "       [1365.699951],\n",
              "       [1416.75    ],\n",
              "       [1401.650024],\n",
              "       [1403.900024],\n",
              "       [1396.75    ],\n",
              "       [1399.900024],\n",
              "       [1400.25    ],\n",
              "       [1420.25    ],\n",
              "       [1438.199951],\n",
              "       [1442.800049],\n",
              "       [1429.550049],\n",
              "       [1432.349976],\n",
              "       [1536.650024],\n",
              "       [1493.400024],\n",
              "       [1446.5     ],\n",
              "       [1437.050049],\n",
              "       [1442.900024],\n",
              "       [1437.      ],\n",
              "       [1430.099976],\n",
              "       [1441.650024],\n",
              "       [1460.      ],\n",
              "       [1430.099976],\n",
              "       [1396.699951],\n",
              "       [1437.800049],\n",
              "       [1475.349976],\n",
              "       [1475.699951],\n",
              "       [1506.050049],\n",
              "       [1516.550049],\n",
              "       [1587.599976],\n",
              "       [1565.199951],\n",
              "       [1570.550049],\n",
              "       [1565.550049],\n",
              "       [1582.      ],\n",
              "       [1558.099976],\n",
              "       [1555.949951],\n",
              "       [1545.      ],\n",
              "       [1532.449951],\n",
              "       [1513.199951],\n",
              "       [1516.800049],\n",
              "       [1503.199951],\n",
              "       [1480.25    ],\n",
              "       [1418.849976],\n",
              "       [1441.449951],\n",
              "       [1437.75    ],\n",
              "       [1474.349976],\n",
              "       [1461.699951],\n",
              "       [1531.25    ],\n",
              "       [1487.300049],\n",
              "       [1485.650024],\n",
              "       [1468.099976],\n",
              "       [1458.699951],\n",
              "       [1526.650024],\n",
              "       [1527.650024],\n",
              "       [1479.550049],\n",
              "       [1520.75    ],\n",
              "       [1547.900024],\n",
              "       [1539.75    ],\n",
              "       [1554.449951],\n",
              "       [1569.699951],\n",
              "       [1646.349976],\n",
              "       [1615.5     ],\n",
              "       [1569.449951],\n",
              "       [1589.699951],\n",
              "       [1595.050049],\n",
              "       [1543.      ],\n",
              "       [1532.199951],\n",
              "       [1543.849976],\n",
              "       [1566.550049],\n",
              "       [1398.550049],\n",
              "       [1423.599976],\n",
              "       [1445.300049],\n",
              "       [1472.800049],\n",
              "       [1485.900024],\n",
              "       [1489.449951],\n",
              "       [1568.25    ],\n",
              "       [1635.449951],\n",
              "       [1655.849976],\n",
              "       [1664.900024],\n",
              "       [1705.199951],\n",
              "       [1749.550049],\n",
              "       [1711.599976],\n",
              "       [1706.449951],\n",
              "       [1688.75    ],\n",
              "       [1675.75    ],\n",
              "       [1707.949951],\n",
              "       [1755.150024],\n",
              "       [1763.050049],\n",
              "       [1669.550049],\n",
              "       [1665.050049],\n",
              "       [1662.849976],\n",
              "       [1693.300049],\n",
              "       [1732.25    ],\n",
              "       [1708.099976],\n",
              "       [1645.599976],\n",
              "       [1678.449951],\n",
              "       [1715.5     ],\n",
              "       [1722.25    ],\n",
              "       [1740.400024],\n",
              "       [1719.550049],\n",
              "       [1720.099976],\n",
              "       [1695.300049],\n",
              "       [1702.050049],\n",
              "       [1645.300049],\n",
              "       [1589.949951],\n",
              "       [1620.5     ],\n",
              "       [1658.099976],\n",
              "       [1676.199951],\n",
              "       [1698.199951],\n",
              "       [1730.199951],\n",
              "       [1751.      ],\n",
              "       [1718.050049],\n",
              "       [1696.400024],\n",
              "       [1709.449951],\n",
              "       [1717.150024],\n",
              "       [1719.      ],\n",
              "       [1715.449951],\n",
              "       [1713.099976],\n",
              "       [1699.099976],\n",
              "       [1752.599976],\n",
              "       [1843.900024],\n",
              "       [1830.099976],\n",
              "       [1853.349976],\n",
              "       [1870.25    ],\n",
              "       [1877.800049],\n",
              "       [1840.949951],\n",
              "       [1849.300049],\n",
              "       [1865.849976],\n",
              "       [1828.349976],\n",
              "       [1715.800049],\n",
              "       [1741.400024],\n",
              "       [1686.      ],\n",
              "       [1693.699951],\n",
              "       [1714.949951],\n",
              "       [1746.900024],\n",
              "       [1779.349976],\n",
              "       [1751.849976],\n",
              "       [1757.300049],\n",
              "       [1731.800049],\n",
              "       [1716.      ],\n",
              "       [1783.150024],\n",
              "       [1786.099976],\n",
              "       [1764.300049],\n",
              "       [1663.949951],\n",
              "       [1744.25    ],\n",
              "       [1738.099976],\n",
              "       [1730.949951],\n",
              "       [1736.300049],\n",
              "       [1685.199951],\n",
              "       [1667.699951],\n",
              "       [1688.699951],\n",
              "       [1543.949951],\n",
              "       [1618.699951],\n",
              "       [1644.449951],\n",
              "       [1641.800049],\n",
              "       [1643.800049],\n",
              "       [1615.      ],\n",
              "       [1564.050049],\n",
              "       [1601.599976],\n",
              "       [1656.550049],\n",
              "       [1742.849976],\n",
              "       [1734.099976],\n",
              "       [1736.099976],\n",
              "       [1701.400024],\n",
              "       [1758.      ],\n",
              "       [1819.650024],\n",
              "       [1802.949951],\n",
              "       [1831.550049],\n",
              "       [1811.      ],\n",
              "       [1832.800049],\n",
              "       [1867.      ],\n",
              "       [1909.699951],\n",
              "       [1917.25    ],\n",
              "       [1995.25    ],\n",
              "       [2014.75    ],\n",
              "       [2043.650024],\n",
              "       [2065.850098],\n",
              "       [2139.850098],\n",
              "       [2160.      ],\n",
              "       [2099.050049],\n",
              "       [2170.949951],\n",
              "       [2180.199951],\n",
              "       [2196.949951],\n",
              "       [2199.449951],\n",
              "       [2233.850098],\n",
              "       [2168.300049],\n",
              "       [2183.949951],\n",
              "       [2286.350098],\n",
              "       [2273.300049],\n",
              "       [2284.199951],\n",
              "       [2395.300049],\n",
              "       [2334.100098],\n",
              "       [2378.550049],\n",
              "       [2332.      ],\n",
              "       [2339.5     ],\n",
              "       [2253.800049],\n",
              "       [2255.399902],\n",
              "       [2247.699951],\n",
              "       [2197.649902],\n",
              "       [2109.5     ],\n",
              "       [2119.300049],\n",
              "       [2045.199951],\n",
              "       [2054.149902],\n",
              "       [2105.899902],\n",
              "       [2184.850098],\n",
              "       [2181.100098],\n",
              "       [2114.75    ],\n",
              "       [2219.550049],\n",
              "       [2170.649902],\n",
              "       [2160.199951],\n",
              "       [2074.149902],\n",
              "       [2046.400024],\n",
              "       [2080.149902],\n",
              "       [2165.649902],\n",
              "       [2167.550049],\n",
              "       [2150.899902],\n",
              "       [2209.399902],\n",
              "       [2190.      ],\n",
              "       [2225.050049],\n",
              "       [2227.550049],\n",
              "       [2177.199951],\n",
              "       [2219.199951],\n",
              "       [2203.100098],\n",
              "       [2079.75    ],\n",
              "       [2196.449951],\n",
              "       [2184.600098],\n",
              "       [2083.      ],\n",
              "       [2095.800049],\n",
              "       [2079.850098],\n",
              "       [2161.800049],\n",
              "       [2089.199951],\n",
              "       [2110.350098],\n",
              "       [2161.449951],\n",
              "       [2181.600098],\n",
              "       [2204.600098],\n",
              "       [2220.100098],\n",
              "       [2190.899902],\n",
              "       [2232.199951],\n",
              "       [2261.850098],\n",
              "       [2246.449951],\n",
              "       [2272.850098],\n",
              "       [2274.300049],\n",
              "       [2293.050049],\n",
              "       [2373.25    ],\n",
              "       [2365.649902],\n",
              "       [2353.5     ],\n",
              "       [2383.100098],\n",
              "       [2405.25    ],\n",
              "       [2423.600098],\n",
              "       [2451.300049],\n",
              "       [2451.100098],\n",
              "       [2495.5     ],\n",
              "       [2499.399902],\n",
              "       [2550.600098],\n",
              "       [2559.699951],\n",
              "       [2548.699951],\n",
              "       [2550.399902],\n",
              "       [2569.199951],\n",
              "       [2660.149902],\n",
              "       [2683.649902],\n",
              "       [2711.399902],\n",
              "       [2723.600098],\n",
              "       [2698.399902],\n",
              "       [2791.899902],\n",
              "       [2827.199951],\n",
              "       [2834.050049],\n",
              "       [2864.550049],\n",
              "       [2975.850098],\n",
              "       [3008.649902],\n",
              "       [3153.649902],\n",
              "       [3130.199951],\n",
              "       [3051.600098],\n",
              "       [3030.649902],\n",
              "       [3134.649902],\n",
              "       [3066.350098],\n",
              "       [3139.550049],\n",
              "       [3142.600098],\n",
              "       [3194.350098],\n",
              "       [3233.25    ],\n",
              "       [3355.800049],\n",
              "       [3346.550049],\n",
              "       [3435.800049],\n",
              "       [3473.75    ],\n",
              "       [3462.800049],\n",
              "       [3451.199951],\n",
              "       [3463.800049],\n",
              "       [3555.800049],\n",
              "       [3572.100098],\n",
              "       [3748.699951],\n",
              "       [3702.199951],\n",
              "       [3778.649902],\n",
              "       [3834.550049],\n",
              "       [3640.100098],\n",
              "       [3716.300049],\n",
              "       [3674.300049],\n",
              "       [3586.199951],\n",
              "       [3559.100098],\n",
              "       [3548.75    ],\n",
              "       [3470.699951],\n",
              "       [3455.75    ],\n",
              "       [3157.300049],\n",
              "       [3237.699951],\n",
              "       [3285.      ],\n",
              "       [3277.600098]])"
            ]
          },
          "metadata": {},
          "execution_count": 151
        }
      ]
    },
    {
      "cell_type": "code",
      "source": [
        "full_data = pd.DataFrame(np.concatenate((df_array.flatten(),forecast.flatten())))"
      ],
      "metadata": {
        "id": "gMZJN61Wb-Rf"
      },
      "execution_count": null,
      "outputs": []
    },
    {
      "cell_type": "code",
      "source": [
        "\n",
        "full_data.plot(figsize=(20,16))\n"
      ],
      "metadata": {
        "colab": {
          "base_uri": "https://localhost:8080/",
          "height": 935
        },
        "id": "B-SbQBaFcNj0",
        "outputId": "815ba6a1-e836-44af-83c3-c39fed5464c2"
      },
      "execution_count": null,
      "outputs": [
        {
          "output_type": "execute_result",
          "data": {
            "text/plain": [
              "<matplotlib.axes._subplots.AxesSubplot at 0x7f9be634ff50>"
            ]
          },
          "metadata": {},
          "execution_count": 153
        },
        {
          "output_type": "display_data",
          "data": {
            "text/plain": [
              "<Figure size 1440x1152 with 1 Axes>"
            ],
            "image/png": "[encoded data removed]"
          },
          "metadata": {
            "needs_background": "light"
          }
        }
      ]
    },
    {
      "cell_type": "code",
      "source": [
        "df.Close.plot(figsize=(20,16))\n"
      ],
      "metadata": {
        "colab": {
          "base_uri": "https://localhost:8080/",
          "height": 935
        },
        "id": "fhQkYGkZcjJM",
        "outputId": "e8db783c-bc88-4ff8-bf1d-f2677514146b"
      },
      "execution_count": null,
      "outputs": [
        {
          "output_type": "execute_result",
          "data": {
            "text/plain": [
              "<matplotlib.axes._subplots.AxesSubplot at 0x7f9be6333b50>"
            ]
          },
          "metadata": {},
          "execution_count": 154
        },
        {
          "output_type": "display_data",
          "data": {
            "text/plain": [
              "<Figure size 1440x1152 with 1 Axes>"
            ],
            "image/png": "[encoded data removed]"
          },
          "metadata": {
            "needs_background": "light"
          }
        }
      ]
    },
    {
      "cell_type": "code",
      "source": [],
      "metadata": {
        "id": "-pCGmC7mds2U"
      },
      "execution_count": null,
      "outputs": []
    },
    {
      "cell_type": "markdown",
      "source": [
        "LSTM MODEL\n"
      ],
      "metadata": {
        "id": "zcdudSCEjxwC"
      }
    },
    {
      "cell_type": "code",
      "source": [
        "from tensorflow.keras.callbacks import EarlyStopping\n",
        "early_stop = EarlyStopping(monitor='val_loss',patience=2)"
      ],
      "metadata": {
        "id": "VqKpnSTGi6Cv"
      },
      "execution_count": null,
      "outputs": []
    },
    {
      "cell_type": "code",
      "source": [
        "scaled_test.shape"
      ],
      "metadata": {
        "colab": {
          "base_uri": "https://localhost:8080/"
        },
        "id": "ajWoPqOkkBkN",
        "outputId": "f4cd5800-b590-439a-8caf-dff2e6495bee"
      },
      "execution_count": null,
      "outputs": [
        {
          "output_type": "execute_result",
          "data": {
            "text/plain": [
              "(16, 1)"
            ]
          },
          "metadata": {},
          "execution_count": 156
        }
      ]
    },
    {
      "cell_type": "code",
      "source": [
        "length = 15\n",
        "\n",
        "generator = TimeseriesGenerator(scaled_train,scaled_train,\n",
        "                                length=length, batch_size=32)\n",
        "validation_generator = TimeseriesGenerator(scaled_test,scaled_test,\n",
        "                                           length=length, batch_size=32)"
      ],
      "metadata": {
        "id": "kUTjmjfpkEuA"
      },
      "execution_count": null,
      "outputs": []
    },
    {
      "cell_type": "code",
      "source": [
        "model = Sequential()\n",
        "\n",
        "model.add(LSTM(30,input_shape=(length,n_features)))\n",
        "model.add(Dropout(rate=0.2))\n",
        "\n",
        "model.add(Dense(1))\n",
        "\n",
        "model.compile(optimizer='adam',loss='mse')"
      ],
      "metadata": {
        "id": "eqMkEo5QlDlS"
      },
      "execution_count": null,
      "outputs": []
    },
    {
      "cell_type": "code",
      "source": [
        "model.fit_generator(generator,epochs=20,\n",
        "                    validation_data=validation_generator,\n",
        "                    callbacks=[early_stop],shuffle=False)"
      ],
      "metadata": {
        "colab": {
          "base_uri": "https://localhost:8080/"
        },
        "id": "Na5Qd21tlzZe",
        "outputId": "65f52662-4e90-4a4c-93d2-edce365350c7"
      },
      "execution_count": null,
      "outputs": [
        {
          "output_type": "stream",
          "name": "stdout",
          "text": [
            "Epoch 1/20\n"
          ]
        },
        {
          "output_type": "stream",
          "name": "stderr",
          "text": [
            "/usr/local/lib/python3.7/dist-packages/ipykernel_launcher.py:3: UserWarning: `Model.fit_generator` is deprecated and will be removed in a future version. Please use `Model.fit`, which supports generators.\n",
            "  This is separate from the ipykernel package so we can avoid doing imports until\n"
          ]
        },
        {
          "output_type": "stream",
          "name": "stdout",
          "text": [
            "7/7 [==============================] - 2s 69ms/step - loss: 0.1369 - val_loss: 0.5293\n",
            "Epoch 2/20\n",
            "7/7 [==============================] - 0s 9ms/step - loss: 0.0733 - val_loss: 0.2986\n",
            "Epoch 3/20\n",
            "7/7 [==============================] - 0s 9ms/step - loss: 0.0377 - val_loss: 0.1327\n",
            "Epoch 4/20\n",
            "7/7 [==============================] - 0s 9ms/step - loss: 0.0190 - val_loss: 0.0367\n",
            "Epoch 5/20\n",
            "7/7 [==============================] - 0s 9ms/step - loss: 0.0161 - val_loss: 0.0036\n",
            "Epoch 6/20\n",
            "7/7 [==============================] - 0s 9ms/step - loss: 0.0185 - val_loss: 6.8238e-05\n",
            "Epoch 7/20\n",
            "7/7 [==============================] - 0s 9ms/step - loss: 0.0187 - val_loss: 2.2163e-04\n",
            "Epoch 8/20\n",
            "7/7 [==============================] - 0s 9ms/step - loss: 0.0130 - val_loss: 5.9022e-04\n"
          ]
        },
        {
          "output_type": "execute_result",
          "data": {
            "text/plain": [
              "<keras.callbacks.History at 0x7f9be61ac890>"
            ]
          },
          "metadata": {},
          "execution_count": 159
        }
      ]
    },
    {
      "cell_type": "code",
      "source": [
        "losses = pd.DataFrame(model.history.history)\n",
        "losses.plot()"
      ],
      "metadata": {
        "colab": {
          "base_uri": "https://localhost:8080/",
          "height": 282
        },
        "id": "_kE5YtJmmGkm",
        "outputId": "ceb31da9-0fc9-4904-8037-7551cb0e023a"
      },
      "execution_count": null,
      "outputs": [
        {
          "output_type": "execute_result",
          "data": {
            "text/plain": [
              "<matplotlib.axes._subplots.AxesSubplot at 0x7f9be4442d90>"
            ]
          },
          "metadata": {},
          "execution_count": 160
        },
        {
          "output_type": "display_data",
          "data": {
            "text/plain": [
              "<Figure size 432x288 with 1 Axes>"
            ],
            "image/png": "[encoded data removed]"
          },
          "metadata": {
            "needs_background": "light"
          }
        }
      ]
    },
    {
      "cell_type": "code",
      "source": [
        "test_pred = []\n",
        "\n",
        "first_eval_batch = scaled_train[-length:]\n",
        "current_batch = first_eval_batch.reshape((1,length,n_features))\n",
        "\n",
        "for i in range(len(test)):\n",
        "  current_pred = model.predict(current_batch)[0]\n",
        "\n",
        "  test_pred.append(current_pred)\n",
        "\n",
        "  current_batch = np.append(current_batch[:,1:,:],[[current_pred]],axis=1)"
      ],
      "metadata": {
        "id": "r11e3mLBmmx5"
      },
      "execution_count": null,
      "outputs": []
    },
    {
      "cell_type": "code",
      "source": [
        "true_pred = scaler.inverse_transform(test_pred)\n",
        "test['LSTM_Pred'] = true_pred\n",
        "test.plot(figsize=(16,12))"
      ],
      "metadata": {
        "colab": {
          "base_uri": "https://localhost:8080/",
          "height": 821
        },
        "id": "bCx9bV4vnG2o",
        "outputId": "76b34561-503c-4fc3-d783-6d881d5fb0cd"
      },
      "execution_count": null,
      "outputs": [
        {
          "output_type": "stream",
          "name": "stderr",
          "text": [
            "/usr/local/lib/python3.7/dist-packages/ipykernel_launcher.py:2: SettingWithCopyWarning: \n",
            "A value is trying to be set on a copy of a slice from a DataFrame.\n",
            "Try using .loc[row_indexer,col_indexer] = value instead\n",
            "\n",
            "See the caveats in the documentation: https://pandas.pydata.org/pandas-docs/stable/user_guide/indexing.html#returning-a-view-versus-a-copy\n",
            "  \n"
          ]
        },
        {
          "output_type": "execute_result",
          "data": {
            "text/plain": [
              "<matplotlib.axes._subplots.AxesSubplot at 0x7f9be41f6450>"
            ]
          },
          "metadata": {},
          "execution_count": 162
        },
        {
          "output_type": "display_data",
          "data": {
            "text/plain": [
              "<Figure size 1152x864 with 1 Axes>"
            ],
            "image/png": "[encoded data removed]"
          },
          "metadata": {
            "needs_background": "light"
          }
        }
      ]
    },
    {
      "cell_type": "markdown",
      "source": [
        "FB Prophet\n"
      ],
      "metadata": {
        "id": "GMyv8-QtpeeB"
      }
    },
    {
      "cell_type": "code",
      "source": [
        "df.reset_index(inplace=True)"
      ],
      "metadata": {
        "id": "OE95SiCGne-9"
      },
      "execution_count": null,
      "outputs": []
    },
    {
      "cell_type": "code",
      "source": [
        "data = df[['Date','Close']]"
      ],
      "metadata": {
        "id": "5onEXBpFthEk"
      },
      "execution_count": null,
      "outputs": []
    },
    {
      "cell_type": "code",
      "source": [
        "data.head()"
      ],
      "metadata": {
        "colab": {
          "base_uri": "https://localhost:8080/",
          "height": 206
        },
        "id": "RkCkI5lotma-",
        "outputId": "93dcdb7f-646c-4cfa-836c-34f764621b9e"
      },
      "execution_count": null,
      "outputs": [
        {
          "output_type": "execute_result",
          "data": {
            "text/plain": [
              "        Date       Close\n",
              "0 2019-10-09  139.000000\n",
              "1 2019-10-10  137.399994\n",
              "2 2019-10-11  136.949997\n",
              "3 2019-10-14  147.100006\n",
              "4 2019-10-15  155.000000"
            ],
            "text/html": [
              "\n",
              "  <div id=\"df-8bd8d745-1f0e-47bf-8057-15d1efad84ce\">\n",
              "    <div class=\"colab-df-container\">\n",
              "      <div>\n",
              "<style scoped>\n",
              "    .dataframe tbody tr th:only-of-type {\n",
              "        vertical-align: middle;\n",
              "    }\n",
              "\n",
              "    .dataframe tbody tr th {\n",
              "        vertical-align: top;\n",
              "    }\n",
              "\n",
              "    .dataframe thead th {\n",
              "        text-align: right;\n",
              "    }\n",
              "</style>\n",
              "<table border=\"1\" class=\"dataframe\">\n",
              "  <thead>\n",
              "    <tr style=\"text-align: right;\">\n",
              "      <th></th>\n",
              "      <th>Date</th>\n",
              "      <th>Close</th>\n",
              "    </tr>\n",
              "  </thead>\n",
              "  <tbody>\n",
              "    <tr>\n",
              "      <th>0</th>\n",
              "      <td>2019-10-09</td>\n",
              "      <td>139.000000</td>\n",
              "    </tr>\n",
              "    <tr>\n",
              "      <th>1</th>\n",
              "      <td>2019-10-10</td>\n",
              "      <td>137.399994</td>\n",
              "    </tr>\n",
              "    <tr>\n",
              "      <th>2</th>\n",
              "      <td>2019-10-11</td>\n",
              "      <td>136.949997</td>\n",
              "    </tr>\n",
              "    <tr>\n",
              "      <th>3</th>\n",
              "      <td>2019-10-14</td>\n",
              "      <td>147.100006</td>\n",
              "    </tr>\n",
              "    <tr>\n",
              "      <th>4</th>\n",
              "      <td>2019-10-15</td>\n",
              "      <td>155.000000</td>\n",
              "    </tr>\n",
              "  </tbody>\n",
              "</table>\n",
              "</div>\n",
              "      <button class=\"colab-df-convert\" onclick=\"convertToInteractive('df-8bd8d745-1f0e-47bf-8057-15d1efad84ce')\"\n",
              "              title=\"Convert this dataframe to an interactive table.\"\n",
              "              style=\"display:none;\">\n",
              "        \n",
              "  <svg xmlns=\"http://www.w3.org/2000/svg\" height=\"24px\"viewBox=\"0 0 24 24\"\n",
              "       width=\"24px\">\n",
              "    <path d=\"M0 0h24v24H0V0z\" fill=\"none\"/>\n",
              "    <path d=\"M18.56 5.44l.94 2.06.94-2.06 2.06-.94-2.06-.94-.94-2.06-.94 2.06-2.06.94zm-11 1L8.5 8.5l.94-2.06 2.06-.94-2.06-.94L8.5 2.5l-.94 2.06-2.06.94zm10 10l.94 2.06.94-2.06 2.06-.94-2.06-.94-.94-2.06-.94 2.06-2.06.94z\"/><path d=\"M17.41 7.96l-1.37-1.37c-.4-.4-.92-.59-1.43-.59-.52 0-1.04.2-1.43.59L10.3 9.45l-7.72 7.72c-.78.78-.78 2.05 0 2.83L4 21.41c.39.39.9.59 1.41.59.51 0 1.02-.2 1.41-.59l7.78-7.78 2.81-2.81c.8-.78.8-2.07 0-2.86zM5.41 20L4 18.59l7.72-7.72 1.47 1.35L5.41 20z\"/>\n",
              "  </svg>\n",
              "      </button>\n",
              "      \n",
              "  <style>\n",
              "    .colab-df-container {\n",
              "      display:flex;\n",
              "      flex-wrap:wrap;\n",
              "      gap: 12px;\n",
              "    }\n",
              "\n",
              "    .colab-df-convert {\n",
              "      background-color: #E8F0FE;\n",
              "      border: none;\n",
              "      border-radius: 50%;\n",
              "      cursor: pointer;\n",
              "      display: none;\n",
              "      fill: #1967D2;\n",
              "      height: 32px;\n",
              "      padding: 0 0 0 0;\n",
              "      width: 32px;\n",
              "    }\n",
              "\n",
              "    .colab-df-convert:hover {\n",
              "      background-color: #E2EBFA;\n",
              "      box-shadow: 0px 1px 2px rgba(60, 64, 67, 0.3), 0px 1px 3px 1px rgba(60, 64, 67, 0.15);\n",
              "      fill: #174EA6;\n",
              "    }\n",
              "\n",
              "    [theme=dark] .colab-df-convert {\n",
              "      background-color: #3B4455;\n",
              "      fill: #D2E3FC;\n",
              "    }\n",
              "\n",
              "    [theme=dark] .colab-df-convert:hover {\n",
              "      background-color: #434B5C;\n",
              "      box-shadow: 0px 1px 3px 1px rgba(0, 0, 0, 0.15);\n",
              "      filter: drop-shadow(0px 1px 2px rgba(0, 0, 0, 0.3));\n",
              "      fill: #FFFFFF;\n",
              "    }\n",
              "  </style>\n",
              "\n",
              "      <script>\n",
              "        const buttonEl =\n",
              "          document.querySelector('#df-8bd8d745-1f0e-47bf-8057-15d1efad84ce button.colab-df-convert');\n",
              "        buttonEl.style.display =\n",
              "          google.colab.kernel.accessAllowed ? 'block' : 'none';\n",
              "\n",
              "        async function convertToInteractive(key) {\n",
              "          const element = document.querySelector('#df-8bd8d745-1f0e-47bf-8057-15d1efad84ce');\n",
              "          const dataTable =\n",
              "            await google.colab.kernel.invokeFunction('convertToInteractive',\n",
              "                                                     [key], {});\n",
              "          if (!dataTable) return;\n",
              "\n",
              "          const docLinkHtml = 'Like what you see? Visit the ' +\n",
              "            '<a target=\"_blank\" href=https://colab.research.google.com/notebooks/data_table.ipynb>data table notebook</a>'\n",
              "            + ' to learn more about interactive tables.';\n",
              "          element.innerHTML = '';\n",
              "          dataTable['output_type'] = 'display_data';\n",
              "          await google.colab.output.renderOutput(dataTable, element);\n",
              "          const docLink = document.createElement('div');\n",
              "          docLink.innerHTML = docLinkHtml;\n",
              "          element.appendChild(docLink);\n",
              "        }\n",
              "      </script>\n",
              "    </div>\n",
              "  </div>\n",
              "  "
            ]
          },
          "metadata": {},
          "execution_count": 165
        }
      ]
    },
    {
      "cell_type": "code",
      "source": [
        "data = data.rename(columns= {'Date':'ds','Close':'y'})"
      ],
      "metadata": {
        "id": "V-SwyYmAtnPP"
      },
      "execution_count": null,
      "outputs": []
    },
    {
      "cell_type": "code",
      "source": [
        "data.head()"
      ],
      "metadata": {
        "colab": {
          "base_uri": "https://localhost:8080/",
          "height": 206
        },
        "id": "W0aM8s5Xt0RW",
        "outputId": "95f87a7b-4046-4836-f540-38d637950346"
      },
      "execution_count": null,
      "outputs": [
        {
          "output_type": "execute_result",
          "data": {
            "text/plain": [
              "          ds           y\n",
              "0 2019-10-09  139.000000\n",
              "1 2019-10-10  137.399994\n",
              "2 2019-10-11  136.949997\n",
              "3 2019-10-14  147.100006\n",
              "4 2019-10-15  155.000000"
            ],
            "text/html": [
              "\n",
              "  <div id=\"df-6b58ab9c-1175-4b02-a180-23993fe165aa\">\n",
              "    <div class=\"colab-df-container\">\n",
              "      <div>\n",
              "<style scoped>\n",
              "    .dataframe tbody tr th:only-of-type {\n",
              "        vertical-align: middle;\n",
              "    }\n",
              "\n",
              "    .dataframe tbody tr th {\n",
              "        vertical-align: top;\n",
              "    }\n",
              "\n",
              "    .dataframe thead th {\n",
              "        text-align: right;\n",
              "    }\n",
              "</style>\n",
              "<table border=\"1\" class=\"dataframe\">\n",
              "  <thead>\n",
              "    <tr style=\"text-align: right;\">\n",
              "      <th></th>\n",
              "      <th>ds</th>\n",
              "      <th>y</th>\n",
              "    </tr>\n",
              "  </thead>\n",
              "  <tbody>\n",
              "    <tr>\n",
              "      <th>0</th>\n",
              "      <td>2019-10-09</td>\n",
              "      <td>139.000000</td>\n",
              "    </tr>\n",
              "    <tr>\n",
              "      <th>1</th>\n",
              "      <td>2019-10-10</td>\n",
              "      <td>137.399994</td>\n",
              "    </tr>\n",
              "    <tr>\n",
              "      <th>2</th>\n",
              "      <td>2019-10-11</td>\n",
              "      <td>136.949997</td>\n",
              "    </tr>\n",
              "    <tr>\n",
              "      <th>3</th>\n",
              "      <td>2019-10-14</td>\n",
              "      <td>147.100006</td>\n",
              "    </tr>\n",
              "    <tr>\n",
              "      <th>4</th>\n",
              "      <td>2019-10-15</td>\n",
              "      <td>155.000000</td>\n",
              "    </tr>\n",
              "  </tbody>\n",
              "</table>\n",
              "</div>\n",
              "      <button class=\"colab-df-convert\" onclick=\"convertToInteractive('df-6b58ab9c-1175-4b02-a180-23993fe165aa')\"\n",
              "              title=\"Convert this dataframe to an interactive table.\"\n",
              "              style=\"display:none;\">\n",
              "        \n",
              "  <svg xmlns=\"http://www.w3.org/2000/svg\" height=\"24px\"viewBox=\"0 0 24 24\"\n",
              "       width=\"24px\">\n",
              "    <path d=\"M0 0h24v24H0V0z\" fill=\"none\"/>\n",
              "    <path d=\"M18.56 5.44l.94 2.06.94-2.06 2.06-.94-2.06-.94-.94-2.06-.94 2.06-2.06.94zm-11 1L8.5 8.5l.94-2.06 2.06-.94-2.06-.94L8.5 2.5l-.94 2.06-2.06.94zm10 10l.94 2.06.94-2.06 2.06-.94-2.06-.94-.94-2.06-.94 2.06-2.06.94z\"/><path d=\"M17.41 7.96l-1.37-1.37c-.4-.4-.92-.59-1.43-.59-.52 0-1.04.2-1.43.59L10.3 9.45l-7.72 7.72c-.78.78-.78 2.05 0 2.83L4 21.41c.39.39.9.59 1.41.59.51 0 1.02-.2 1.41-.59l7.78-7.78 2.81-2.81c.8-.78.8-2.07 0-2.86zM5.41 20L4 18.59l7.72-7.72 1.47 1.35L5.41 20z\"/>\n",
              "  </svg>\n",
              "      </button>\n",
              "      \n",
              "  <style>\n",
              "    .colab-df-container {\n",
              "      display:flex;\n",
              "      flex-wrap:wrap;\n",
              "      gap: 12px;\n",
              "    }\n",
              "\n",
              "    .colab-df-convert {\n",
              "      background-color: #E8F0FE;\n",
              "      border: none;\n",
              "      border-radius: 50%;\n",
              "      cursor: pointer;\n",
              "      display: none;\n",
              "      fill: #1967D2;\n",
              "      height: 32px;\n",
              "      padding: 0 0 0 0;\n",
              "      width: 32px;\n",
              "    }\n",
              "\n",
              "    .colab-df-convert:hover {\n",
              "      background-color: #E2EBFA;\n",
              "      box-shadow: 0px 1px 2px rgba(60, 64, 67, 0.3), 0px 1px 3px 1px rgba(60, 64, 67, 0.15);\n",
              "      fill: #174EA6;\n",
              "    }\n",
              "\n",
              "    [theme=dark] .colab-df-convert {\n",
              "      background-color: #3B4455;\n",
              "      fill: #D2E3FC;\n",
              "    }\n",
              "\n",
              "    [theme=dark] .colab-df-convert:hover {\n",
              "      background-color: #434B5C;\n",
              "      box-shadow: 0px 1px 3px 1px rgba(0, 0, 0, 0.15);\n",
              "      filter: drop-shadow(0px 1px 2px rgba(0, 0, 0, 0.3));\n",
              "      fill: #FFFFFF;\n",
              "    }\n",
              "  </style>\n",
              "\n",
              "      <script>\n",
              "        const buttonEl =\n",
              "          document.querySelector('#df-6b58ab9c-1175-4b02-a180-23993fe165aa button.colab-df-convert');\n",
              "        buttonEl.style.display =\n",
              "          google.colab.kernel.accessAllowed ? 'block' : 'none';\n",
              "\n",
              "        async function convertToInteractive(key) {\n",
              "          const element = document.querySelector('#df-6b58ab9c-1175-4b02-a180-23993fe165aa');\n",
              "          const dataTable =\n",
              "            await google.colab.kernel.invokeFunction('convertToInteractive',\n",
              "                                                     [key], {});\n",
              "          if (!dataTable) return;\n",
              "\n",
              "          const docLinkHtml = 'Like what you see? Visit the ' +\n",
              "            '<a target=\"_blank\" href=https://colab.research.google.com/notebooks/data_table.ipynb>data table notebook</a>'\n",
              "            + ' to learn more about interactive tables.';\n",
              "          element.innerHTML = '';\n",
              "          dataTable['output_type'] = 'display_data';\n",
              "          await google.colab.output.renderOutput(dataTable, element);\n",
              "          const docLink = document.createElement('div');\n",
              "          docLink.innerHTML = docLinkHtml;\n",
              "          element.appendChild(docLink);\n",
              "        }\n",
              "      </script>\n",
              "    </div>\n",
              "  </div>\n",
              "  "
            ]
          },
          "metadata": {},
          "execution_count": 168
        }
      ]
    },
    {
      "cell_type": "code",
      "source": [
        "!pip install prophet"
      ],
      "metadata": {
        "colab": {
          "base_uri": "https://localhost:8080/"
        },
        "id": "hTzNQFNlt9Ci",
        "outputId": "ae928be8-e78e-4f67-d250-2af4b7dc742b"
      },
      "execution_count": null,
      "outputs": [
        {
          "output_type": "stream",
          "name": "stdout",
          "text": [
            "Looking in indexes: https://pypi.org/simple, https://us-python.pkg.dev/colab-wheels/public/simple/\n",
            "Requirement already satisfied: prophet in /usr/local/lib/python3.7/dist-packages (1.1.1)\n",
            "Requirement already satisfied: convertdate>=2.1.2 in /usr/local/lib/python3.7/dist-packages (from prophet) (2.4.0)\n",
            "Requirement already satisfied: setuptools-git>=1.2 in /usr/local/lib/python3.7/dist-packages (from prophet) (1.2)\n",
            "Requirement already satisfied: LunarCalendar>=0.0.9 in /usr/local/lib/python3.7/dist-packages (from prophet) (0.0.9)\n",
            "Requirement already satisfied: wheel>=0.37.0 in /usr/local/lib/python3.7/dist-packages (from prophet) (0.37.1)\n",
            "Requirement already satisfied: matplotlib>=2.0.0 in /usr/local/lib/python3.7/dist-packages (from prophet) (3.2.2)\n",
            "Requirement already satisfied: holidays>=0.14.2 in /usr/local/lib/python3.7/dist-packages (from prophet) (0.16)\n",
            "Requirement already satisfied: setuptools>=42 in /usr/local/lib/python3.7/dist-packages (from prophet) (57.4.0)\n",
            "Collecting cmdstanpy>=1.0.4\n",
            "  Downloading cmdstanpy-1.0.7-py3-none-any.whl (80 kB)\n",
            "\u001b[K     |████████████████████████████████| 80 kB 4.6 MB/s \n",
            "\u001b[?25hRequirement already satisfied: tqdm>=4.36.1 in /usr/local/lib/python3.7/dist-packages (from prophet) (4.64.1)\n",
            "Requirement already satisfied: python-dateutil>=2.8.0 in /usr/local/lib/python3.7/dist-packages (from prophet) (2.8.2)\n",
            "Requirement already satisfied: numpy>=1.15.4 in /usr/local/lib/python3.7/dist-packages (from prophet) (1.21.6)\n",
            "Requirement already satisfied: pandas>=1.0.4 in /usr/local/lib/python3.7/dist-packages (from prophet) (1.3.5)\n",
            "Requirement already satisfied: ujson in /usr/local/lib/python3.7/dist-packages (from cmdstanpy>=1.0.4->prophet) (5.5.0)\n",
            "Requirement already satisfied: pymeeus<=1,>=0.3.13 in /usr/local/lib/python3.7/dist-packages (from convertdate>=2.1.2->prophet) (0.5.11)\n",
            "Requirement already satisfied: hijri-converter in /usr/local/lib/python3.7/dist-packages (from holidays>=0.14.2->prophet) (2.2.4)\n",
            "Requirement already satisfied: korean-lunar-calendar in /usr/local/lib/python3.7/dist-packages (from holidays>=0.14.2->prophet) (0.3.1)\n",
            "Requirement already satisfied: ephem>=3.7.5.3 in /usr/local/lib/python3.7/dist-packages (from LunarCalendar>=0.0.9->prophet) (4.1.3)\n",
            "Requirement already satisfied: pytz in /usr/local/lib/python3.7/dist-packages (from LunarCalendar>=0.0.9->prophet) (2022.4)\n",
            "Requirement already satisfied: cycler>=0.10 in /usr/local/lib/python3.7/dist-packages (from matplotlib>=2.0.0->prophet) (0.11.0)\n",
            "Requirement already satisfied: pyparsing!=2.0.4,!=2.1.2,!=2.1.6,>=2.0.1 in /usr/local/lib/python3.7/dist-packages (from matplotlib>=2.0.0->prophet) (3.0.9)\n",
            "Requirement already satisfied: kiwisolver>=1.0.1 in /usr/local/lib/python3.7/dist-packages (from matplotlib>=2.0.0->prophet) (1.4.4)\n",
            "Requirement already satisfied: typing-extensions in /usr/local/lib/python3.7/dist-packages (from kiwisolver>=1.0.1->matplotlib>=2.0.0->prophet) (4.1.1)\n",
            "Requirement already satisfied: six>=1.5 in /usr/local/lib/python3.7/dist-packages (from python-dateutil>=2.8.0->prophet) (1.15.0)\n",
            "Installing collected packages: cmdstanpy\n",
            "  Attempting uninstall: cmdstanpy\n",
            "    Found existing installation: cmdstanpy 0.9.5\n",
            "    Uninstalling cmdstanpy-0.9.5:\n",
            "      Successfully uninstalled cmdstanpy-0.9.5\n",
            "Successfully installed cmdstanpy-1.0.7\n"
          ]
        }
      ]
    },
    {
      "cell_type": "code",
      "source": [
        "import fbprophet"
      ],
      "metadata": {
        "colab": {
          "base_uri": "https://localhost:8080/",
          "height": 304
        },
        "id": "B73eHIDDu9vN",
        "outputId": "c5b4aea1-c892-455e-ef93-b8a97666652f"
      },
      "execution_count": null,
      "outputs": [
        {
          "output_type": "error",
          "ename": "ModuleNotFoundError",
          "evalue": "ignored",
          "traceback": [
            "\u001b[0;31m---------------------------------------------------------------------------\u001b[0m",
            "\u001b[0;31mModuleNotFoundError\u001b[0m                       Traceback (most recent call last)",
            "\u001b[0;32m<ipython-input-182-4f89f47c1bda>\u001b[0m in \u001b[0;36m<module>\u001b[0;34m\u001b[0m\n\u001b[0;32m----> 1\u001b[0;31m \u001b[0;32mimport\u001b[0m \u001b[0mfbprophet\u001b[0m\u001b[0;34m\u001b[0m\u001b[0;34m\u001b[0m\u001b[0m\n\u001b[0m",
            "\u001b[0;31mModuleNotFoundError\u001b[0m: No module named 'fbprophet'",
            "",
            "\u001b[0;31m---------------------------------------------------------------------------\u001b[0;32m\nNOTE: If your import is failing due to a missing package, you can\nmanually install dependencies using either !pip or !apt.\n\nTo view examples of installing some common dependencies, click the\n\"Open Examples\" button below.\n\u001b[0;31m---------------------------------------------------------------------------\u001b[0m\n"
          ],
          "errorDetails": {
            "actions": [
              {
                "action": "open_url",
                "actionText": "Open Examples",
                "url": "/notebooks/snippets/importing_libraries.ipynb"
              }
            ]
          }
        }
      ]
    },
    {
      "cell_type": "code",
      "source": [
        "pip install --upgrade pystan"
      ],
      "metadata": {
        "colab": {
          "base_uri": "https://localhost:8080/"
        },
        "id": "mv-U3rwAvSj6",
        "outputId": "4d671d3f-38fe-4bec-ce01-028cdf9be3e0"
      },
      "execution_count": null,
      "outputs": [
        {
          "output_type": "stream",
          "name": "stdout",
          "text": [
            "Looking in indexes: https://pypi.org/simple, https://us-python.pkg.dev/colab-wheels/public/simple/\n",
            "Requirement already satisfied: pystan in /usr/local/lib/python3.7/dist-packages (2.19.1.1)\n",
            "Collecting pystan\n",
            "  Downloading pystan-3.3.0-py3-none-any.whl (13 kB)\n",
            "Requirement already satisfied: pysimdjson<4.0,>=3.2 in /usr/local/lib/python3.7/dist-packages (from pystan) (3.2.0)\n",
            "Requirement already satisfied: httpstan<4.7,>=4.6 in /usr/local/lib/python3.7/dist-packages (from pystan) (4.6.1)\n",
            "Requirement already satisfied: aiohttp<4.0,>=3.6 in /usr/local/lib/python3.7/dist-packages (from pystan) (3.8.3)\n",
            "Requirement already satisfied: clikit<0.7,>=0.6 in /usr/local/lib/python3.7/dist-packages (from pystan) (0.6.2)\n",
            "Requirement already satisfied: numpy<2.0,>=1.7 in /usr/local/lib/python3.7/dist-packages (from pystan) (1.21.6)\n",
            "Requirement already satisfied: charset-normalizer<3.0,>=2.0 in /usr/local/lib/python3.7/dist-packages (from aiohttp<4.0,>=3.6->pystan) (2.1.1)\n",
            "Requirement already satisfied: multidict<7.0,>=4.5 in /usr/local/lib/python3.7/dist-packages (from aiohttp<4.0,>=3.6->pystan) (6.0.2)\n",
            "Requirement already satisfied: attrs>=17.3.0 in /usr/local/lib/python3.7/dist-packages (from aiohttp<4.0,>=3.6->pystan) (22.1.0)\n",
            "Requirement already satisfied: aiosignal>=1.1.2 in /usr/local/lib/python3.7/dist-packages (from aiohttp<4.0,>=3.6->pystan) (1.2.0)\n",
            "Requirement already satisfied: asynctest==0.13.0 in /usr/local/lib/python3.7/dist-packages (from aiohttp<4.0,>=3.6->pystan) (0.13.0)\n",
            "Requirement already satisfied: yarl<2.0,>=1.0 in /usr/local/lib/python3.7/dist-packages (from aiohttp<4.0,>=3.6->pystan) (1.8.1)\n",
            "Requirement already satisfied: frozenlist>=1.1.1 in /usr/local/lib/python3.7/dist-packages (from aiohttp<4.0,>=3.6->pystan) (1.3.1)\n",
            "Requirement already satisfied: typing-extensions>=3.7.4 in /usr/local/lib/python3.7/dist-packages (from aiohttp<4.0,>=3.6->pystan) (4.1.1)\n",
            "Requirement already satisfied: async-timeout<5.0,>=4.0.0a3 in /usr/local/lib/python3.7/dist-packages (from aiohttp<4.0,>=3.6->pystan) (4.0.2)\n",
            "Requirement already satisfied: crashtest<0.4.0,>=0.3.0 in /usr/local/lib/python3.7/dist-packages (from clikit<0.7,>=0.6->pystan) (0.3.1)\n",
            "Requirement already satisfied: pastel<0.3.0,>=0.2.0 in /usr/local/lib/python3.7/dist-packages (from clikit<0.7,>=0.6->pystan) (0.2.1)\n",
            "Requirement already satisfied: pylev<2.0,>=1.3 in /usr/local/lib/python3.7/dist-packages (from clikit<0.7,>=0.6->pystan) (1.4.0)\n",
            "Requirement already satisfied: marshmallow<4.0,>=3.10 in /usr/local/lib/python3.7/dist-packages (from httpstan<4.7,>=4.6->pystan) (3.18.0)\n",
            "Requirement already satisfied: webargs<9.0,>=8.0 in /usr/local/lib/python3.7/dist-packages (from httpstan<4.7,>=4.6->pystan) (8.2.0)\n",
            "Requirement already satisfied: setuptools>=41.0 in /usr/local/lib/python3.7/dist-packages (from httpstan<4.7,>=4.6->pystan) (57.4.0)\n",
            "Requirement already satisfied: appdirs<2.0,>=1.4 in /usr/local/lib/python3.7/dist-packages (from httpstan<4.7,>=4.6->pystan) (1.4.4)\n",
            "Requirement already satisfied: packaging>=17.0 in /usr/local/lib/python3.7/dist-packages (from marshmallow<4.0,>=3.10->httpstan<4.7,>=4.6->pystan) (21.3)\n",
            "Requirement already satisfied: pyparsing!=3.0.5,>=2.0.2 in /usr/local/lib/python3.7/dist-packages (from packaging>=17.0->marshmallow<4.0,>=3.10->httpstan<4.7,>=4.6->pystan) (3.0.9)\n",
            "Requirement already satisfied: idna>=2.0 in /usr/local/lib/python3.7/dist-packages (from yarl<2.0,>=1.0->aiohttp<4.0,>=3.6->pystan) (2.10)\n",
            "Installing collected packages: pystan\n",
            "  Attempting uninstall: pystan\n",
            "    Found existing installation: pystan 2.19.1.1\n",
            "    Uninstalling pystan-2.19.1.1:\n",
            "      Successfully uninstalled pystan-2.19.1.1\n",
            "Successfully installed pystan-3.3.0\n"
          ]
        }
      ]
    },
    {
      "cell_type": "code",
      "source": [
        "pip install fbprophet"
      ],
      "metadata": {
        "colab": {
          "base_uri": "https://localhost:8080/"
        },
        "id": "YTK7tbw_vji8",
        "outputId": "2ee4ff4e-80e8-44cf-c421-142c548f4d06"
      },
      "execution_count": null,
      "outputs": [
        {
          "output_type": "stream",
          "name": "stdout",
          "text": [
            "Looking in indexes: https://pypi.org/simple, https://us-python.pkg.dev/colab-wheels/public/simple/\n",
            "Collecting fbprophet\n",
            "  Using cached fbprophet-0.7.1.tar.gz (64 kB)\n",
            "Requirement already satisfied: Cython>=0.22 in /usr/local/lib/python3.7/dist-packages (from fbprophet) (0.29.32)\n",
            "Collecting cmdstanpy==0.9.5\n",
            "  Using cached cmdstanpy-0.9.5-py3-none-any.whl (37 kB)\n",
            "Requirement already satisfied: pystan>=2.14 in /usr/local/lib/python3.7/dist-packages (from fbprophet) (3.3.0)\n",
            "Requirement already satisfied: numpy>=1.15.4 in /usr/local/lib/python3.7/dist-packages (from fbprophet) (1.21.6)\n",
            "Requirement already satisfied: pandas>=1.0.4 in /usr/local/lib/python3.7/dist-packages (from fbprophet) (1.3.5)\n",
            "Requirement already satisfied: matplotlib>=2.0.0 in /usr/local/lib/python3.7/dist-packages (from fbprophet) (3.2.2)\n",
            "Requirement already satisfied: LunarCalendar>=0.0.9 in /usr/local/lib/python3.7/dist-packages (from fbprophet) (0.0.9)\n",
            "Requirement already satisfied: convertdate>=2.1.2 in /usr/local/lib/python3.7/dist-packages (from fbprophet) (2.4.0)\n",
            "Requirement already satisfied: holidays>=0.10.2 in /usr/local/lib/python3.7/dist-packages (from fbprophet) (0.16)\n",
            "Requirement already satisfied: setuptools-git>=1.2 in /usr/local/lib/python3.7/dist-packages (from fbprophet) (1.2)\n",
            "Requirement already satisfied: python-dateutil>=2.8.0 in /usr/local/lib/python3.7/dist-packages (from fbprophet) (2.8.2)\n",
            "Requirement already satisfied: tqdm>=4.36.1 in /usr/local/lib/python3.7/dist-packages (from fbprophet) (4.64.1)\n",
            "Requirement already satisfied: pymeeus<=1,>=0.3.13 in /usr/local/lib/python3.7/dist-packages (from convertdate>=2.1.2->fbprophet) (0.5.11)\n",
            "Requirement already satisfied: hijri-converter in /usr/local/lib/python3.7/dist-packages (from holidays>=0.10.2->fbprophet) (2.2.4)\n",
            "Requirement already satisfied: korean-lunar-calendar in /usr/local/lib/python3.7/dist-packages (from holidays>=0.10.2->fbprophet) (0.3.1)\n",
            "Requirement already satisfied: ephem>=3.7.5.3 in /usr/local/lib/python3.7/dist-packages (from LunarCalendar>=0.0.9->fbprophet) (4.1.3)\n",
            "Requirement already satisfied: pytz in /usr/local/lib/python3.7/dist-packages (from LunarCalendar>=0.0.9->fbprophet) (2022.4)\n",
            "Requirement already satisfied: kiwisolver>=1.0.1 in /usr/local/lib/python3.7/dist-packages (from matplotlib>=2.0.0->fbprophet) (1.4.4)\n",
            "Requirement already satisfied: cycler>=0.10 in /usr/local/lib/python3.7/dist-packages (from matplotlib>=2.0.0->fbprophet) (0.11.0)\n",
            "Requirement already satisfied: pyparsing!=2.0.4,!=2.1.2,!=2.1.6,>=2.0.1 in /usr/local/lib/python3.7/dist-packages (from matplotlib>=2.0.0->fbprophet) (3.0.9)\n",
            "Requirement already satisfied: typing-extensions in /usr/local/lib/python3.7/dist-packages (from kiwisolver>=1.0.1->matplotlib>=2.0.0->fbprophet) (4.1.1)\n",
            "Requirement already satisfied: clikit<0.7,>=0.6 in /usr/local/lib/python3.7/dist-packages (from pystan>=2.14->fbprophet) (0.6.2)\n",
            "Requirement already satisfied: httpstan<4.7,>=4.6 in /usr/local/lib/python3.7/dist-packages (from pystan>=2.14->fbprophet) (4.6.1)\n",
            "Requirement already satisfied: pysimdjson<4.0,>=3.2 in /usr/local/lib/python3.7/dist-packages (from pystan>=2.14->fbprophet) (3.2.0)\n",
            "Requirement already satisfied: aiohttp<4.0,>=3.6 in /usr/local/lib/python3.7/dist-packages (from pystan>=2.14->fbprophet) (3.8.3)\n",
            "Requirement already satisfied: multidict<7.0,>=4.5 in /usr/local/lib/python3.7/dist-packages (from aiohttp<4.0,>=3.6->pystan>=2.14->fbprophet) (6.0.2)\n",
            "Requirement already satisfied: aiosignal>=1.1.2 in /usr/local/lib/python3.7/dist-packages (from aiohttp<4.0,>=3.6->pystan>=2.14->fbprophet) (1.2.0)\n",
            "Requirement already satisfied: yarl<2.0,>=1.0 in /usr/local/lib/python3.7/dist-packages (from aiohttp<4.0,>=3.6->pystan>=2.14->fbprophet) (1.8.1)\n",
            "Requirement already satisfied: charset-normalizer<3.0,>=2.0 in /usr/local/lib/python3.7/dist-packages (from aiohttp<4.0,>=3.6->pystan>=2.14->fbprophet) (2.1.1)\n",
            "Requirement already satisfied: async-timeout<5.0,>=4.0.0a3 in /usr/local/lib/python3.7/dist-packages (from aiohttp<4.0,>=3.6->pystan>=2.14->fbprophet) (4.0.2)\n",
            "Requirement already satisfied: attrs>=17.3.0 in /usr/local/lib/python3.7/dist-packages (from aiohttp<4.0,>=3.6->pystan>=2.14->fbprophet) (22.1.0)\n",
            "Requirement already satisfied: frozenlist>=1.1.1 in /usr/local/lib/python3.7/dist-packages (from aiohttp<4.0,>=3.6->pystan>=2.14->fbprophet) (1.3.1)\n",
            "Requirement already satisfied: asynctest==0.13.0 in /usr/local/lib/python3.7/dist-packages (from aiohttp<4.0,>=3.6->pystan>=2.14->fbprophet) (0.13.0)\n",
            "Requirement already satisfied: pastel<0.3.0,>=0.2.0 in /usr/local/lib/python3.7/dist-packages (from clikit<0.7,>=0.6->pystan>=2.14->fbprophet) (0.2.1)\n",
            "Requirement already satisfied: pylev<2.0,>=1.3 in /usr/local/lib/python3.7/dist-packages (from clikit<0.7,>=0.6->pystan>=2.14->fbprophet) (1.4.0)\n",
            "Requirement already satisfied: crashtest<0.4.0,>=0.3.0 in /usr/local/lib/python3.7/dist-packages (from clikit<0.7,>=0.6->pystan>=2.14->fbprophet) (0.3.1)\n",
            "Requirement already satisfied: webargs<9.0,>=8.0 in /usr/local/lib/python3.7/dist-packages (from httpstan<4.7,>=4.6->pystan>=2.14->fbprophet) (8.2.0)\n",
            "Requirement already satisfied: setuptools>=41.0 in /usr/local/lib/python3.7/dist-packages (from httpstan<4.7,>=4.6->pystan>=2.14->fbprophet) (57.4.0)\n",
            "Requirement already satisfied: appdirs<2.0,>=1.4 in /usr/local/lib/python3.7/dist-packages (from httpstan<4.7,>=4.6->pystan>=2.14->fbprophet) (1.4.4)\n",
            "Requirement already satisfied: marshmallow<4.0,>=3.10 in /usr/local/lib/python3.7/dist-packages (from httpstan<4.7,>=4.6->pystan>=2.14->fbprophet) (3.18.0)\n",
            "Requirement already satisfied: packaging>=17.0 in /usr/local/lib/python3.7/dist-packages (from marshmallow<4.0,>=3.10->httpstan<4.7,>=4.6->pystan>=2.14->fbprophet) (21.3)\n",
            "Requirement already satisfied: six>=1.5 in /usr/local/lib/python3.7/dist-packages (from python-dateutil>=2.8.0->fbprophet) (1.15.0)\n",
            "Requirement already satisfied: idna>=2.0 in /usr/local/lib/python3.7/dist-packages (from yarl<2.0,>=1.0->aiohttp<4.0,>=3.6->pystan>=2.14->fbprophet) (2.10)\n",
            "Building wheels for collected packages: fbprophet\n",
            "  Building wheel for fbprophet (setup.py) ... \u001b[?25lerror\n",
            "\u001b[31m  ERROR: Failed building wheel for fbprophet\u001b[0m\n",
            "\u001b[?25h  Running setup.py clean for fbprophet\n",
            "Failed to build fbprophet\n",
            "Installing collected packages: cmdstanpy, fbprophet\n",
            "  Attempting uninstall: cmdstanpy\n",
            "    Found existing installation: cmdstanpy 1.0.7\n",
            "    Uninstalling cmdstanpy-1.0.7:\n",
            "      Successfully uninstalled cmdstanpy-1.0.7\n",
            "    Running setup.py install for fbprophet ... \u001b[?25l\u001b[?25herror\n",
            "\u001b[31mERROR: Command errored out with exit status 1: /usr/bin/python3 -u -c 'import io, os, sys, setuptools, tokenize; sys.argv[0] = '\"'\"'/tmp/pip-install-n746s8iz/fbprophet_fc0c4ba614ea4f96b93c03e9e4343fc3/setup.py'\"'\"'; __file__='\"'\"'/tmp/pip-install-n746s8iz/fbprophet_fc0c4ba614ea4f96b93c03e9e4343fc3/setup.py'\"'\"';f = getattr(tokenize, '\"'\"'open'\"'\"', open)(__file__) if os.path.exists(__file__) else io.StringIO('\"'\"'from setuptools import setup; setup()'\"'\"');code = f.read().replace('\"'\"'\\r\\n'\"'\"', '\"'\"'\\n'\"'\"');f.close();exec(compile(code, __file__, '\"'\"'exec'\"'\"'))' install --record /tmp/pip-record-kkb01xmv/install-record.txt --single-version-externally-managed --compile --install-headers /usr/local/include/python3.7/fbprophet Check the logs for full command output.\u001b[0m\n"
          ]
        }
      ]
    },
    {
      "cell_type": "code",
      "source": [
        "pip uninstall fbprophet pystan"
      ],
      "metadata": {
        "colab": {
          "base_uri": "https://localhost:8080/"
        },
        "id": "mlN-YpUwv33S",
        "outputId": "c257c2cd-b04b-4fa5-b2fd-265a248772ad"
      },
      "execution_count": null,
      "outputs": [
        {
          "output_type": "stream",
          "name": "stdout",
          "text": [
            "\u001b[33mWARNING: Skipping fbprophet as it is not installed.\u001b[0m\n",
            "Found existing installation: pystan 3.3.0\n",
            "Uninstalling pystan-3.3.0:\n",
            "  Would remove:\n",
            "    /usr/local/lib/python3.7/dist-packages/pystan-3.3.0.dist-info/*\n",
            "    /usr/local/lib/python3.7/dist-packages/stan/*\n",
            "Proceed (y/n)? y\n",
            "  Successfully uninstalled pystan-3.3.0\n"
          ]
        }
      ]
    },
    {
      "cell_type": "code",
      "source": [
        "pip install pystan "
      ],
      "metadata": {
        "colab": {
          "base_uri": "https://localhost:8080/"
        },
        "id": "SsiP_A7owQK-",
        "outputId": "69dfb6af-c995-4acc-8f49-d3a3e7ddb70e"
      },
      "execution_count": null,
      "outputs": [
        {
          "output_type": "stream",
          "name": "stdout",
          "text": [
            "Looking in indexes: https://pypi.org/simple, https://us-python.pkg.dev/colab-wheels/public/simple/\n",
            "Collecting pystan\n",
            "  Using cached pystan-3.3.0-py3-none-any.whl (13 kB)\n",
            "Requirement already satisfied: numpy<2.0,>=1.7 in /usr/local/lib/python3.7/dist-packages (from pystan) (1.21.6)\n",
            "Requirement already satisfied: clikit<0.7,>=0.6 in /usr/local/lib/python3.7/dist-packages (from pystan) (0.6.2)\n",
            "Requirement already satisfied: httpstan<4.7,>=4.6 in /usr/local/lib/python3.7/dist-packages (from pystan) (4.6.1)\n",
            "Requirement already satisfied: pysimdjson<4.0,>=3.2 in /usr/local/lib/python3.7/dist-packages (from pystan) (3.2.0)\n",
            "Requirement already satisfied: aiohttp<4.0,>=3.6 in /usr/local/lib/python3.7/dist-packages (from pystan) (3.8.3)\n",
            "Requirement already satisfied: multidict<7.0,>=4.5 in /usr/local/lib/python3.7/dist-packages (from aiohttp<4.0,>=3.6->pystan) (6.0.2)\n",
            "Requirement already satisfied: frozenlist>=1.1.1 in /usr/local/lib/python3.7/dist-packages (from aiohttp<4.0,>=3.6->pystan) (1.3.1)\n",
            "Requirement already satisfied: typing-extensions>=3.7.4 in /usr/local/lib/python3.7/dist-packages (from aiohttp<4.0,>=3.6->pystan) (4.1.1)\n",
            "Requirement already satisfied: yarl<2.0,>=1.0 in /usr/local/lib/python3.7/dist-packages (from aiohttp<4.0,>=3.6->pystan) (1.8.1)\n",
            "Requirement already satisfied: attrs>=17.3.0 in /usr/local/lib/python3.7/dist-packages (from aiohttp<4.0,>=3.6->pystan) (22.1.0)\n",
            "Requirement already satisfied: aiosignal>=1.1.2 in /usr/local/lib/python3.7/dist-packages (from aiohttp<4.0,>=3.6->pystan) (1.2.0)\n",
            "Requirement already satisfied: async-timeout<5.0,>=4.0.0a3 in /usr/local/lib/python3.7/dist-packages (from aiohttp<4.0,>=3.6->pystan) (4.0.2)\n",
            "Requirement already satisfied: asynctest==0.13.0 in /usr/local/lib/python3.7/dist-packages (from aiohttp<4.0,>=3.6->pystan) (0.13.0)\n",
            "Requirement already satisfied: charset-normalizer<3.0,>=2.0 in /usr/local/lib/python3.7/dist-packages (from aiohttp<4.0,>=3.6->pystan) (2.1.1)\n",
            "Requirement already satisfied: pastel<0.3.0,>=0.2.0 in /usr/local/lib/python3.7/dist-packages (from clikit<0.7,>=0.6->pystan) (0.2.1)\n",
            "Requirement already satisfied: crashtest<0.4.0,>=0.3.0 in /usr/local/lib/python3.7/dist-packages (from clikit<0.7,>=0.6->pystan) (0.3.1)\n",
            "Requirement already satisfied: pylev<2.0,>=1.3 in /usr/local/lib/python3.7/dist-packages (from clikit<0.7,>=0.6->pystan) (1.4.0)\n",
            "Requirement already satisfied: appdirs<2.0,>=1.4 in /usr/local/lib/python3.7/dist-packages (from httpstan<4.7,>=4.6->pystan) (1.4.4)\n",
            "Requirement already satisfied: webargs<9.0,>=8.0 in /usr/local/lib/python3.7/dist-packages (from httpstan<4.7,>=4.6->pystan) (8.2.0)\n",
            "Requirement already satisfied: setuptools>=41.0 in /usr/local/lib/python3.7/dist-packages (from httpstan<4.7,>=4.6->pystan) (57.4.0)\n",
            "Requirement already satisfied: marshmallow<4.0,>=3.10 in /usr/local/lib/python3.7/dist-packages (from httpstan<4.7,>=4.6->pystan) (3.18.0)\n",
            "Requirement already satisfied: packaging>=17.0 in /usr/local/lib/python3.7/dist-packages (from marshmallow<4.0,>=3.10->httpstan<4.7,>=4.6->pystan) (21.3)\n",
            "Requirement already satisfied: pyparsing!=3.0.5,>=2.0.2 in /usr/local/lib/python3.7/dist-packages (from packaging>=17.0->marshmallow<4.0,>=3.10->httpstan<4.7,>=4.6->pystan) (3.0.9)\n",
            "Requirement already satisfied: idna>=2.0 in /usr/local/lib/python3.7/dist-packages (from yarl<2.0,>=1.0->aiohttp<4.0,>=3.6->pystan) (2.10)\n",
            "Installing collected packages: pystan\n",
            "Successfully installed pystan-3.3.0\n"
          ]
        }
      ]
    },
    {
      "cell_type": "code",
      "source": [
        "from prophet import Prophet"
      ],
      "metadata": {
        "id": "ngEi3veTwg-u"
      },
      "execution_count": null,
      "outputs": []
    },
    {
      "cell_type": "code",
      "source": [
        "m = Prophet(changepoint_prior_scale=0.15,daily_seasonality=True)\n",
        "m.fit(data)"
      ],
      "metadata": {
        "colab": {
          "base_uri": "https://localhost:8080/"
        },
        "id": "d_MzUuocwwrH",
        "outputId": "32b32bfb-e7b6-4112-99fc-954bfbb77262"
      },
      "execution_count": null,
      "outputs": [
        {
          "output_type": "execute_result",
          "data": {
            "text/plain": [
              "<prophet.forecaster.Prophet at 0x7f9bd764b450>"
            ]
          },
          "metadata": {},
          "execution_count": 191
        }
      ]
    },
    {
      "cell_type": "code",
      "source": [
        "future = m.make_future_dataframe(periods=21)\n",
        "prediction = m.predict(future)\n",
        "m.plot(prediction)\n",
        "plt.title(\"Prediction\")\n",
        "plt.xlabel('Date')\n",
        "plt.ylabel('Close Stock Price')\n",
        "plt.show()"
      ],
      "metadata": {
        "colab": {
          "base_uri": "https://localhost:8080/",
          "height": 457
        },
        "id": "Iio57yHBxBNU",
        "outputId": "e2393e3c-659a-4a05-ca89-ed8413a301ae"
      },
      "execution_count": null,
      "outputs": [
        {
          "output_type": "display_data",
          "data": {
            "text/plain": [
              "<Figure size 720x432 with 1 Axes>"
            ],
            "image/png": "[encoded data removed]"
          },
          "metadata": {}
        }
      ]
    },
    {
      "cell_type": "code",
      "source": [
        "m.plot_components(prediction)"
      ],
      "metadata": {
        "colab": {
          "base_uri": "https://localhost:8080/",
          "height": 1000
        },
        "id": "6ZQCNIsQxby2",
        "outputId": "a41cbba1-32b6-4437-f48b-957b1e49b8cb"
      },
      "execution_count": null,
      "outputs": [
        {
          "output_type": "execute_result",
          "data": {
            "text/plain": [
              "<Figure size 648x864 with 4 Axes>"
            ],
            "image/png": "[encoded data removed]"
          },
          "metadata": {},
          "execution_count": 193
        },
        {
          "output_type": "display_data",
          "data": {
            "text/plain": [
              "<Figure size 648x864 with 4 Axes>"
            ],
            "image/png": "[encoded data removed]"
          },
          "metadata": {}
        }
      ]
    },
    {
      "cell_type": "code",
      "source": [],
      "metadata": {
        "id": "23oJaJSkx15p"
      },
      "execution_count": null,
      "outputs": []
    }
  ]
}